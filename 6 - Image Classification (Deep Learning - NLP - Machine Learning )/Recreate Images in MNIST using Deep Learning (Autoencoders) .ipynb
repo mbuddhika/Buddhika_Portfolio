{
 "cells": [
  {
   "cell_type": "markdown",
   "metadata": {
    "id": "pk3DAA90Lgc4"
   },
   "source": [
    "<a id=\"ref6\"></a>\n",
    "\n",
    "<h2>Code</h2>\n",
    "\n",
    "I am going to use the MNIST dataset for my example.\n"
   ]
  },
  {
   "cell_type": "markdown",
   "metadata": {
    "id": "npIpitvELgc5"
   },
   "source": [
    "Let's call imports and make the MNIST data available to use.\n"
   ]
  },
  {
   "cell_type": "code",
   "execution_count": 1,
   "metadata": {
    "colab": {
     "base_uri": "https://localhost:8080/"
    },
    "id": "ivxCrg1pLgc5",
    "outputId": "5a543424-ce90-4c67-c1ea-7a6fe873bf17"
   },
   "outputs": [
    {
     "name": "stdout",
     "output_type": "stream",
     "text": [
      "Collecting tensorflow==2.2.0rc0\n",
      "  Downloading tensorflow-2.2.0rc0-cp37-cp37m-manylinux2010_x86_64.whl (515.9 MB)\n",
      "\u001b[K     |████████████████████████████████| 515.9 MB 20 kB/s \n",
      "\u001b[?25hRequirement already satisfied: wrapt>=1.11.1 in /usr/local/lib/python3.7/dist-packages (from tensorflow==2.2.0rc0) (1.13.3)\n",
      "Requirement already satisfied: numpy<2.0,>=1.16.0 in /usr/local/lib/python3.7/dist-packages (from tensorflow==2.2.0rc0) (1.19.5)\n",
      "Requirement already satisfied: grpcio>=1.8.6 in /usr/local/lib/python3.7/dist-packages (from tensorflow==2.2.0rc0) (1.43.0)\n",
      "Requirement already satisfied: protobuf>=3.8.0 in /usr/local/lib/python3.7/dist-packages (from tensorflow==2.2.0rc0) (3.17.3)\n",
      "Collecting tensorflow-estimator<2.2.0,>=2.1.0\n",
      "  Downloading tensorflow_estimator-2.1.0-py2.py3-none-any.whl (448 kB)\n",
      "\u001b[K     |████████████████████████████████| 448 kB 59.0 MB/s \n",
      "\u001b[?25hRequirement already satisfied: termcolor>=1.1.0 in /usr/local/lib/python3.7/dist-packages (from tensorflow==2.2.0rc0) (1.1.0)\n",
      "Requirement already satisfied: six>=1.12.0 in /usr/local/lib/python3.7/dist-packages (from tensorflow==2.2.0rc0) (1.15.0)\n",
      "Collecting h5py<2.11.0,>=2.10.0\n",
      "  Downloading h5py-2.10.0-cp37-cp37m-manylinux1_x86_64.whl (2.9 MB)\n",
      "\u001b[K     |████████████████████████████████| 2.9 MB 49.1 MB/s \n",
      "\u001b[?25hRequirement already satisfied: wheel>=0.26 in /usr/local/lib/python3.7/dist-packages (from tensorflow==2.2.0rc0) (0.37.1)\n",
      "Requirement already satisfied: google-pasta>=0.1.8 in /usr/local/lib/python3.7/dist-packages (from tensorflow==2.2.0rc0) (0.2.0)\n",
      "Requirement already satisfied: absl-py>=0.7.0 in /usr/local/lib/python3.7/dist-packages (from tensorflow==2.2.0rc0) (0.12.0)\n",
      "Requirement already satisfied: scipy==1.4.1 in /usr/local/lib/python3.7/dist-packages (from tensorflow==2.2.0rc0) (1.4.1)\n",
      "Collecting gast==0.3.3\n",
      "  Downloading gast-0.3.3-py2.py3-none-any.whl (9.7 kB)\n",
      "Requirement already satisfied: astunparse==1.6.3 in /usr/local/lib/python3.7/dist-packages (from tensorflow==2.2.0rc0) (1.6.3)\n",
      "Requirement already satisfied: opt-einsum>=2.3.2 in /usr/local/lib/python3.7/dist-packages (from tensorflow==2.2.0rc0) (3.3.0)\n",
      "Collecting tensorboard<2.2.0,>=2.1.0\n",
      "  Downloading tensorboard-2.1.1-py3-none-any.whl (3.8 MB)\n",
      "\u001b[K     |████████████████████████████████| 3.8 MB 52.0 MB/s \n",
      "\u001b[?25hRequirement already satisfied: keras-preprocessing>=1.1.0 in /usr/local/lib/python3.7/dist-packages (from tensorflow==2.2.0rc0) (1.1.2)\n",
      "Requirement already satisfied: werkzeug>=0.11.15 in /usr/local/lib/python3.7/dist-packages (from tensorboard<2.2.0,>=2.1.0->tensorflow==2.2.0rc0) (1.0.1)\n",
      "Requirement already satisfied: google-auth<2,>=1.6.3 in /usr/local/lib/python3.7/dist-packages (from tensorboard<2.2.0,>=2.1.0->tensorflow==2.2.0rc0) (1.35.0)\n",
      "Requirement already satisfied: requests<3,>=2.21.0 in /usr/local/lib/python3.7/dist-packages (from tensorboard<2.2.0,>=2.1.0->tensorflow==2.2.0rc0) (2.23.0)\n",
      "Requirement already satisfied: setuptools>=41.0.0 in /usr/local/lib/python3.7/dist-packages (from tensorboard<2.2.0,>=2.1.0->tensorflow==2.2.0rc0) (57.4.0)\n",
      "Requirement already satisfied: google-auth-oauthlib<0.5,>=0.4.1 in /usr/local/lib/python3.7/dist-packages (from tensorboard<2.2.0,>=2.1.0->tensorflow==2.2.0rc0) (0.4.6)\n",
      "Requirement already satisfied: markdown>=2.6.8 in /usr/local/lib/python3.7/dist-packages (from tensorboard<2.2.0,>=2.1.0->tensorflow==2.2.0rc0) (3.3.6)\n",
      "Requirement already satisfied: rsa<5,>=3.1.4 in /usr/local/lib/python3.7/dist-packages (from google-auth<2,>=1.6.3->tensorboard<2.2.0,>=2.1.0->tensorflow==2.2.0rc0) (4.8)\n",
      "Requirement already satisfied: pyasn1-modules>=0.2.1 in /usr/local/lib/python3.7/dist-packages (from google-auth<2,>=1.6.3->tensorboard<2.2.0,>=2.1.0->tensorflow==2.2.0rc0) (0.2.8)\n",
      "Requirement already satisfied: cachetools<5.0,>=2.0.0 in /usr/local/lib/python3.7/dist-packages (from google-auth<2,>=1.6.3->tensorboard<2.2.0,>=2.1.0->tensorflow==2.2.0rc0) (4.2.4)\n",
      "Requirement already satisfied: requests-oauthlib>=0.7.0 in /usr/local/lib/python3.7/dist-packages (from google-auth-oauthlib<0.5,>=0.4.1->tensorboard<2.2.0,>=2.1.0->tensorflow==2.2.0rc0) (1.3.0)\n",
      "Requirement already satisfied: importlib-metadata>=4.4 in /usr/local/lib/python3.7/dist-packages (from markdown>=2.6.8->tensorboard<2.2.0,>=2.1.0->tensorflow==2.2.0rc0) (4.10.0)\n",
      "Requirement already satisfied: zipp>=0.5 in /usr/local/lib/python3.7/dist-packages (from importlib-metadata>=4.4->markdown>=2.6.8->tensorboard<2.2.0,>=2.1.0->tensorflow==2.2.0rc0) (3.7.0)\n",
      "Requirement already satisfied: typing-extensions>=3.6.4 in /usr/local/lib/python3.7/dist-packages (from importlib-metadata>=4.4->markdown>=2.6.8->tensorboard<2.2.0,>=2.1.0->tensorflow==2.2.0rc0) (3.10.0.2)\n",
      "Requirement already satisfied: pyasn1<0.5.0,>=0.4.6 in /usr/local/lib/python3.7/dist-packages (from pyasn1-modules>=0.2.1->google-auth<2,>=1.6.3->tensorboard<2.2.0,>=2.1.0->tensorflow==2.2.0rc0) (0.4.8)\n",
      "Requirement already satisfied: certifi>=2017.4.17 in /usr/local/lib/python3.7/dist-packages (from requests<3,>=2.21.0->tensorboard<2.2.0,>=2.1.0->tensorflow==2.2.0rc0) (2021.10.8)\n",
      "Requirement already satisfied: idna<3,>=2.5 in /usr/local/lib/python3.7/dist-packages (from requests<3,>=2.21.0->tensorboard<2.2.0,>=2.1.0->tensorflow==2.2.0rc0) (2.10)\n",
      "Requirement already satisfied: chardet<4,>=3.0.2 in /usr/local/lib/python3.7/dist-packages (from requests<3,>=2.21.0->tensorboard<2.2.0,>=2.1.0->tensorflow==2.2.0rc0) (3.0.4)\n",
      "Requirement already satisfied: urllib3!=1.25.0,!=1.25.1,<1.26,>=1.21.1 in /usr/local/lib/python3.7/dist-packages (from requests<3,>=2.21.0->tensorboard<2.2.0,>=2.1.0->tensorflow==2.2.0rc0) (1.24.3)\n",
      "Requirement already satisfied: oauthlib>=3.0.0 in /usr/local/lib/python3.7/dist-packages (from requests-oauthlib>=0.7.0->google-auth-oauthlib<0.5,>=0.4.1->tensorboard<2.2.0,>=2.1.0->tensorflow==2.2.0rc0) (3.1.1)\n",
      "Installing collected packages: tensorflow-estimator, tensorboard, h5py, gast, tensorflow\n",
      "  Attempting uninstall: tensorflow-estimator\n",
      "    Found existing installation: tensorflow-estimator 2.7.0\n",
      "    Uninstalling tensorflow-estimator-2.7.0:\n",
      "      Successfully uninstalled tensorflow-estimator-2.7.0\n",
      "  Attempting uninstall: tensorboard\n",
      "    Found existing installation: tensorboard 2.7.0\n",
      "    Uninstalling tensorboard-2.7.0:\n",
      "      Successfully uninstalled tensorboard-2.7.0\n",
      "  Attempting uninstall: h5py\n",
      "    Found existing installation: h5py 3.1.0\n",
      "    Uninstalling h5py-3.1.0:\n",
      "      Successfully uninstalled h5py-3.1.0\n",
      "  Attempting uninstall: gast\n",
      "    Found existing installation: gast 0.4.0\n",
      "    Uninstalling gast-0.4.0:\n",
      "      Successfully uninstalled gast-0.4.0\n",
      "  Attempting uninstall: tensorflow\n",
      "    Found existing installation: tensorflow 2.7.0\n",
      "    Uninstalling tensorflow-2.7.0:\n",
      "      Successfully uninstalled tensorflow-2.7.0\n",
      "Successfully installed gast-0.3.3 h5py-2.10.0 tensorboard-2.1.1 tensorflow-2.2.0rc0 tensorflow-estimator-2.1.0\n"
     ]
    }
   ],
   "source": [
    "!pip install tensorflow==2.2.0rc0"
   ]
  },
  {
   "cell_type": "code",
   "execution_count": 2,
   "metadata": {
    "id": "E-I527WULgc5"
   },
   "outputs": [],
   "source": [
    "import tensorflow as tf\n",
    "import numpy as np\n",
    "import matplotlib.pyplot as plt\n",
    "%matplotlib inline\n",
    "\n",
    "if not tf.__version__ == '2.2.0-rc0':\n",
    "    print(tf.__version__)\n",
    "    raise ValueError('please upgrade to TensorFlow 2.2.0-rc0, or restart your Kernel (Kernel->Restart & Clear Output)')\n",
    "\n"
   ]
  },
  {
   "cell_type": "code",
   "execution_count": 3,
   "metadata": {
    "colab": {
     "base_uri": "https://localhost:8080/"
    },
    "id": "fhL-DQ7ZLgc6",
    "outputId": "e84bb8c8-87ea-48cc-a2c4-f386236c10d3",
    "tags": []
   },
   "outputs": [
    {
     "name": "stdout",
     "output_type": "stream",
     "text": [
      "Downloading data from https://storage.googleapis.com/tensorflow/tf-keras-datasets/mnist.npz\n",
      "11493376/11490434 [==============================] - 0s 0us/step\n"
     ]
    }
   ],
   "source": [
    "# Import MINST data\n",
    "mnist = tf.keras.datasets.mnist\n",
    "(x_train, y_train), (x_test, y_test) = mnist.load_data()"
   ]
  },
  {
   "cell_type": "code",
   "execution_count": 4,
   "metadata": {
    "id": "6gpvWMkDLgc6",
    "tags": []
   },
   "outputs": [],
   "source": [
    "x_train = x_train.astype('float32') / 255.\n",
    "x_test = x_test.astype('float32') / 255."
   ]
  },
  {
   "cell_type": "code",
   "execution_count": 5,
   "metadata": {
    "id": "7D6tM59ILgc6"
   },
   "outputs": [],
   "source": [
    "y_train = y_train.astype('float32') / 255.\n",
    "y_test = y_test.astype('float32') / 255."
   ]
  },
  {
   "cell_type": "code",
   "execution_count": 6,
   "metadata": {
    "id": "xvPp9Y1uLgc6"
   },
   "outputs": [],
   "source": [
    "x_image_train = tf.reshape(x_train, [-1,28,28,1])  \n",
    "x_image_train = tf.cast(x_image_train, 'float32') \n",
    "\n",
    "x_image_test = tf.reshape(x_test, [-1,28,28,1]) \n",
    "x_image_test = tf.cast(x_image_test, 'float32') "
   ]
  },
  {
   "cell_type": "markdown",
   "metadata": {
    "id": "B5TXmwQFLgc7"
   },
   "source": [
    "I am using the tf.keras.layers.Flatten() function to prepare the training data to be compatible with the encoding and decoding layer\n"
   ]
  },
  {
   "cell_type": "code",
   "execution_count": 7,
   "metadata": {
    "colab": {
     "base_uri": "https://localhost:8080/"
    },
    "id": "P0M79NLZLgc7",
    "outputId": "846c65b8-d26b-4bbd-f8af-c9344ef1b786",
    "tags": []
   },
   "outputs": [
    {
     "name": "stdout",
     "output_type": "stream",
     "text": [
      "(60000, 28, 28)\n"
     ]
    }
   ],
   "source": [
    "print(x_train.shape)"
   ]
  },
  {
   "cell_type": "code",
   "execution_count": 8,
   "metadata": {
    "id": "AN81V4pRLgc7"
   },
   "outputs": [],
   "source": [
    "flatten_layer = tf.keras.layers.Flatten()\n",
    "x_train = flatten_layer(x_train)"
   ]
  },
  {
   "cell_type": "markdown",
   "metadata": {
    "id": "zsWTYDvMLgc7"
   },
   "source": [
    "Notice how the <code>x_train.shape</code>  changes from (60000,28,28) to (60000, 784)\n"
   ]
  },
  {
   "cell_type": "code",
   "execution_count": 9,
   "metadata": {
    "colab": {
     "base_uri": "https://localhost:8080/"
    },
    "id": "yBGd8U2RLgc7",
    "outputId": "492a4aeb-2145-4393-a116-a0c6234e0ca0",
    "tags": []
   },
   "outputs": [
    {
     "name": "stdout",
     "output_type": "stream",
     "text": [
      "(60000, 784)\n"
     ]
    }
   ],
   "source": [
    "print(x_train.shape)"
   ]
  },
  {
   "cell_type": "markdown",
   "metadata": {
    "id": "E9Fc3FdKLgc7"
   },
   "source": [
    "Now, let's give the parameters that are going to be used by NN.\n"
   ]
  },
  {
   "cell_type": "code",
   "execution_count": 10,
   "metadata": {
    "id": "I3lx1jwhLgc7"
   },
   "outputs": [],
   "source": [
    "learning_rate = 0.01\n",
    "training_epochs = 20\n",
    "batch_size = 256\n",
    "display_step = 1\n",
    "examples_to_show = 10\n",
    "global_step = tf.Variable(0)\n",
    "total_batch = int(len(x_train) / batch_size)\n",
    "\n",
    "# Network Parameters\n",
    "n_hidden_1 = 256 # 1st layer num features\n",
    "n_hidden_2 = 128 # 2nd layer num features\n",
    "encoding_layer = 32 # final encoding bottleneck features\n",
    "n_input = 784 # MNIST data input (img shape: 28*28)\n",
    "\n"
   ]
  },
  {
   "cell_type": "markdown",
   "metadata": {
    "id": "LckpBJK_Lgc8"
   },
   "source": [
    "<h3> encoder </h3>\n",
    "Now we need to create our encoder. For this, I am going to use tf.keras.layers.Dense with sigmoidal activation functions. Sigmoidal functions delivers great results with this type of network. This is due to having a good derivative that is well-suited to backpropagation. We can create our encoder using the sigmoidal function like this:\n"
   ]
  },
  {
   "cell_type": "code",
   "execution_count": 11,
   "metadata": {
    "id": "qi8YCujgLgc8"
   },
   "outputs": [],
   "source": [
    "\n",
    "enocoding_1 = tf.keras.layers.Dense(n_hidden_1, activation=tf.nn.sigmoid)\n",
    "encoding_2 = tf.keras.layers.Dense(n_hidden_2, activation=tf.nn.sigmoid)\n",
    "encoding_final = tf.keras.layers.Dense(encoding_layer, activation=tf.nn.relu)\n",
    "\n",
    "# Building the encoder\n",
    "def encoder(x):\n",
    "    x_reshaped = flatten_layer(x)\n",
    "    # Encoder first layer with sigmoid activation #1\n",
    "    layer_1 = enocoding_1(x_reshaped)\n",
    "    # Encoder second layer with sigmoid activation #2\n",
    "    layer_2 = encoding_2(layer_1)\n",
    "    code = encoding_final(layer_2)\n",
    "    return code"
   ]
  },
  {
   "cell_type": "markdown",
   "metadata": {
    "id": "I79ixuweLgc8"
   },
   "source": [
    "<h3> decoder </h3>\n",
    "\n",
    "You can see that the layer\\_1 in the encoder is the layer\\_2 in the decoder and vice-versa.\n"
   ]
  },
  {
   "cell_type": "code",
   "execution_count": 12,
   "metadata": {
    "id": "a48ixq-sLgc8"
   },
   "outputs": [],
   "source": [
    "decoding_1 = tf.keras.layers.Dense(n_hidden_2, activation=tf.nn.sigmoid)\n",
    "decoding_2 = tf.keras.layers.Dense(n_hidden_1, activation=tf.nn.sigmoid)\n",
    "decoding_final = tf.keras.layers.Dense(n_input)\n",
    "# Building the decoder\n",
    "def decoder(x):\n",
    "    # Decoder first layer with sigmoid activation #1\n",
    "    layer_1 = decoding_1(x)\n",
    "    # Decoder second layer with sigmoid activation #2\n",
    "    layer_2 = decoding_2(layer_1)\n",
    "    decode = self.decoding_final(layer_2)\n",
    "    return decode"
   ]
  },
  {
   "cell_type": "markdown",
   "metadata": {
    "id": "uG_rTu7lLgc8"
   },
   "source": [
    "Let's construct our model.\n",
    "We  define a <code>cost</code> function to calculate the loss  and a <code>grad</code> function to calculate gradients that will be used in backpropagation.\n"
   ]
  },
  {
   "cell_type": "code",
   "execution_count": 13,
   "metadata": {
    "id": "ZCF2DeJKLgc8"
   },
   "outputs": [],
   "source": [
    "class AutoEncoder(tf.keras.Model):\n",
    "    def __init__(self):\n",
    "        super(AutoEncoder, self).__init__()\n",
    "\n",
    "        self.n_hidden_1 = n_hidden_1 # 1st layer num features\n",
    "        self.n_hidden_2 = n_hidden_2 # 2nd layer num features\n",
    "        self.encoding_layer = encoding_layer\n",
    "        self.n_input = n_input # MNIST data input (img shape: 28*28)\n",
    "\n",
    "        self.flatten_layer = tf.keras.layers.Flatten()\n",
    "        self.enocoding_1 = tf.keras.layers.Dense(self.n_hidden_1, activation=tf.nn.sigmoid)\n",
    "        self.encoding_2 = tf.keras.layers.Dense(self.n_hidden_2, activation=tf.nn.sigmoid)\n",
    "        self.encoding_final = tf.keras.layers.Dense(self.encoding_layer, activation=tf.nn.relu)\n",
    "        self.decoding_1 = tf.keras.layers.Dense(self.n_hidden_2, activation=tf.nn.sigmoid)\n",
    "        self.decoding_2 = tf.keras.layers.Dense(self.n_hidden_1, activation=tf.nn.sigmoid)\n",
    "        self.decoding_final = tf.keras.layers.Dense(self.n_input)\n",
    "\n",
    "\n",
    "    # Building the encoder\n",
    "    def encoder(self,x):\n",
    "        #x = self.flatten_layer(x)\n",
    "        layer_1 = self.enocoding_1(x)\n",
    "        layer_2 = self.encoding_2(layer_1)\n",
    "        code = self.encoding_final(layer_2)\n",
    "        return code\n",
    "        \n",
    "\n",
    "    # Building the decoder\n",
    "    def decoder(self, x):\n",
    "        layer_1 = self.decoding_1(x)\n",
    "        layer_2 = self.decoding_2(layer_1)\n",
    "        decode = self.decoding_final(layer_2)\n",
    "        return decode\n",
    "\n",
    "        \n",
    "    def call(self, x):\n",
    "        encoder_op  = self.encoder(x)\n",
    "        # Reconstructed Images\n",
    "        y_pred = self.decoder(encoder_op)\n",
    "        return y_pred\n",
    "        \n",
    "def cost(y_true, y_pred):\n",
    "    loss = tf.losses.mean_squared_error(y_true, y_pred)\n",
    "    cost = tf.reduce_mean(loss)\n",
    "    return cost\n",
    "\n",
    "def grad(model, inputs, targets):\n",
    "    #print('shape of inputs : ',inputs.shape)\n",
    "    #targets = flatten_layer(targets)\n",
    "    with tf.GradientTape() as tape:    \n",
    "        reconstruction = model(inputs)\n",
    "        loss_value = cost(targets, reconstruction)\n",
    "    return loss_value, tape.gradient(loss_value, model.trainable_variables),reconstruction"
   ]
  },
  {
   "cell_type": "markdown",
   "metadata": {
    "id": "9h4Dx44nLgc9"
   },
   "source": [
    "For training let's run for 20 epochs.\n"
   ]
  },
  {
   "cell_type": "code",
   "execution_count": 14,
   "metadata": {
    "colab": {
     "base_uri": "https://localhost:8080/"
    },
    "id": "iS3Hu32zLgc9",
    "outputId": "9eb1e650-1a20-4843-fb8d-d0d33b315694",
    "tags": []
   },
   "outputs": [
    {
     "name": "stdout",
     "output_type": "stream",
     "text": [
      "Epoch: 0001 cost= 0.046926983\n",
      "Epoch: 0002 cost= 0.035175674\n",
      "Epoch: 0003 cost= 0.026539490\n",
      "Epoch: 0004 cost= 0.022758294\n",
      "Epoch: 0005 cost= 0.017041106\n",
      "Epoch: 0006 cost= 0.013607651\n",
      "Epoch: 0007 cost= 0.010766493\n",
      "Epoch: 0008 cost= 0.009760739\n",
      "Epoch: 0009 cost= 0.008640604\n",
      "Epoch: 0010 cost= 0.007635312\n",
      "Epoch: 0011 cost= 0.007175476\n",
      "Epoch: 0012 cost= 0.007013664\n",
      "Epoch: 0013 cost= 0.006041030\n",
      "Epoch: 0014 cost= 0.005508082\n",
      "Epoch: 0015 cost= 0.005151733\n",
      "Epoch: 0016 cost= 0.004898822\n",
      "Epoch: 0017 cost= 0.004873007\n",
      "Epoch: 0018 cost= 0.004563102\n",
      "Epoch: 0019 cost= 0.004375327\n",
      "Epoch: 0020 cost= 0.004508412\n",
      "Optimization Finished!\n"
     ]
    }
   ],
   "source": [
    "model = AutoEncoder()\n",
    "optimizer = tf.keras.optimizers.RMSprop(learning_rate)\n",
    "\n",
    "for epoch in range(training_epochs):\n",
    "    for i in range(total_batch):\n",
    "        x_inp = x_train[i : i + batch_size]\n",
    "        loss_value, grads, reconstruction = grad(model, x_inp, x_inp)\n",
    "        optimizer.apply_gradients(zip(grads, model.trainable_variables))\n",
    "    # Display logs per epoch step\n",
    "    if epoch % display_step == 0:\n",
    "        print(\"Epoch:\", '%04d' % (epoch+1),\n",
    "              \"cost=\", \"{:.9f}\".format(loss_value))\n",
    "\n",
    "print(\"Optimization Finished!\")"
   ]
  },
  {
   "cell_type": "markdown",
   "metadata": {
    "id": "7K090PgkLgc9"
   },
   "source": [
    "Apply encoder and decoder for our tests.\n"
   ]
  },
  {
   "cell_type": "code",
   "execution_count": 15,
   "metadata": {
    "id": "DQ4eyO1eLgc9"
   },
   "outputs": [],
   "source": [
    "# Applying encode and decode over test set\n",
    "encode_decode = model(flatten_layer(x_image_test[:examples_to_show]))"
   ]
  },
  {
   "cell_type": "markdown",
   "metadata": {
    "id": "3ipHRSYgLgc9"
   },
   "source": [
    "Visualize our graphs!\n"
   ]
  },
  {
   "cell_type": "code",
   "execution_count": 16,
   "metadata": {
    "colab": {
     "base_uri": "https://localhost:8080/",
     "height": 158
    },
    "id": "7VGGf-p-Lgc9",
    "outputId": "da7f6f01-c89a-4912-a5d9-79f99fbdcbbd"
   },
   "outputs": [
    {
     "data": {
      "image/png": "[encoded data removed]",
      "text/plain": [
       "<Figure size 720x144 with 20 Axes>"
      ]
     },
     "metadata": {
      "needs_background": "light"
     },
     "output_type": "display_data"
    }
   ],
   "source": [
    "# Compare original images with their reconstructions\n",
    "f, a = plt.subplots(2, 10, figsize=(10, 2))\n",
    "for i in range(examples_to_show):\n",
    "    a[0][i].imshow(np.reshape(x_image_test[i], (28, 28)))\n",
    "    a[1][i].imshow(np.reshape(encode_decode[i], (28, 28)))"
   ]
  },
  {
   "cell_type": "markdown",
   "metadata": {
    "id": "-dZGXSNxLgc9"
   },
   "source": [
    "As you can see, the reconstructions were successful. It can be seen that some noise were added to the image.\n"
   ]
  }
 ],
 "metadata": {
  "colab": {
   "name": "MNIST Autoencoders.ipynb",
   "provenance": []
  },
  "kernelspec": {
   "display_name": "Python 3 (ipykernel)",
   "language": "python",
   "name": "python3"
  },
  "language_info": {
   "codemirror_mode": {
    "name": "ipython",
    "version": 3
   },
   "file_extension": ".py",
   "mimetype": "text/x-python",
   "name": "python",
   "nbconvert_exporter": "python",
   "pygments_lexer": "ipython3",
   "version": "3.9.7"
  }
 },
 "nbformat": 4,
 "nbformat_minor": 1
}
