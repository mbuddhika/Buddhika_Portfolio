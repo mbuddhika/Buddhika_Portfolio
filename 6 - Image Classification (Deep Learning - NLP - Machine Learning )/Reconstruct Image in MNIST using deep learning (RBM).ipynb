{
 "cells": [
  {
   "cell_type": "markdown",
   "metadata": {
    "id": "Xp80nGslMpJa"
   },
   "source": [
    "<a id=\"ref1\"></a>\n"
   ]
  },
  {
   "cell_type": "code",
   "execution_count": 1,
   "metadata": {
    "id": "0YYDFtghMpJb"
   },
   "outputs": [],
   "source": [
    "import urllib.request\n",
    "with urllib.request.urlopen(\"utils.py\") as url:\n",
    "    response = url.read()\n",
    "target = open('utils.py', 'w')\n",
    "target.write(response.decode('utf-8'))\n",
    "target.close()"
   ]
  },
  {
   "cell_type": "markdown",
   "metadata": {
    "id": "7qo5dOuDMpJd"
   },
   "source": [
    "<h2>Installing TensorFlow </h2>\n",
    "\n",
    "We will installing TensorFlow version 2.2.0 and its required prerequistes.  Also installing pillow...\n"
   ]
  },
  {
   "cell_type": "code",
   "execution_count": 2,
   "metadata": {
    "colab": {
     "base_uri": "https://localhost:8080/"
    },
    "id": "7Qpwb2OuMpJd",
    "outputId": "f1e61aa0-3d02-4cb4-d798-f412aab08eb6"
   },
   "outputs": [
    {
     "name": "stdout",
     "output_type": "stream",
     "text": [
      "Collecting grpcio==1.24.3\n",
      "  Downloading grpcio-1.24.3-cp37-cp37m-manylinux2010_x86_64.whl (2.2 MB)\n",
      "\u001b[K     |████████████████████████████████| 2.2 MB 26.7 MB/s \n",
      "\u001b[?25hRequirement already satisfied: six>=1.5.2 in /usr/local/lib/python3.7/dist-packages (from grpcio==1.24.3) (1.15.0)\n",
      "Installing collected packages: grpcio\n",
      "  Attempting uninstall: grpcio\n",
      "    Found existing installation: grpcio 1.43.0\n",
      "    Uninstalling grpcio-1.43.0:\n",
      "      Successfully uninstalled grpcio-1.43.0\n",
      "Successfully installed grpcio-1.24.3\n",
      "Collecting tensorflow==2.2.0\n",
      "  Downloading tensorflow-2.2.0-cp37-cp37m-manylinux2010_x86_64.whl (516.2 MB)\n",
      "\u001b[K     |████████████████████████████████| 516.2 MB 4.0 kB/s \n",
      "\u001b[?25hRequirement already satisfied: wheel>=0.26 in /usr/local/lib/python3.7/dist-packages (from tensorflow==2.2.0) (0.37.1)\n",
      "Requirement already satisfied: protobuf>=3.8.0 in /usr/local/lib/python3.7/dist-packages (from tensorflow==2.2.0) (3.17.3)\n",
      "Collecting tensorflow-estimator<2.3.0,>=2.2.0\n",
      "  Downloading tensorflow_estimator-2.2.0-py2.py3-none-any.whl (454 kB)\n",
      "\u001b[K     |████████████████████████████████| 454 kB 61.9 MB/s \n",
      "\u001b[?25hRequirement already satisfied: absl-py>=0.7.0 in /usr/local/lib/python3.7/dist-packages (from tensorflow==2.2.0) (0.12.0)\n",
      "Requirement already satisfied: opt-einsum>=2.3.2 in /usr/local/lib/python3.7/dist-packages (from tensorflow==2.2.0) (3.3.0)\n",
      "Requirement already satisfied: six>=1.12.0 in /usr/local/lib/python3.7/dist-packages (from tensorflow==2.2.0) (1.15.0)\n",
      "Requirement already satisfied: grpcio>=1.8.6 in /usr/local/lib/python3.7/dist-packages (from tensorflow==2.2.0) (1.24.3)\n",
      "Requirement already satisfied: astunparse==1.6.3 in /usr/local/lib/python3.7/dist-packages (from tensorflow==2.2.0) (1.6.3)\n",
      "Requirement already satisfied: numpy<2.0,>=1.16.0 in /usr/local/lib/python3.7/dist-packages (from tensorflow==2.2.0) (1.19.5)\n",
      "Requirement already satisfied: google-pasta>=0.1.8 in /usr/local/lib/python3.7/dist-packages (from tensorflow==2.2.0) (0.2.0)\n",
      "Collecting h5py<2.11.0,>=2.10.0\n",
      "  Downloading h5py-2.10.0-cp37-cp37m-manylinux1_x86_64.whl (2.9 MB)\n",
      "\u001b[K     |████████████████████████████████| 2.9 MB 47.0 MB/s \n",
      "\u001b[?25hRequirement already satisfied: keras-preprocessing>=1.1.0 in /usr/local/lib/python3.7/dist-packages (from tensorflow==2.2.0) (1.1.2)\n",
      "Requirement already satisfied: termcolor>=1.1.0 in /usr/local/lib/python3.7/dist-packages (from tensorflow==2.2.0) (1.1.0)\n",
      "Requirement already satisfied: scipy==1.4.1 in /usr/local/lib/python3.7/dist-packages (from tensorflow==2.2.0) (1.4.1)\n",
      "Collecting gast==0.3.3\n",
      "  Downloading gast-0.3.3-py2.py3-none-any.whl (9.7 kB)\n",
      "Requirement already satisfied: wrapt>=1.11.1 in /usr/local/lib/python3.7/dist-packages (from tensorflow==2.2.0) (1.13.3)\n",
      "Collecting tensorboard<2.3.0,>=2.2.0\n",
      "  Downloading tensorboard-2.2.2-py3-none-any.whl (3.0 MB)\n",
      "\u001b[K     |████████████████████████████████| 3.0 MB 65.1 MB/s \n",
      "\u001b[?25hRequirement already satisfied: requests<3,>=2.21.0 in /usr/local/lib/python3.7/dist-packages (from tensorboard<2.3.0,>=2.2.0->tensorflow==2.2.0) (2.23.0)\n",
      "Requirement already satisfied: google-auth<2,>=1.6.3 in /usr/local/lib/python3.7/dist-packages (from tensorboard<2.3.0,>=2.2.0->tensorflow==2.2.0) (1.35.0)\n",
      "Requirement already satisfied: werkzeug>=0.11.15 in /usr/local/lib/python3.7/dist-packages (from tensorboard<2.3.0,>=2.2.0->tensorflow==2.2.0) (1.0.1)\n",
      "Requirement already satisfied: tensorboard-plugin-wit>=1.6.0 in /usr/local/lib/python3.7/dist-packages (from tensorboard<2.3.0,>=2.2.0->tensorflow==2.2.0) (1.8.1)\n",
      "Requirement already satisfied: markdown>=2.6.8 in /usr/local/lib/python3.7/dist-packages (from tensorboard<2.3.0,>=2.2.0->tensorflow==2.2.0) (3.3.6)\n",
      "Requirement already satisfied: google-auth-oauthlib<0.5,>=0.4.1 in /usr/local/lib/python3.7/dist-packages (from tensorboard<2.3.0,>=2.2.0->tensorflow==2.2.0) (0.4.6)\n",
      "Requirement already satisfied: setuptools>=41.0.0 in /usr/local/lib/python3.7/dist-packages (from tensorboard<2.3.0,>=2.2.0->tensorflow==2.2.0) (57.4.0)\n",
      "Requirement already satisfied: rsa<5,>=3.1.4 in /usr/local/lib/python3.7/dist-packages (from google-auth<2,>=1.6.3->tensorboard<2.3.0,>=2.2.0->tensorflow==2.2.0) (4.8)\n",
      "Requirement already satisfied: pyasn1-modules>=0.2.1 in /usr/local/lib/python3.7/dist-packages (from google-auth<2,>=1.6.3->tensorboard<2.3.0,>=2.2.0->tensorflow==2.2.0) (0.2.8)\n",
      "Requirement already satisfied: cachetools<5.0,>=2.0.0 in /usr/local/lib/python3.7/dist-packages (from google-auth<2,>=1.6.3->tensorboard<2.3.0,>=2.2.0->tensorflow==2.2.0) (4.2.4)\n",
      "Requirement already satisfied: requests-oauthlib>=0.7.0 in /usr/local/lib/python3.7/dist-packages (from google-auth-oauthlib<0.5,>=0.4.1->tensorboard<2.3.0,>=2.2.0->tensorflow==2.2.0) (1.3.0)\n",
      "Requirement already satisfied: importlib-metadata>=4.4 in /usr/local/lib/python3.7/dist-packages (from markdown>=2.6.8->tensorboard<2.3.0,>=2.2.0->tensorflow==2.2.0) (4.10.0)\n",
      "Requirement already satisfied: typing-extensions>=3.6.4 in /usr/local/lib/python3.7/dist-packages (from importlib-metadata>=4.4->markdown>=2.6.8->tensorboard<2.3.0,>=2.2.0->tensorflow==2.2.0) (3.10.0.2)\n",
      "Requirement already satisfied: zipp>=0.5 in /usr/local/lib/python3.7/dist-packages (from importlib-metadata>=4.4->markdown>=2.6.8->tensorboard<2.3.0,>=2.2.0->tensorflow==2.2.0) (3.7.0)\n",
      "Requirement already satisfied: pyasn1<0.5.0,>=0.4.6 in /usr/local/lib/python3.7/dist-packages (from pyasn1-modules>=0.2.1->google-auth<2,>=1.6.3->tensorboard<2.3.0,>=2.2.0->tensorflow==2.2.0) (0.4.8)\n",
      "Requirement already satisfied: urllib3!=1.25.0,!=1.25.1,<1.26,>=1.21.1 in /usr/local/lib/python3.7/dist-packages (from requests<3,>=2.21.0->tensorboard<2.3.0,>=2.2.0->tensorflow==2.2.0) (1.24.3)\n",
      "Requirement already satisfied: idna<3,>=2.5 in /usr/local/lib/python3.7/dist-packages (from requests<3,>=2.21.0->tensorboard<2.3.0,>=2.2.0->tensorflow==2.2.0) (2.10)\n",
      "Requirement already satisfied: certifi>=2017.4.17 in /usr/local/lib/python3.7/dist-packages (from requests<3,>=2.21.0->tensorboard<2.3.0,>=2.2.0->tensorflow==2.2.0) (2021.10.8)\n",
      "Requirement already satisfied: chardet<4,>=3.0.2 in /usr/local/lib/python3.7/dist-packages (from requests<3,>=2.21.0->tensorboard<2.3.0,>=2.2.0->tensorflow==2.2.0) (3.0.4)\n",
      "Requirement already satisfied: oauthlib>=3.0.0 in /usr/local/lib/python3.7/dist-packages (from requests-oauthlib>=0.7.0->google-auth-oauthlib<0.5,>=0.4.1->tensorboard<2.3.0,>=2.2.0->tensorflow==2.2.0) (3.1.1)\n",
      "Installing collected packages: tensorflow-estimator, tensorboard, h5py, gast, tensorflow\n",
      "  Attempting uninstall: tensorflow-estimator\n",
      "    Found existing installation: tensorflow-estimator 2.7.0\n",
      "    Uninstalling tensorflow-estimator-2.7.0:\n",
      "      Successfully uninstalled tensorflow-estimator-2.7.0\n",
      "  Attempting uninstall: tensorboard\n",
      "    Found existing installation: tensorboard 2.7.0\n",
      "    Uninstalling tensorboard-2.7.0:\n",
      "      Successfully uninstalled tensorboard-2.7.0\n",
      "  Attempting uninstall: h5py\n",
      "    Found existing installation: h5py 3.1.0\n",
      "    Uninstalling h5py-3.1.0:\n",
      "      Successfully uninstalled h5py-3.1.0\n",
      "  Attempting uninstall: gast\n",
      "    Found existing installation: gast 0.4.0\n",
      "    Uninstalling gast-0.4.0:\n",
      "      Successfully uninstalled gast-0.4.0\n",
      "  Attempting uninstall: tensorflow\n",
      "    Found existing installation: tensorflow 2.7.0\n",
      "    Uninstalling tensorflow-2.7.0:\n",
      "      Successfully uninstalled tensorflow-2.7.0\n",
      "Successfully installed gast-0.3.3 h5py-2.10.0 tensorboard-2.2.2 tensorflow-2.2.0 tensorflow-estimator-2.2.0\n",
      "Requirement already satisfied: pillow in /usr/local/lib/python3.7/dist-packages (7.1.2)\n"
     ]
    }
   ],
   "source": [
    "!pip install grpcio==1.24.3\n",
    "!pip install tensorflow==2.2.0\n",
    "!pip install pillow"
   ]
  },
  {
   "cell_type": "markdown",
   "metadata": {
    "id": "RcD_xpzFMpJe"
   },
   "source": [
    "<b>Notice:</b> This notebook has been created with TensorFlow version 2.2, and might not work with other versions. Therefore we check:\n"
   ]
  },
  {
   "cell_type": "code",
   "execution_count": 3,
   "metadata": {
    "id": "G3vUJeNaMpJf"
   },
   "outputs": [],
   "source": [
    "import tensorflow as tf\n",
    "from IPython.display import Markdown, display\n",
    "\n",
    "def printmd(string):\n",
    "    display(Markdown('# <span style=\"color:red\">'+string+'</span>'))\n",
    "\n",
    "\n",
    "if not tf.__version__ == '2.2.0':\n",
    "    printmd('<<<<<!!!!! ERROR !!!! please upgrade to TensorFlow 2.2.0, or restart your Kernel (Kernel->Restart & Clear Output)>>>>>')"
   ]
  },
  {
   "cell_type": "markdown",
   "metadata": {
    "id": "Ul8OTL_5MpJg"
   },
   "source": [
    "Now, we load in all the packages that we use to create the net including the TensorFlow package:\n"
   ]
  },
  {
   "cell_type": "code",
   "execution_count": 4,
   "metadata": {
    "id": "OHfCsFWkMpJg"
   },
   "outputs": [],
   "source": [
    "import tensorflow as tf\n",
    "import numpy as np\n",
    "\n",
    "from PIL import Image\n",
    "from utils import tile_raster_images\n",
    "import matplotlib.pyplot as plt\n",
    "%matplotlib inline"
   ]
  },
  {
   "cell_type": "markdown",
   "metadata": {
    "id": "6JkiR1gUMpJh"
   },
   "source": [
    "<hr>\n"
   ]
  },
  {
   "cell_type": "markdown",
   "metadata": {
    "id": "d8zHlFEtMpJi"
   },
   "source": [
    "Each node in the first layer also has a <b>bias</b>. We will denote the bias as $v_{bias}$, and this single value is shared among the $V$ visible units.\n",
    "\n",
    "The <b>bias</b> of the second is defined similarly as $h_{bias}$, and this single value among the $H$ hidden units.\n"
   ]
  },
  {
   "cell_type": "code",
   "execution_count": 5,
   "metadata": {
    "id": "yKG0xBKOMpJi"
   },
   "outputs": [],
   "source": [
    "v_bias = tf.Variable(tf.zeros([7]), tf.float32)\n",
    "h_bias = tf.Variable(tf.zeros([2]), tf.float32)"
   ]
  },
  {
   "cell_type": "markdown",
   "metadata": {
    "id": "Qdxr3CpQMpJi"
   },
   "source": [
    "We have to define weights among the input layer and hidden layer nodes. In the weight matrix, the number of rows are equal to the input nodes, and the number of columns are equal to the output nodes. We define a tensor $\\mathbf{W}$ of shape = (7,2), where the number of visible neurons = 7, and the number of hidden neurons = 2. \n"
   ]
  },
  {
   "cell_type": "code",
   "execution_count": 6,
   "metadata": {
    "id": "2qoU9hcdMpJj"
   },
   "outputs": [],
   "source": [
    "W = tf.constant(np.random.normal(loc=0.0, scale=1.0, size=(7, 2)).astype(np.float32))"
   ]
  },
  {
   "cell_type": "markdown",
   "metadata": {
    "id": "L9_EPbFHMpJj"
   },
   "source": [
    "<hr>\n"
   ]
  },
  {
   "cell_type": "markdown",
   "metadata": {
    "id": "DPbJIWbuMpJk"
   },
   "source": [
    "Before we go further, let's look at a toy example for one case out of all input. Assume that we have a trained RBM, and a very simple input vector, such as [1.0, 0.0, 0.0, 1.0, 0.0, 0.0, 0.0].  \n",
    "Let's see what the output of forward pass would look like:\n"
   ]
  },
  {
   "cell_type": "code",
   "execution_count": 7,
   "metadata": {
    "colab": {
     "base_uri": "https://localhost:8080/"
    },
    "id": "H7se1NeQMpJk",
    "outputId": "00b7b6fc-1cb4-4050-af3e-3edd70ce08d1"
   },
   "outputs": [
    {
     "name": "stdout",
     "output_type": "stream",
     "text": [
      "Input:  tf.Tensor([[1. 0. 0. 1. 0. 0. 0.]], shape=(1, 7), dtype=float32)\n",
      "hb:  tf.Tensor([0.1 0.1], shape=(2,), dtype=float32)\n",
      "w:  tf.Tensor(\n",
      "[[-0.19912225 -0.6407816 ]\n",
      " [-0.39871672  0.53935057]\n",
      " [-0.52679664  0.62584805]\n",
      " [-1.1845548   1.5944103 ]\n",
      " [ 0.05371604  1.7851214 ]\n",
      " [-0.773453    1.3202766 ]\n",
      " [-0.37709278 -1.1431541 ]], shape=(7, 2), dtype=float32)\n",
      "p(h|v):  tf.Tensor([[0.21692497 0.7414711 ]], shape=(1, 2), dtype=float32)\n",
      "h0 states: tf.Tensor([[0. 1.]], shape=(1, 2), dtype=float32)\n"
     ]
    }
   ],
   "source": [
    "X = tf.constant([[1.0, 0.0, 0.0, 1.0, 0.0, 0.0, 0.0]], tf.float32)\n",
    "\n",
    "v_state = X\n",
    "print (\"Input: \", v_state)\n",
    "\n",
    "h_bias = tf.constant([0.1, 0.1])\n",
    "print (\"hb: \", h_bias)\n",
    "print (\"w: \", W)\n",
    "\n",
    "# Calculate the probabilities of turning the hidden units on:\n",
    "h_prob = tf.nn.sigmoid(tf.matmul(v_state, W) + h_bias)  #probabilities of the hidden units\n",
    "print (\"p(h|v): \", h_prob)\n",
    "\n",
    "# Draw samples from the distribution:\n",
    "h_state = tf.nn.relu(tf.sign(h_prob - tf.random.uniform(tf.shape(h_prob)))) #states\n",
    "print (\"h0 states:\", h_state)"
   ]
  },
  {
   "cell_type": "markdown",
   "metadata": {
    "id": "2RwZufXeMpJk"
   },
   "source": [
    "<b>Phase 2) Backward Pass (Reconstruction):</b>\n",
    "The RBM reconstructs data by making several forward and backward passes between the visible and hidden layers.\n",
    "\n",
    "So, in the second phase (i.e. reconstruction phase), the samples from the hidden layer (i.e. $\\mathbf h$) becomes the input in the backward pass. The same weight matrix and visible layer biases are used to passed to the sigmoid function. The reproduced output is a reconstruction which is an approximation of the original input.\n"
   ]
  },
  {
   "cell_type": "code",
   "execution_count": 8,
   "metadata": {
    "colab": {
     "base_uri": "https://localhost:8080/"
    },
    "id": "TrzbG67PMpJl",
    "outputId": "d7aa91b7-b7ac-486e-ad16-23b25d0ebfb4"
   },
   "outputs": [
    {
     "name": "stdout",
     "output_type": "stream",
     "text": [
      "b:  tf.Tensor([0.1 0.2 0.1 0.1 0.1 0.2 0.1], shape=(7,), dtype=float32)\n",
      "p(vi∣h):  tf.Tensor(\n",
      "[[0.36800578 0.67685384 0.6738935  0.84480333 0.8681983  0.8205792\n",
      "  0.26054186]], shape=(1, 7), dtype=float32)\n",
      "v probability states:  tf.Tensor([[1. 1. 1. 1. 1. 1. 1.]], shape=(1, 7), dtype=float32)\n"
     ]
    }
   ],
   "source": [
    "vb = tf.constant([0.1, 0.2, 0.1, 0.1, 0.1, 0.2, 0.1])\n",
    "print (\"b: \", vb)\n",
    "v_prob = tf.nn.sigmoid(tf.matmul(h_state, tf.transpose(W)) + vb)\n",
    "print (\"p(vi∣h): \", v_prob)\n",
    "v_state = tf.nn.relu(tf.sign(v_prob - tf.random.uniform(tf.shape(v_prob))))\n",
    "print (\"v probability states: \", v_state)"
   ]
  },
  {
   "cell_type": "code",
   "execution_count": 9,
   "metadata": {
    "colab": {
     "base_uri": "https://localhost:8080/"
    },
    "id": "-nKYo_RxMpJm",
    "outputId": "7b458445-460e-448e-d698-63fe7b6012bf"
   },
   "outputs": [
    {
     "name": "stdout",
     "output_type": "stream",
     "text": [
      "input X: [[1. 0. 0. 1. 0. 0. 0.]]\n",
      "probablity vector: [0.36800578 0.67685384 0.6738935  0.84480333 0.8681983  0.8205792\n",
      " 0.26054186]\n",
      "probability of generating X:  0.00057289656\n"
     ]
    }
   ],
   "source": [
    "inp = X\n",
    "print(\"input X:\" , inp.numpy())\n",
    "\n",
    "print(\"probablity vector:\" , v_prob[0].numpy())\n",
    "v_probability = 1\n",
    "\n",
    "for elm, p in zip(inp[0],v_prob[0]) :\n",
    "    if elm ==1:\n",
    "        v_probability *= p\n",
    "    else:\n",
    "        v_probability *= (1-p)\n",
    "\n",
    "print(\"probability of generating X: \" , v_probability.numpy())"
   ]
  },
  {
   "cell_type": "markdown",
   "metadata": {
    "id": "vXlZGhtvMpJm"
   },
   "source": [
    "<hr>\n"
   ]
  },
  {
   "cell_type": "code",
   "execution_count": 10,
   "metadata": {
    "colab": {
     "base_uri": "https://localhost:8080/"
    },
    "id": "Yf3O9mPbMpJn",
    "outputId": "3b94cce1-14ad-453a-9d4f-bfdccfab9983"
   },
   "outputs": [
    {
     "name": "stdout",
     "output_type": "stream",
     "text": [
      "Downloading data from https://storage.googleapis.com/tensorflow/tf-keras-datasets/mnist.npz\n",
      "11493376/11490434 [==============================] - 0s 0us/step\n"
     ]
    }
   ],
   "source": [
    "#loading training and test data\n",
    "mnist = tf.keras.datasets.mnist\n",
    "(trX, trY), (teX, teY) = mnist.load_data()\n",
    "\n",
    "# showing an example of the Flatten class and operation\n",
    "from tensorflow.keras.layers import Flatten\n",
    "flatten = Flatten(dtype='float32')\n",
    "trX = flatten(trX/255.0)\n",
    "trY = flatten(trY/255.0)"
   ]
  },
  {
   "cell_type": "markdown",
   "metadata": {
    "id": "8jhozhtZMpJn"
   },
   "source": [
    "Lets look at the dimension of the images.\n"
   ]
  },
  {
   "cell_type": "markdown",
   "metadata": {
    "id": "BMQ-NKxsMpJn"
   },
   "source": [
    "MNIST images have 784 pixels, so the visible layer must have 784 input nodes.  For our case, we'll use 50 nodes in the hidden layer, so i = 50.\n"
   ]
  },
  {
   "cell_type": "code",
   "execution_count": 11,
   "metadata": {
    "collapsed": true,
    "id": "qvBjritrMpJn",
    "jupyter": {
     "outputs_hidden": true
    }
   },
   "outputs": [],
   "source": [
    "vb = tf.Variable(tf.zeros([784]), tf.float32)\n",
    "hb = tf.Variable(tf.zeros([50]), tf.float32)"
   ]
  },
  {
   "cell_type": "markdown",
   "metadata": {
    "id": "mVCiG1dZMpJn"
   },
   "source": [
    "Let $\\mathbf W$ be the Tensor of 784x50 (784 - number of visible neurons, 50 - number of hidden neurons) that represents weights between the neurons. \n"
   ]
  },
  {
   "cell_type": "code",
   "execution_count": 12,
   "metadata": {
    "collapsed": true,
    "id": "pdIsyxchMpJn",
    "jupyter": {
     "outputs_hidden": true
    }
   },
   "outputs": [],
   "source": [
    "W = tf.Variable(tf.zeros([784,50]), tf.float32)"
   ]
  },
  {
   "cell_type": "markdown",
   "metadata": {
    "id": "AWGKQ_byMpJo"
   },
   "source": [
    "Lets define the visible layer:\n"
   ]
  },
  {
   "cell_type": "code",
   "execution_count": 13,
   "metadata": {
    "colab": {
     "base_uri": "https://localhost:8080/"
    },
    "id": "-0Ofm7wwMpJo",
    "outputId": "4ff447f7-a0ab-4bd1-cb83-4c11e212cfb7"
   },
   "outputs": [
    {
     "data": {
      "text/plain": [
       "<tf.Tensor: shape=(1, 50), dtype=float32, numpy=\n",
       "array([[0., 0., 0., 0., 0., 0., 0., 0., 0., 0., 0., 0., 0., 0., 0., 0.,\n",
       "        0., 0., 0., 0., 0., 0., 0., 0., 0., 0., 0., 0., 0., 0., 0., 0.,\n",
       "        0., 0., 0., 0., 0., 0., 0., 0., 0., 0., 0., 0., 0., 0., 0., 0.,\n",
       "        0., 0.]], dtype=float32)>"
      ]
     },
     "execution_count": 13,
     "metadata": {},
     "output_type": "execute_result"
    }
   ],
   "source": [
    "v0_state = tf.Variable(tf.zeros([784]), tf.float32)\n",
    "\n",
    "#testing to see if the matrix product works\n",
    "tf.matmul( [v0_state], W)"
   ]
  },
  {
   "cell_type": "markdown",
   "metadata": {
    "id": "K6tUlHsoMpJo"
   },
   "source": [
    "Now, we can define hidden layer:\n"
   ]
  },
  {
   "cell_type": "code",
   "execution_count": 14,
   "metadata": {
    "colab": {
     "base_uri": "https://localhost:8080/"
    },
    "id": "YrTc6SUVMpJo",
    "outputId": "4bcbcda8-b8c0-4f58-8005-ca50e9cc554e"
   },
   "outputs": [
    {
     "name": "stdout",
     "output_type": "stream",
     "text": [
      "h0_state shape:  tf.Tensor([ 1 50], shape=(2,), dtype=int32)\n",
      "first 15 hidden states:  tf.Tensor([1. 0. 0. 0. 0. 1. 1. 1. 0. 0. 1. 1. 0. 1. 1.], shape=(15,), dtype=float32)\n"
     ]
    }
   ],
   "source": [
    "#computing the hidden nodes probability vector and checking shape\n",
    "h0_prob = tf.nn.sigmoid(tf.matmul([v0_state], W) + hb)  #probabilities of the hidden units\n",
    "print(\"h0_state shape: \" , tf.shape(h0_prob))\n",
    "\n",
    "#defining a function to return only the generated hidden states \n",
    "def hidden_layer(v0_state, W, hb):\n",
    "    h0_prob = tf.nn.sigmoid(tf.matmul([v0_state], W) + hb)  #probabilities of the hidden units\n",
    "    h0_state = tf.nn.relu(tf.sign(h0_prob - tf.random.uniform(tf.shape(h0_prob)))) #sample_h_given_X\n",
    "    return h0_state\n",
    "\n",
    "\n",
    "h0_state = hidden_layer(v0_state, W, hb)\n",
    "print(\"first 15 hidden states: \", h0_state[0][0:15])"
   ]
  },
  {
   "cell_type": "markdown",
   "metadata": {
    "id": "yuPHytRTMpJo"
   },
   "source": [
    "Now, we define reconstruction part:\n"
   ]
  },
  {
   "cell_type": "code",
   "execution_count": 15,
   "metadata": {
    "colab": {
     "base_uri": "https://localhost:8080/"
    },
    "id": "plzXyaIpMpJp",
    "outputId": "496d18c4-4b62-4ef2-acdc-8bf59b09021f"
   },
   "outputs": [
    {
     "name": "stdout",
     "output_type": "stream",
     "text": [
      "hidden state shape:  (1, 50)\n",
      "v0 state shape:   (784,)\n",
      "v1 state shape:   (784,)\n"
     ]
    }
   ],
   "source": [
    "def reconstructed_output(h0_state, W, vb):\n",
    "    v1_prob = tf.nn.sigmoid(tf.matmul(h0_state, tf.transpose(W)) + vb) \n",
    "    v1_state = tf.nn.relu(tf.sign(v1_prob - tf.random.uniform(tf.shape(v1_prob)))) #sample_v_given_h\n",
    "    return v1_state[0]\n",
    "\n",
    "v1_state = reconstructed_output(h0_state, W, vb)\n",
    "print(\"hidden state shape: \", h0_state.shape)\n",
    "print(\"v0 state shape:  \", v0_state.shape)\n",
    "print(\"v1 state shape:  \", v1_state.shape)"
   ]
  },
  {
   "cell_type": "code",
   "execution_count": 16,
   "metadata": {
    "colab": {
     "base_uri": "https://localhost:8080/"
    },
    "id": "BZfZYxnUMpJp",
    "outputId": "db859bd3-1894-45c4-d25a-7d4a22e64bab"
   },
   "outputs": [
    {
     "name": "stdout",
     "output_type": "stream",
     "text": [
      "error 0.49234694\n"
     ]
    }
   ],
   "source": [
    "def error(v0_state, v1_state):\n",
    "    return tf.reduce_mean(tf.square(v0_state - v1_state))\n",
    "\n",
    "err = tf.reduce_mean(tf.square(v0_state - v1_state))\n",
    "print(\"error\" , err.numpy())"
   ]
  },
  {
   "cell_type": "markdown",
   "metadata": {
    "id": "USDy2TgtMpJq"
   },
   "source": [
    "$K$ is adjustable, and good performance can be achieved with $K=1$, so that we just take one set of sampling steps per image.\n"
   ]
  },
  {
   "cell_type": "code",
   "execution_count": 17,
   "metadata": {
    "id": "jn2-Hv_BMpJq"
   },
   "outputs": [],
   "source": [
    "h1_prob = tf.nn.sigmoid(tf.matmul([v1_state], W) + hb)\n",
    "h1_state = tf.nn.relu(tf.sign(h1_prob - tf.random.uniform(tf.shape(h1_prob)))) #sample_h_given_X"
   ]
  },
  {
   "cell_type": "markdown",
   "metadata": {
    "id": "VvLYqKzvMpJq"
   },
   "source": [
    "Lets look at the error of the first run:\n"
   ]
  },
  {
   "cell_type": "code",
   "execution_count": 18,
   "metadata": {
    "colab": {
     "base_uri": "https://localhost:8080/"
    },
    "id": "ivFap53aMpJq",
    "outputId": "5da25ff8-e3d4-4d25-e7ee-d4f12a66d764"
   },
   "outputs": [
    {
     "name": "stdout",
     "output_type": "stream",
     "text": [
      "error:  tf.Tensor(0.49234694, shape=(), dtype=float32)\n"
     ]
    }
   ],
   "source": [
    "print(\"error: \", error(v0_state, v1_state))"
   ]
  },
  {
   "cell_type": "code",
   "execution_count": 19,
   "metadata": {
    "colab": {
     "base_uri": "https://localhost:8080/"
    },
    "id": "rwsbPcSwMpJq",
    "outputId": "8b76174a-2c5a-4c21-9128-18964b25c121"
   },
   "outputs": [
    {
     "name": "stdout",
     "output_type": "stream",
     "text": [
      "Epoch: 0 batch #: 1  of 300 sample #: 199 reconstruction error: 0.173272\n",
      "Epoch: 0 batch #: 2  of 300 sample #: 199 reconstruction error: 0.230560\n",
      "Epoch: 0 batch #: 3  of 300 sample #: 199 reconstruction error: 0.112041\n",
      "Epoch: 0 batch #: 4  of 300 sample #: 199 reconstruction error: 0.117178\n",
      "Epoch: 0 batch #: 5  of 300 sample #: 199 reconstruction error: 0.103589\n",
      "Epoch: 0 batch #: 6  of 300 sample #: 199 reconstruction error: 0.170257\n",
      "Epoch: 0 batch #: 7  of 300 sample #: 199 reconstruction error: 0.079290\n",
      "Epoch: 0 batch #: 8  of 300 sample #: 199 reconstruction error: 0.115102\n",
      "Epoch: 0 batch #: 9  of 300 sample #: 199 reconstruction error: 0.097171\n",
      "Epoch: 0 batch #: 10  of 300 sample #: 199 reconstruction error: 0.170439\n",
      "Epoch: 0 batch #: 11  of 300 sample #: 199 reconstruction error: 0.092506\n",
      "Epoch: 0 batch #: 12  of 300 sample #: 199 reconstruction error: 0.134430\n",
      "Epoch: 0 batch #: 13  of 300 sample #: 199 reconstruction error: 0.062358\n",
      "Epoch: 0 batch #: 14  of 300 sample #: 199 reconstruction error: 0.102522\n",
      "Epoch: 0 batch #: 15  of 300 sample #: 199 reconstruction error: 0.103942\n",
      "Epoch: 0 batch #: 16  of 300 sample #: 199 reconstruction error: 0.101070\n",
      "Epoch: 0 batch #: 17  of 300 sample #: 199 reconstruction error: 0.060462\n",
      "Epoch: 0 batch #: 18  of 300 sample #: 199 reconstruction error: 0.132510\n",
      "Epoch: 0 batch #: 19  of 300 sample #: 199 reconstruction error: 0.149689\n",
      "Epoch: 0 batch #: 20  of 300 sample #: 199 reconstruction error: 0.086265\n",
      "Epoch: 0 batch #: 21  of 300 sample #: 199 reconstruction error: 0.078179\n",
      "Epoch: 0 batch #: 22  of 300 sample #: 199 reconstruction error: 0.068550\n",
      "Epoch: 0 batch #: 23  of 300 sample #: 199 reconstruction error: 0.117748\n",
      "Epoch: 0 batch #: 24  of 300 sample #: 199 reconstruction error: 0.147193\n",
      "Epoch: 0 batch #: 25  of 300 sample #: 199 reconstruction error: 0.099710\n",
      "Epoch: 0 batch #: 26  of 300 sample #: 199 reconstruction error: 0.088512\n",
      "Epoch: 0 batch #: 27  of 300 sample #: 199 reconstruction error: 0.109343\n",
      "Epoch: 0 batch #: 28  of 300 sample #: 199 reconstruction error: 0.080624\n",
      "Epoch: 0 batch #: 29  of 300 sample #: 199 reconstruction error: 0.086175\n",
      "Epoch: 0 batch #: 30  of 300 sample #: 199 reconstruction error: 0.081645\n",
      "Epoch: 0 batch #: 31  of 300 sample #: 199 reconstruction error: 0.099037\n",
      "Epoch: 0 batch #: 32  of 300 sample #: 199 reconstruction error: 0.123190\n",
      "Epoch: 0 batch #: 33  of 300 sample #: 199 reconstruction error: 0.055196\n",
      "Epoch: 0 batch #: 34  of 300 sample #: 199 reconstruction error: 0.073149\n",
      "Epoch: 0 batch #: 35  of 300 sample #: 199 reconstruction error: 0.084699\n",
      "Epoch: 0 batch #: 36  of 300 sample #: 199 reconstruction error: 0.106227\n",
      "Epoch: 0 batch #: 37  of 300 sample #: 199 reconstruction error: 0.055165\n",
      "Epoch: 0 batch #: 38  of 300 sample #: 199 reconstruction error: 0.069438\n",
      "Epoch: 0 batch #: 39  of 300 sample #: 199 reconstruction error: 0.099500\n",
      "Epoch: 0 batch #: 40  of 300 sample #: 199 reconstruction error: 0.122658\n",
      "Epoch: 0 batch #: 41  of 300 sample #: 199 reconstruction error: 0.072506\n",
      "Epoch: 0 batch #: 42  of 300 sample #: 199 reconstruction error: 0.075173\n",
      "Epoch: 0 batch #: 43  of 300 sample #: 199 reconstruction error: 0.101859\n",
      "Epoch: 0 batch #: 44  of 300 sample #: 199 reconstruction error: 0.076017\n",
      "Epoch: 0 batch #: 45  of 300 sample #: 199 reconstruction error: 0.064453\n",
      "Epoch: 0 batch #: 46  of 300 sample #: 199 reconstruction error: 0.031781\n",
      "Epoch: 0 batch #: 47  of 300 sample #: 199 reconstruction error: 0.035843\n",
      "Epoch: 0 batch #: 48  of 300 sample #: 199 reconstruction error: 0.047309\n",
      "Epoch: 0 batch #: 49  of 300 sample #: 199 reconstruction error: 0.107246\n",
      "Epoch: 0 batch #: 50  of 300 sample #: 199 reconstruction error: 0.057075\n",
      "Epoch: 0 batch #: 51  of 300 sample #: 199 reconstruction error: 0.055433\n",
      "Epoch: 0 batch #: 52  of 300 sample #: 199 reconstruction error: 0.033239\n",
      "Epoch: 0 batch #: 53  of 300 sample #: 199 reconstruction error: 0.108713\n",
      "Epoch: 0 batch #: 54  of 300 sample #: 199 reconstruction error: 0.064879\n",
      "Epoch: 0 batch #: 55  of 300 sample #: 199 reconstruction error: 0.113111\n",
      "Epoch: 0 batch #: 56  of 300 sample #: 199 reconstruction error: 0.049688\n",
      "Epoch: 0 batch #: 57  of 300 sample #: 199 reconstruction error: 0.047179\n",
      "Epoch: 0 batch #: 58  of 300 sample #: 199 reconstruction error: 0.063113\n",
      "Epoch: 0 batch #: 59  of 300 sample #: 199 reconstruction error: 0.056166\n",
      "Epoch: 0 batch #: 60  of 300 sample #: 199 reconstruction error: 0.096360\n",
      "Epoch: 0 batch #: 61  of 300 sample #: 199 reconstruction error: 0.084864\n",
      "Epoch: 0 batch #: 62  of 300 sample #: 199 reconstruction error: 0.080538\n",
      "Epoch: 0 batch #: 63  of 300 sample #: 199 reconstruction error: 0.066701\n",
      "Epoch: 0 batch #: 64  of 300 sample #: 199 reconstruction error: 0.102379\n",
      "Epoch: 0 batch #: 65  of 300 sample #: 199 reconstruction error: 0.074680\n",
      "Epoch: 0 batch #: 66  of 300 sample #: 199 reconstruction error: 0.069914\n",
      "Epoch: 0 batch #: 67  of 300 sample #: 199 reconstruction error: 0.049565\n",
      "Epoch: 0 batch #: 68  of 300 sample #: 199 reconstruction error: 0.068330\n",
      "Epoch: 0 batch #: 69  of 300 sample #: 199 reconstruction error: 0.085268\n",
      "Epoch: 0 batch #: 70  of 300 sample #: 199 reconstruction error: 0.095428\n",
      "Epoch: 0 batch #: 71  of 300 sample #: 199 reconstruction error: 0.069963\n",
      "Epoch: 0 batch #: 72  of 300 sample #: 199 reconstruction error: 0.065332\n",
      "Epoch: 0 batch #: 73  of 300 sample #: 199 reconstruction error: 0.077750\n",
      "Epoch: 0 batch #: 74  of 300 sample #: 199 reconstruction error: 0.091423\n",
      "Epoch: 0 batch #: 75  of 300 sample #: 199 reconstruction error: 0.049453\n",
      "Epoch: 0 batch #: 76  of 300 sample #: 199 reconstruction error: 0.063305\n",
      "Epoch: 0 batch #: 77  of 300 sample #: 199 reconstruction error: 0.102785\n",
      "Epoch: 0 batch #: 78  of 300 sample #: 199 reconstruction error: 0.100538\n",
      "Epoch: 0 batch #: 79  of 300 sample #: 199 reconstruction error: 0.110418\n",
      "Epoch: 0 batch #: 80  of 300 sample #: 199 reconstruction error: 0.031326\n",
      "Epoch: 0 batch #: 81  of 300 sample #: 199 reconstruction error: 0.062424\n",
      "Epoch: 0 batch #: 82  of 300 sample #: 199 reconstruction error: 0.053601\n",
      "Epoch: 0 batch #: 83  of 300 sample #: 199 reconstruction error: 0.085814\n",
      "Epoch: 0 batch #: 84  of 300 sample #: 199 reconstruction error: 0.087477\n",
      "Epoch: 0 batch #: 85  of 300 sample #: 199 reconstruction error: 0.050090\n",
      "Epoch: 0 batch #: 86  of 300 sample #: 199 reconstruction error: 0.077956\n",
      "Epoch: 0 batch #: 87  of 300 sample #: 199 reconstruction error: 0.076536\n",
      "Epoch: 0 batch #: 88  of 300 sample #: 199 reconstruction error: 0.033049\n",
      "Epoch: 0 batch #: 89  of 300 sample #: 199 reconstruction error: 0.060414\n",
      "Epoch: 0 batch #: 90  of 300 sample #: 199 reconstruction error: 0.081672\n",
      "Epoch: 0 batch #: 91  of 300 sample #: 199 reconstruction error: 0.060701\n",
      "Epoch: 0 batch #: 92  of 300 sample #: 199 reconstruction error: 0.068550\n",
      "Epoch: 0 batch #: 93  of 300 sample #: 199 reconstruction error: 0.090563\n",
      "Epoch: 0 batch #: 94  of 300 sample #: 199 reconstruction error: 0.120693\n",
      "Epoch: 0 batch #: 95  of 300 sample #: 199 reconstruction error: 0.072538\n",
      "Epoch: 0 batch #: 96  of 300 sample #: 199 reconstruction error: 0.049023\n",
      "Epoch: 0 batch #: 97  of 300 sample #: 199 reconstruction error: 0.109932\n",
      "Epoch: 0 batch #: 98  of 300 sample #: 199 reconstruction error: 0.090695\n",
      "Epoch: 0 batch #: 99  of 300 sample #: 199 reconstruction error: 0.071942\n",
      "Epoch: 0 batch #: 100  of 300 sample #: 199 reconstruction error: 0.104936\n",
      "Epoch: 0 batch #: 101  of 300 sample #: 199 reconstruction error: 0.076018\n",
      "Epoch: 0 batch #: 102  of 300 sample #: 199 reconstruction error: 0.080221\n",
      "Epoch: 0 batch #: 103  of 300 sample #: 199 reconstruction error: 0.083201\n",
      "Epoch: 0 batch #: 104  of 300 sample #: 199 reconstruction error: 0.071173\n",
      "Epoch: 0 batch #: 105  of 300 sample #: 199 reconstruction error: 0.060166\n",
      "Epoch: 0 batch #: 106  of 300 sample #: 199 reconstruction error: 0.104736\n",
      "Epoch: 0 batch #: 107  of 300 sample #: 199 reconstruction error: 0.131360\n",
      "Epoch: 0 batch #: 108  of 300 sample #: 199 reconstruction error: 0.070753\n",
      "Epoch: 0 batch #: 109  of 300 sample #: 199 reconstruction error: 0.127102\n",
      "Epoch: 0 batch #: 110  of 300 sample #: 199 reconstruction error: 0.060937\n",
      "Epoch: 0 batch #: 111  of 300 sample #: 199 reconstruction error: 0.103728\n",
      "Epoch: 0 batch #: 112  of 300 sample #: 199 reconstruction error: 0.032417\n",
      "Epoch: 0 batch #: 113  of 300 sample #: 199 reconstruction error: 0.073174\n",
      "Epoch: 0 batch #: 114  of 300 sample #: 199 reconstruction error: 0.079256\n",
      "Epoch: 0 batch #: 115  of 300 sample #: 199 reconstruction error: 0.060476\n",
      "Epoch: 0 batch #: 116  of 300 sample #: 199 reconstruction error: 0.048764\n",
      "Epoch: 0 batch #: 117  of 300 sample #: 199 reconstruction error: 0.041207\n",
      "Epoch: 0 batch #: 118  of 300 sample #: 199 reconstruction error: 0.081654\n",
      "Epoch: 0 batch #: 119  of 300 sample #: 199 reconstruction error: 0.137679\n",
      "Epoch: 0 batch #: 120  of 300 sample #: 199 reconstruction error: 0.072625\n",
      "Epoch: 0 batch #: 121  of 300 sample #: 199 reconstruction error: 0.053392\n",
      "Epoch: 0 batch #: 122  of 300 sample #: 199 reconstruction error: 0.113647\n",
      "Epoch: 0 batch #: 123  of 300 sample #: 199 reconstruction error: 0.071441\n",
      "Epoch: 0 batch #: 124  of 300 sample #: 199 reconstruction error: 0.067166\n",
      "Epoch: 0 batch #: 125  of 300 sample #: 199 reconstruction error: 0.041350\n",
      "Epoch: 0 batch #: 126  of 300 sample #: 199 reconstruction error: 0.097652\n",
      "Epoch: 0 batch #: 127  of 300 sample #: 199 reconstruction error: 0.098063\n",
      "Epoch: 0 batch #: 128  of 300 sample #: 199 reconstruction error: 0.060964\n",
      "Epoch: 0 batch #: 129  of 300 sample #: 199 reconstruction error: 0.045163\n",
      "Epoch: 0 batch #: 130  of 300 sample #: 199 reconstruction error: 0.075194\n",
      "Epoch: 0 batch #: 131  of 300 sample #: 199 reconstruction error: 0.065828\n",
      "Epoch: 0 batch #: 132  of 300 sample #: 199 reconstruction error: 0.048807\n",
      "Epoch: 0 batch #: 133  of 300 sample #: 199 reconstruction error: 0.059446\n",
      "Epoch: 0 batch #: 134  of 300 sample #: 199 reconstruction error: 0.103420\n",
      "Epoch: 0 batch #: 135  of 300 sample #: 199 reconstruction error: 0.102161\n",
      "Epoch: 0 batch #: 136  of 300 sample #: 199 reconstruction error: 0.104475\n",
      "Epoch: 0 batch #: 137  of 300 sample #: 199 reconstruction error: 0.066565\n",
      "Epoch: 0 batch #: 138  of 300 sample #: 199 reconstruction error: 0.070141\n",
      "Epoch: 0 batch #: 139  of 300 sample #: 199 reconstruction error: 0.103052\n",
      "Epoch: 0 batch #: 140  of 300 sample #: 199 reconstruction error: 0.060975\n",
      "Epoch: 0 batch #: 141  of 300 sample #: 199 reconstruction error: 0.081105\n",
      "Epoch: 0 batch #: 142  of 300 sample #: 199 reconstruction error: 0.065378\n",
      "Epoch: 0 batch #: 143  of 300 sample #: 199 reconstruction error: 0.057582\n",
      "Epoch: 0 batch #: 144  of 300 sample #: 199 reconstruction error: 0.063861\n",
      "Epoch: 0 batch #: 145  of 300 sample #: 199 reconstruction error: 0.085929\n",
      "Epoch: 0 batch #: 146  of 300 sample #: 199 reconstruction error: 0.124738\n",
      "Epoch: 0 batch #: 147  of 300 sample #: 199 reconstruction error: 0.071071\n",
      "Epoch: 0 batch #: 148  of 300 sample #: 199 reconstruction error: 0.082547\n",
      "Epoch: 0 batch #: 149  of 300 sample #: 199 reconstruction error: 0.036039\n",
      "Epoch: 0 batch #: 150  of 300 sample #: 199 reconstruction error: 0.039448\n",
      "Epoch: 0 batch #: 151  of 300 sample #: 199 reconstruction error: 0.104526\n",
      "Epoch: 0 batch #: 152  of 300 sample #: 199 reconstruction error: 0.083129\n",
      "Epoch: 0 batch #: 153  of 300 sample #: 199 reconstruction error: 0.073888\n",
      "Epoch: 0 batch #: 154  of 300 sample #: 199 reconstruction error: 0.064038\n",
      "Epoch: 0 batch #: 155  of 300 sample #: 199 reconstruction error: 0.056525\n",
      "Epoch: 0 batch #: 156  of 300 sample #: 199 reconstruction error: 0.077107\n",
      "Epoch: 0 batch #: 157  of 300 sample #: 199 reconstruction error: 0.076057\n",
      "Epoch: 0 batch #: 158  of 300 sample #: 199 reconstruction error: 0.067158\n",
      "Epoch: 0 batch #: 159  of 300 sample #: 199 reconstruction error: 0.066879\n",
      "Epoch: 0 batch #: 160  of 300 sample #: 199 reconstruction error: 0.066266\n",
      "Epoch: 0 batch #: 161  of 300 sample #: 199 reconstruction error: 0.108560\n",
      "Epoch: 0 batch #: 162  of 300 sample #: 199 reconstruction error: 0.099318\n",
      "Epoch: 0 batch #: 163  of 300 sample #: 199 reconstruction error: 0.049186\n",
      "Epoch: 0 batch #: 164  of 300 sample #: 199 reconstruction error: 0.071057\n",
      "Epoch: 0 batch #: 165  of 300 sample #: 199 reconstruction error: 0.085592\n",
      "Epoch: 0 batch #: 166  of 300 sample #: 199 reconstruction error: 0.068404\n",
      "Epoch: 0 batch #: 167  of 300 sample #: 199 reconstruction error: 0.085739\n",
      "Epoch: 0 batch #: 168  of 300 sample #: 199 reconstruction error: 0.047030\n",
      "Epoch: 0 batch #: 169  of 300 sample #: 199 reconstruction error: 0.042268\n",
      "Epoch: 0 batch #: 170  of 300 sample #: 199 reconstruction error: 0.060999\n",
      "Epoch: 0 batch #: 171  of 300 sample #: 199 reconstruction error: 0.024278\n",
      "Epoch: 0 batch #: 172  of 300 sample #: 199 reconstruction error: 0.050267\n",
      "Epoch: 0 batch #: 173  of 300 sample #: 199 reconstruction error: 0.078171\n",
      "Epoch: 0 batch #: 174  of 300 sample #: 199 reconstruction error: 0.095238\n",
      "Epoch: 0 batch #: 175  of 300 sample #: 199 reconstruction error: 0.078481\n",
      "Epoch: 0 batch #: 176  of 300 sample #: 199 reconstruction error: 0.049248\n",
      "Epoch: 0 batch #: 177  of 300 sample #: 199 reconstruction error: 0.047807\n",
      "Epoch: 0 batch #: 178  of 300 sample #: 199 reconstruction error: 0.088503\n",
      "Epoch: 0 batch #: 179  of 300 sample #: 199 reconstruction error: 0.073834\n",
      "Epoch: 0 batch #: 180  of 300 sample #: 199 reconstruction error: 0.090539\n",
      "Epoch: 0 batch #: 181  of 300 sample #: 199 reconstruction error: 0.086439\n",
      "Epoch: 0 batch #: 182  of 300 sample #: 199 reconstruction error: 0.091272\n",
      "Epoch: 0 batch #: 183  of 300 sample #: 199 reconstruction error: 0.099495\n",
      "Epoch: 0 batch #: 184  of 300 sample #: 199 reconstruction error: 0.064899\n",
      "Epoch: 0 batch #: 185  of 300 sample #: 199 reconstruction error: 0.072063\n",
      "Epoch: 0 batch #: 186  of 300 sample #: 199 reconstruction error: 0.101989\n",
      "Epoch: 0 batch #: 187  of 300 sample #: 199 reconstruction error: 0.044938\n",
      "Epoch: 0 batch #: 188  of 300 sample #: 199 reconstruction error: 0.105313\n",
      "Epoch: 0 batch #: 189  of 300 sample #: 199 reconstruction error: 0.080502\n",
      "Epoch: 0 batch #: 190  of 300 sample #: 199 reconstruction error: 0.068785\n",
      "Epoch: 0 batch #: 191  of 300 sample #: 199 reconstruction error: 0.100221\n",
      "Epoch: 0 batch #: 192  of 300 sample #: 199 reconstruction error: 0.129958\n",
      "Epoch: 0 batch #: 193  of 300 sample #: 199 reconstruction error: 0.103044\n",
      "Epoch: 0 batch #: 194  of 300 sample #: 199 reconstruction error: 0.084621\n",
      "Epoch: 0 batch #: 195  of 300 sample #: 199 reconstruction error: 0.046178\n",
      "Epoch: 0 batch #: 196  of 300 sample #: 199 reconstruction error: 0.043732\n",
      "Epoch: 0 batch #: 197  of 300 sample #: 199 reconstruction error: 0.060942\n",
      "Epoch: 0 batch #: 198  of 300 sample #: 199 reconstruction error: 0.087458\n",
      "Epoch: 0 batch #: 199  of 300 sample #: 199 reconstruction error: 0.062487\n",
      "Epoch: 0 batch #: 200  of 300 sample #: 199 reconstruction error: 0.095653\n",
      "Epoch: 0 batch #: 201  of 300 sample #: 199 reconstruction error: 0.092133\n",
      "Epoch: 0 batch #: 202  of 300 sample #: 199 reconstruction error: 0.035586\n",
      "Epoch: 0 batch #: 203  of 300 sample #: 199 reconstruction error: 0.079182\n",
      "Epoch: 0 batch #: 204  of 300 sample #: 199 reconstruction error: 0.054311\n",
      "Epoch: 0 batch #: 205  of 300 sample #: 199 reconstruction error: 0.021916\n",
      "Epoch: 0 batch #: 206  of 300 sample #: 199 reconstruction error: 0.061982\n",
      "Epoch: 0 batch #: 207  of 300 sample #: 199 reconstruction error: 0.068813\n",
      "Epoch: 0 batch #: 208  of 300 sample #: 199 reconstruction error: 0.058722\n",
      "Epoch: 0 batch #: 209  of 300 sample #: 199 reconstruction error: 0.027580\n",
      "Epoch: 0 batch #: 210  of 300 sample #: 199 reconstruction error: 0.100062\n",
      "Epoch: 0 batch #: 211  of 300 sample #: 199 reconstruction error: 0.078964\n",
      "Epoch: 0 batch #: 212  of 300 sample #: 199 reconstruction error: 0.087288\n",
      "Epoch: 0 batch #: 213  of 300 sample #: 199 reconstruction error: 0.089103\n",
      "Epoch: 0 batch #: 214  of 300 sample #: 199 reconstruction error: 0.102674\n",
      "Epoch: 0 batch #: 215  of 300 sample #: 199 reconstruction error: 0.038936\n",
      "Epoch: 0 batch #: 216  of 300 sample #: 199 reconstruction error: 0.089378\n",
      "Epoch: 0 batch #: 217  of 300 sample #: 199 reconstruction error: 0.077830\n",
      "Epoch: 0 batch #: 218  of 300 sample #: 199 reconstruction error: 0.063670\n",
      "Epoch: 0 batch #: 219  of 300 sample #: 199 reconstruction error: 0.061117\n",
      "Epoch: 0 batch #: 220  of 300 sample #: 199 reconstruction error: 0.048986\n",
      "Epoch: 0 batch #: 221  of 300 sample #: 199 reconstruction error: 0.090969\n",
      "Epoch: 0 batch #: 222  of 300 sample #: 199 reconstruction error: 0.090638\n",
      "Epoch: 0 batch #: 223  of 300 sample #: 199 reconstruction error: 0.061549\n",
      "Epoch: 0 batch #: 224  of 300 sample #: 199 reconstruction error: 0.073145\n",
      "Epoch: 0 batch #: 225  of 300 sample #: 199 reconstruction error: 0.076190\n",
      "Epoch: 0 batch #: 226  of 300 sample #: 199 reconstruction error: 0.129833\n",
      "Epoch: 0 batch #: 227  of 300 sample #: 199 reconstruction error: 0.083939\n",
      "Epoch: 0 batch #: 228  of 300 sample #: 199 reconstruction error: 0.080886\n",
      "Epoch: 0 batch #: 229  of 300 sample #: 199 reconstruction error: 0.074319\n",
      "Epoch: 0 batch #: 230  of 300 sample #: 199 reconstruction error: 0.027706\n",
      "Epoch: 0 batch #: 231  of 300 sample #: 199 reconstruction error: 0.029221\n",
      "Epoch: 0 batch #: 232  of 300 sample #: 199 reconstruction error: 0.058329\n",
      "Epoch: 0 batch #: 233  of 300 sample #: 199 reconstruction error: 0.065298\n",
      "Epoch: 0 batch #: 234  of 300 sample #: 199 reconstruction error: 0.067573\n",
      "Epoch: 0 batch #: 235  of 300 sample #: 199 reconstruction error: 0.071526\n",
      "Epoch: 0 batch #: 236  of 300 sample #: 199 reconstruction error: 0.103968\n",
      "Epoch: 0 batch #: 237  of 300 sample #: 199 reconstruction error: 0.075568\n",
      "Epoch: 0 batch #: 238  of 300 sample #: 199 reconstruction error: 0.105622\n",
      "Epoch: 0 batch #: 239  of 300 sample #: 199 reconstruction error: 0.031767\n",
      "Epoch: 0 batch #: 240  of 300 sample #: 199 reconstruction error: 0.104369\n",
      "Epoch: 0 batch #: 241  of 300 sample #: 199 reconstruction error: 0.090869\n",
      "Epoch: 0 batch #: 242  of 300 sample #: 199 reconstruction error: 0.088067\n",
      "Epoch: 0 batch #: 243  of 300 sample #: 199 reconstruction error: 0.077048\n",
      "Epoch: 0 batch #: 244  of 300 sample #: 199 reconstruction error: 0.064452\n",
      "Epoch: 0 batch #: 245  of 300 sample #: 199 reconstruction error: 0.066990\n",
      "Epoch: 0 batch #: 246  of 300 sample #: 199 reconstruction error: 0.080912\n",
      "Epoch: 0 batch #: 247  of 300 sample #: 199 reconstruction error: 0.039963\n",
      "Epoch: 0 batch #: 248  of 300 sample #: 199 reconstruction error: 0.056553\n",
      "Epoch: 0 batch #: 249  of 300 sample #: 199 reconstruction error: 0.038993\n",
      "Epoch: 0 batch #: 250  of 300 sample #: 199 reconstruction error: 0.091858\n",
      "Epoch: 0 batch #: 251  of 300 sample #: 199 reconstruction error: 0.043854\n",
      "Epoch: 0 batch #: 252  of 300 sample #: 199 reconstruction error: 0.075364\n",
      "Epoch: 0 batch #: 253  of 300 sample #: 199 reconstruction error: 0.063648\n",
      "Epoch: 0 batch #: 254  of 300 sample #: 199 reconstruction error: 0.034120\n",
      "Epoch: 0 batch #: 255  of 300 sample #: 199 reconstruction error: 0.045959\n",
      "Epoch: 0 batch #: 256  of 300 sample #: 199 reconstruction error: 0.078765\n",
      "Epoch: 0 batch #: 257  of 300 sample #: 199 reconstruction error: 0.097281\n",
      "Epoch: 0 batch #: 258  of 300 sample #: 199 reconstruction error: 0.077219\n",
      "Epoch: 0 batch #: 259  of 300 sample #: 199 reconstruction error: 0.081861\n",
      "Epoch: 0 batch #: 260  of 300 sample #: 199 reconstruction error: 0.105596\n",
      "Epoch: 0 batch #: 261  of 300 sample #: 199 reconstruction error: 0.042925\n",
      "Epoch: 0 batch #: 262  of 300 sample #: 199 reconstruction error: 0.045695\n",
      "Epoch: 0 batch #: 263  of 300 sample #: 199 reconstruction error: 0.078372\n",
      "Epoch: 0 batch #: 264  of 300 sample #: 199 reconstruction error: 0.078576\n",
      "Epoch: 0 batch #: 265  of 300 sample #: 199 reconstruction error: 0.066942\n",
      "Epoch: 0 batch #: 266  of 300 sample #: 199 reconstruction error: 0.033588\n",
      "Epoch: 0 batch #: 267  of 300 sample #: 199 reconstruction error: 0.067491\n",
      "Epoch: 0 batch #: 268  of 300 sample #: 199 reconstruction error: 0.019778\n",
      "Epoch: 0 batch #: 269  of 300 sample #: 199 reconstruction error: 0.090774\n",
      "Epoch: 0 batch #: 270  of 300 sample #: 199 reconstruction error: 0.073648\n",
      "Epoch: 0 batch #: 271  of 300 sample #: 199 reconstruction error: 0.052636\n",
      "Epoch: 0 batch #: 272  of 300 sample #: 199 reconstruction error: 0.051007\n",
      "Epoch: 0 batch #: 273  of 300 sample #: 199 reconstruction error: 0.048485\n",
      "Epoch: 0 batch #: 274  of 300 sample #: 199 reconstruction error: 0.050700\n",
      "Epoch: 0 batch #: 275  of 300 sample #: 199 reconstruction error: 0.127597\n",
      "Epoch: 0 batch #: 276  of 300 sample #: 199 reconstruction error: 0.084781\n",
      "Epoch: 0 batch #: 277  of 300 sample #: 199 reconstruction error: 0.076445\n",
      "Epoch: 0 batch #: 278  of 300 sample #: 199 reconstruction error: 0.064002\n",
      "Epoch: 0 batch #: 279  of 300 sample #: 199 reconstruction error: 0.044283\n",
      "Epoch: 0 batch #: 280  of 300 sample #: 199 reconstruction error: 0.079290\n",
      "Epoch: 0 batch #: 281  of 300 sample #: 199 reconstruction error: 0.070257\n",
      "Epoch: 0 batch #: 282  of 300 sample #: 199 reconstruction error: 0.092876\n",
      "Epoch: 0 batch #: 283  of 300 sample #: 199 reconstruction error: 0.046722\n",
      "Epoch: 0 batch #: 284  of 300 sample #: 199 reconstruction error: 0.058145\n",
      "Epoch: 0 batch #: 285  of 300 sample #: 199 reconstruction error: 0.062680\n",
      "Epoch: 0 batch #: 286  of 300 sample #: 199 reconstruction error: 0.080838\n",
      "Epoch: 0 batch #: 287  of 300 sample #: 199 reconstruction error: 0.079868\n",
      "Epoch: 0 batch #: 288  of 300 sample #: 199 reconstruction error: 0.026402\n",
      "Epoch: 0 batch #: 289  of 300 sample #: 199 reconstruction error: 0.090299\n",
      "Epoch: 0 batch #: 290  of 300 sample #: 199 reconstruction error: 0.107677\n",
      "Epoch: 0 batch #: 291  of 300 sample #: 199 reconstruction error: 0.108048\n",
      "Epoch: 0 batch #: 292  of 300 sample #: 199 reconstruction error: 0.088950\n",
      "Epoch: 0 batch #: 293  of 300 sample #: 199 reconstruction error: 0.058761\n",
      "Epoch: 0 batch #: 294  of 300 sample #: 199 reconstruction error: 0.094611\n",
      "Epoch: 0 batch #: 295  of 300 sample #: 199 reconstruction error: 0.081395\n",
      "Epoch: 0 batch #: 296  of 300 sample #: 199 reconstruction error: 0.023337\n",
      "Epoch: 0 batch #: 297  of 300 sample #: 199 reconstruction error: 0.109399\n",
      "Epoch: 0 batch #: 298  of 300 sample #: 199 reconstruction error: 0.049696\n",
      "Epoch: 0 batch #: 299  of 300 sample #: 199 reconstruction error: 0.058504\n",
      "Epoch: 0 batch #: 300  of 300 sample #: 199 reconstruction error: 0.073746\n"
     ]
    }
   ],
   "source": [
    "#Parameters\n",
    "alpha = 0.01\n",
    "epochs = 1\n",
    "batchsize = 200\n",
    "weights = []\n",
    "errors = []\n",
    "batch_number = 0\n",
    "K = 1\n",
    "\n",
    "#creating datasets\n",
    "train_ds = \\\n",
    "    tf.data.Dataset.from_tensor_slices((trX, trY)).batch(batchsize)\n",
    "\n",
    "for epoch in range(epochs):\n",
    "    for batch_x, batch_y in train_ds:\n",
    "        batch_number += 1\n",
    "        for i_sample in range(batchsize):           \n",
    "            for k in range(K):\n",
    "                v0_state = batch_x[i_sample]\n",
    "                h0_state = hidden_layer(v0_state, W, hb)\n",
    "                v1_state = reconstructed_output(h0_state, W, vb)\n",
    "                h1_state = hidden_layer(v1_state, W, hb)\n",
    "\n",
    "                delta_W = tf.matmul(tf.transpose([v0_state]), h0_state) - tf.matmul(tf.transpose([v1_state]), h1_state)\n",
    "                W = W + alpha * delta_W\n",
    "\n",
    "                vb = vb + alpha * tf.reduce_mean(v0_state - v1_state, 0)\n",
    "                hb = hb + alpha * tf.reduce_mean(h0_state - h1_state, 0) \n",
    "\n",
    "                v0_state = v1_state\n",
    "\n",
    "            if i_sample == batchsize-1:\n",
    "                err = error(batch_x[i_sample], v1_state)\n",
    "                errors.append(err)\n",
    "                weights.append(W)\n",
    "                print ( 'Epoch: %d' % epoch, \n",
    "                       \"batch #: %i \" % batch_number, \"of %i\" % int(60e3/batchsize), \n",
    "                       \"sample #: %i\" % i_sample,\n",
    "                       'reconstruction error: %f' % err)\n",
    "\n"
   ]
  },
  {
   "cell_type": "markdown",
   "metadata": {
    "id": "h7S7ZdNHMpJr"
   },
   "source": [
    "Let's take a look at the errors at the end of each batch:\n"
   ]
  },
  {
   "cell_type": "code",
   "execution_count": 20,
   "metadata": {
    "colab": {
     "base_uri": "https://localhost:8080/",
     "height": 279
    },
    "id": "-S_HiJBZMpJr",
    "outputId": "89f040a0-ec70-4f83-dd81-d3e8f7eab59a"
   },
   "outputs": [
    {
     "data": {
      "image/png": "[encoded data removed]",
      "text/plain": [
       "<Figure size 432x288 with 1 Axes>"
      ]
     },
     "metadata": {
      "needs_background": "light"
     },
     "output_type": "display_data"
    }
   ],
   "source": [
    "plt.plot(errors)\n",
    "plt.xlabel(\"Batch Number\")\n",
    "plt.ylabel(\"Error\")\n",
    "plt.show()"
   ]
  },
  {
   "cell_type": "markdown",
   "metadata": {
    "id": "r6OzFAv-MpJr"
   },
   "source": [
    "What is the final weight matrix $W$ after training?\n"
   ]
  },
  {
   "cell_type": "code",
   "execution_count": 21,
   "metadata": {
    "colab": {
     "base_uri": "https://localhost:8080/"
    },
    "id": "pQgFENtuMpJr",
    "outputId": "b956d3bc-a25f-49a7-84bf-6d80b5f1b32b"
   },
   "outputs": [
    {
     "name": "stdout",
     "output_type": "stream",
     "text": [
      "[[-0.29       -0.40999988 -0.27       ... -0.27       -0.31999996\n",
      "  -0.3799999 ]\n",
      " [-0.26000002 -0.41999987 -0.29       ... -0.29999998 -0.32999995\n",
      "  -0.46999982]\n",
      " [-0.25000003 -0.44999984 -0.20000002 ... -0.28       -0.34999993\n",
      "  -0.4899998 ]\n",
      " ...\n",
      " [-0.29       -0.36999992 -0.32999995 ... -0.30999997 -0.3799999\n",
      "  -0.43999985]\n",
      " [-0.22000003 -0.46999982 -0.27       ... -0.29       -0.31999996\n",
      "  -0.43999985]\n",
      " [-0.24000004 -0.5499998  -0.22000003 ... -0.25000003 -0.41999987\n",
      "  -0.41999987]]\n"
     ]
    }
   ],
   "source": [
    "print(W.numpy()) # a weight matrix of shape (50,784)"
   ]
  },
  {
   "cell_type": "markdown",
   "metadata": {
    "id": "oj3ICCHCMpJr"
   },
   "source": [
    "<a id=\"ref5\"></a>\n",
    "\n",
    "<h3>Learned features</h3> \n"
   ]
  },
  {
   "cell_type": "markdown",
   "metadata": {
    "id": "VQenVE9VMpJs"
   },
   "source": [
    "We can take each hidden unit and visualize the connections between that hidden unit and each element in the input vector. In our case, we have 50 hidden units. Lets visualize those.\n"
   ]
  },
  {
   "cell_type": "markdown",
   "metadata": {
    "id": "2JwS8fdLMpJs"
   },
   "source": [
    "Let's plot the current weights:\n",
    "<b>tile_raster_images</b> helps in generating an easy to grasp image from a set of samples or weights. It transforms the <b>uw</b> (with one flattened image per row of size 784), into an array (of size $28\\times28$) in which images are reshaped and laid out like tiles on a floor.\n"
   ]
  },
  {
   "cell_type": "code",
   "execution_count": 22,
   "metadata": {
    "colab": {
     "base_uri": "https://localhost:8080/",
     "height": 551
    },
    "id": "ZjHiYXIkMpJs",
    "outputId": "b2602ad8-6719-4638-81e6-dc4b2a5c1925"
   },
   "outputs": [
    {
     "data": {
      "image/png": "[encoded data removed]",
      "text/plain": [
       "<Figure size 1296x1296 with 1 Axes>"
      ]
     },
     "metadata": {
      "needs_background": "light"
     },
     "output_type": "display_data"
    }
   ],
   "source": [
    "tile_raster_images(X=W.numpy().T, img_shape=(28, 28), tile_shape=(5, 10), tile_spacing=(1, 1))\n",
    "import matplotlib.pyplot as plt\n",
    "from PIL import Image\n",
    "%matplotlib inline\n",
    "image = Image.fromarray(tile_raster_images(X=W.numpy().T, img_shape=(28, 28) ,tile_shape=(5, 10), tile_spacing=(1, 1)))\n",
    "### Plot image\n",
    "plt.rcParams['figure.figsize'] = (18.0, 18.0)\n",
    "imgplot = plt.imshow(image)\n",
    "imgplot.set_cmap('gray')  "
   ]
  },
  {
   "cell_type": "markdown",
   "metadata": {
    "id": "Jk4jChNiMpJs"
   },
   "source": [
    "Each tile in the above visualization corresponds to a vector of connections between a hidden unit and visible layer's units. \n"
   ]
  },
  {
   "cell_type": "markdown",
   "metadata": {
    "id": "PdP_yg-IMpJt"
   },
   "source": [
    "Let's look at one of the learned weights corresponding to one of hidden units for example. In this particular square, the gray color represents weight = 0, and the whiter it is, the more positive the weights are (closer to 1). Conversely, the darker pixels are, the more negative the weights. The positive pixels will increase the probability of activation in hidden units (after multiplying by input/visible pixels), and negative pixels will decrease the probability of a unit hidden to be 1 (activated). So, why is this important?  So we can see that this specific square (hidden unit) can detect a feature (e.g. a \"/\" shape) and if it exists in the input.\n"
   ]
  },
  {
   "cell_type": "code",
   "execution_count": 23,
   "metadata": {
    "colab": {
     "base_uri": "https://localhost:8080/",
     "height": 265
    },
    "id": "ajFiTAy7MpJt",
    "outputId": "852130b5-9e01-4452-ee79-b54d2b8cde99"
   },
   "outputs": [
    {
     "data": {
      "image/png": "[encoded data removed]",
      "text/plain": [
       "<Figure size 288x288 with 1 Axes>"
      ]
     },
     "metadata": {
      "needs_background": "light"
     },
     "output_type": "display_data"
    }
   ],
   "source": [
    "from PIL import Image\n",
    "image = Image.fromarray(tile_raster_images(X =W.numpy().T[10:11], img_shape=(28, 28),tile_shape=(1, 1), tile_spacing=(1, 1)))\n",
    "### Plot image\n",
    "plt.rcParams['figure.figsize'] = (4.0, 4.0)\n",
    "imgplot = plt.imshow(image)\n",
    "imgplot.set_cmap('gray')  "
   ]
  },
  {
   "cell_type": "markdown",
   "metadata": {
    "id": "8oEpC24AMpJt"
   },
   "source": [
    "Let's look at the reconstruction of an image now. Imagine that we have a destructed image of figure 3. Lets see if our trained network can fix it:\n",
    "\n",
    "First we plot the image:\n"
   ]
  },
  {
   "cell_type": "code",
   "execution_count": 24,
   "metadata": {
    "colab": {
     "base_uri": "https://localhost:8080/",
     "height": 652
    },
    "id": "ueQDyZ0QMpJt",
    "outputId": "f1dabad9-b078-48da-f422-3f8b5f5a50b0"
   },
   "outputs": [
    {
     "name": "stdout",
     "output_type": "stream",
     "text": [
      "--2022-01-16 14:24:53--  https://ibm.box.com/shared/static/vvm1b63uvuxq88vbw9znpwu5ol380mco.jpg\n",
      "Resolving ibm.box.com (ibm.box.com)... 107.152.26.197\n",
      "Connecting to ibm.box.com (ibm.box.com)|107.152.26.197|:443... connected.\n",
      "HTTP request sent, awaiting response... 301 Moved Permanently\n",
      "Location: /public/static/vvm1b63uvuxq88vbw9znpwu5ol380mco.jpg [following]\n",
      "--2022-01-16 14:24:54--  https://ibm.box.com/public/static/vvm1b63uvuxq88vbw9znpwu5ol380mco.jpg\n",
      "Reusing existing connection to ibm.box.com:443.\n",
      "HTTP request sent, awaiting response... 301 Moved Permanently\n",
      "Location: https://ibm.ent.box.com/public/static/vvm1b63uvuxq88vbw9znpwu5ol380mco.jpg [following]\n",
      "--2022-01-16 14:24:54--  https://ibm.ent.box.com/public/static/vvm1b63uvuxq88vbw9znpwu5ol380mco.jpg\n",
      "Resolving ibm.ent.box.com (ibm.ent.box.com)... 107.152.26.201\n",
      "Connecting to ibm.ent.box.com (ibm.ent.box.com)|107.152.26.201|:443... connected.\n",
      "HTTP request sent, awaiting response... 302 Found\n",
      "Location: https://public.boxcloud.com/d/1/b1!U0lwsRqH7SKWfAhiwNW5wFVTh0wGCkaWoKrTpGPLPjc4AO-HLDq5imMIE5x-1ilRdXTEuwibPffwAetLtml7mcQbpt7oSr6euz-XgXopos2iTX6v_zVwEdVBNcsLMcr6uF8Bdq4XSwRVA95QIMxRF3U5IoLcjoGwCyhz0sNebT3nL7zOHmPbtNYXOGcdOcq9tVpZOkyglWfUA7cuSr8iHlg9iYFEuWTgUv-REiFUIndxYfM0d-8rQlHbT6BKH3WVq0MhsJqWs-O83aeo2_jvYzCd0LashmaXXR1mhOzBoqBIYDRTQo5kA5Nzm4_c-h7GQywjD9Tojbva6lawpsDVfNdMVG0fWc3tmq_92tdeSSoqKU2rt0ThNUTmF-0QODiaaWqKT2u0akFO-Pt2wrsFGQXWML-GRr0OPP5TCS6-tXVbMfCGGFV8OohudwFnoZNO1k5TSHYCowCDHwKekp5j8yW5ECMAtKm7f06Ca02bQyTMkimemIa0zGsSnT4kHVUh-ECDmTvqhVcevB7rIzRqKpDgGlgjW_zYpm_5UT9fW3lJyHqPdNnoHNatzj321ipXjcHAWlhzVWxSEereJ3ducAXgGfKqFWFSTnP8SgGFKi8fRRnOdzwyPLvZzFxw3nfNlqFFcuRZAv6yG-8hlUJme5Oe7VssxL7iPafpOMxzmYhqiVqYWpWV_5GORNMwtQ-N-UBQT_nIRFRgOg8QiKn2nCfkr2dRlZlNW0CIPkj2RvXgfJS7MCY_7ZkOxRxe5zb_ZW84DasDTwOICT-RPVBcaJHdG5zdaq-0i7TKORXiVNyw9sSVz6k_osL9FvvklUJlzqBZEd8zvVTxfed-I9XKUGbcki-CRGoaHYZQGxiy0IKrg1PYbop04RKEGlct7P3ij3qdlbRs4THwaNERtEq-a4Jkp70uUu-kRwX3c69ddlqjILUGq10LTUc5i4j7w7OKNmohQwF4ZC3RfYlXWwr3YO4PXHexgCiYiOAlI1kGsinLHKVAGzEVoJ_tJVvzTIwdqte_zvWeXt3YUti4gnECOfHJBXL2_q9ZW9KtBO0MCtAbpiDF29KRcx4hDVBglg7ALhobTku9oH5SeUE_5Vvw942vcFIXls30qS3SdRwOokp5gq3IF4BVGfyVMWfynwd4bEMqaU9kAcXBpvPGgIJKouKuYEMnE36CCOUSfL6dewsrAqwaKnE43tUHXX8QFMy7BAPklaUANkPO3qFIsODjt7Xm5WtZvKuvtOD2lOPpPsKUvQiICXPwU_-eR4Uefd9EWjCAUaQGRQ5N7aWcQEkG5cwbtRRTSmJg40FwqVM7RgSn_6TgbruSC_oPn_9raTiWR3xzyUWuG-8D05SD94gtvEYZKWWaouZ14k2QfkyCo-ymZuU0CSIPbO4BRSancQTveJ4yFnruRHqUPxtGMKsk28yYxZw./download [following]\n",
      "--2022-01-16 14:24:55--  https://public.boxcloud.com/d/1/b1!U0lwsRqH7SKWfAhiwNW5wFVTh0wGCkaWoKrTpGPLPjc4AO-HLDq5imMIE5x-1ilRdXTEuwibPffwAetLtml7mcQbpt7oSr6euz-XgXopos2iTX6v_zVwEdVBNcsLMcr6uF8Bdq4XSwRVA95QIMxRF3U5IoLcjoGwCyhz0sNebT3nL7zOHmPbtNYXOGcdOcq9tVpZOkyglWfUA7cuSr8iHlg9iYFEuWTgUv-REiFUIndxYfM0d-8rQlHbT6BKH3WVq0MhsJqWs-O83aeo2_jvYzCd0LashmaXXR1mhOzBoqBIYDRTQo5kA5Nzm4_c-h7GQywjD9Tojbva6lawpsDVfNdMVG0fWc3tmq_92tdeSSoqKU2rt0ThNUTmF-0QODiaaWqKT2u0akFO-Pt2wrsFGQXWML-GRr0OPP5TCS6-tXVbMfCGGFV8OohudwFnoZNO1k5TSHYCowCDHwKekp5j8yW5ECMAtKm7f06Ca02bQyTMkimemIa0zGsSnT4kHVUh-ECDmTvqhVcevB7rIzRqKpDgGlgjW_zYpm_5UT9fW3lJyHqPdNnoHNatzj321ipXjcHAWlhzVWxSEereJ3ducAXgGfKqFWFSTnP8SgGFKi8fRRnOdzwyPLvZzFxw3nfNlqFFcuRZAv6yG-8hlUJme5Oe7VssxL7iPafpOMxzmYhqiVqYWpWV_5GORNMwtQ-N-UBQT_nIRFRgOg8QiKn2nCfkr2dRlZlNW0CIPkj2RvXgfJS7MCY_7ZkOxRxe5zb_ZW84DasDTwOICT-RPVBcaJHdG5zdaq-0i7TKORXiVNyw9sSVz6k_osL9FvvklUJlzqBZEd8zvVTxfed-I9XKUGbcki-CRGoaHYZQGxiy0IKrg1PYbop04RKEGlct7P3ij3qdlbRs4THwaNERtEq-a4Jkp70uUu-kRwX3c69ddlqjILUGq10LTUc5i4j7w7OKNmohQwF4ZC3RfYlXWwr3YO4PXHexgCiYiOAlI1kGsinLHKVAGzEVoJ_tJVvzTIwdqte_zvWeXt3YUti4gnECOfHJBXL2_q9ZW9KtBO0MCtAbpiDF29KRcx4hDVBglg7ALhobTku9oH5SeUE_5Vvw942vcFIXls30qS3SdRwOokp5gq3IF4BVGfyVMWfynwd4bEMqaU9kAcXBpvPGgIJKouKuYEMnE36CCOUSfL6dewsrAqwaKnE43tUHXX8QFMy7BAPklaUANkPO3qFIsODjt7Xm5WtZvKuvtOD2lOPpPsKUvQiICXPwU_-eR4Uefd9EWjCAUaQGRQ5N7aWcQEkG5cwbtRRTSmJg40FwqVM7RgSn_6TgbruSC_oPn_9raTiWR3xzyUWuG-8D05SD94gtvEYZKWWaouZ14k2QfkyCo-ymZuU0CSIPbO4BRSancQTveJ4yFnruRHqUPxtGMKsk28yYxZw./download\n",
      "Resolving public.boxcloud.com (public.boxcloud.com)... 107.152.26.200\n",
      "Connecting to public.boxcloud.com (public.boxcloud.com)|107.152.26.200|:443... connected.\n",
      "HTTP request sent, awaiting response... 200 OK\n",
      "Length: 24383 (24K) [image/jpeg]\n",
      "Saving to: ‘destructed3.jpg’\n",
      "\n",
      "destructed3.jpg     100%[===================>]  23.81K  --.-KB/s    in 0.06s   \n",
      "\n",
      "2022-01-16 14:24:56 (374 KB/s) - ‘destructed3.jpg’ saved [24383/24383]\n",
      "\n"
     ]
    },
    {
     "data": {
      "image/png": "[encoded data removed]",
      "text/plain": [
       "<PIL.JpegImagePlugin.JpegImageFile image mode=RGB size=181x181 at 0x7FD715BCF050>"
      ]
     },
     "execution_count": 24,
     "metadata": {},
     "output_type": "execute_result"
    }
   ],
   "source": [
    "!wget -O destructed3.jpg  https://ibm.box.com/shared/static/vvm1b63uvuxq88vbw9znpwu5ol380mco.jpg\n",
    "img = Image.open('destructed3.jpg')\n",
    "img"
   ]
  },
  {
   "cell_type": "markdown",
   "metadata": {
    "id": "sKSZzPumMpJt"
   },
   "source": [
    "Now let's pass this image through the neural net:\n"
   ]
  },
  {
   "cell_type": "code",
   "execution_count": 25,
   "metadata": {
    "id": "Ny6Iq_aeMpJt"
   },
   "outputs": [],
   "source": [
    "# convert the image to a 1d numpy array\n",
    "sample_case = np.array(img.convert('I').resize((28,28))).ravel().reshape((1, -1))/255.0\n",
    "\n",
    "sample_case = tf.cast(sample_case, dtype=tf.float32)"
   ]
  },
  {
   "cell_type": "markdown",
   "metadata": {
    "id": "kPqLFacRMpJu"
   },
   "source": [
    "Feed the sample case into the network and reconstruct the output:\n"
   ]
  },
  {
   "cell_type": "code",
   "execution_count": 26,
   "metadata": {
    "colab": {
     "base_uri": "https://localhost:8080/"
    },
    "id": "QZZzzKtyMpJu",
    "outputId": "50bd7683-aff0-4b76-e7e3-6bfa9e3252e5"
   },
   "outputs": [
    {
     "name": "stdout",
     "output_type": "stream",
     "text": [
      "Probability nodes in hidden layer: tf.Tensor(\n",
      "[[2.3636853e-11 1.0000000e+00 3.1754228e-16 2.6054470e-06 4.3498859e-12\n",
      "  1.0000000e+00 9.9440646e-01 5.9175265e-10 9.9999809e-01 2.6965141e-04\n",
      "  1.6456316e-09 9.9309647e-01 8.2925808e-01 8.8185668e-02 7.7260823e-14\n",
      "  9.7562671e-03 1.5683651e-02 1.2979937e-05 9.7470737e-01 3.2354281e-05\n",
      "  9.9017834e-06 7.2861528e-01 9.5003393e-15 6.5342980e-09 4.0371042e-06\n",
      "  9.9845207e-01 4.6952051e-01 1.1597112e-14 7.6639652e-04 7.6187253e-03\n",
      "  1.0000000e+00 2.9987097e-03 9.9375188e-01 1.3844836e-07 3.1486312e-17\n",
      "  1.1791095e-01 9.9945730e-01 1.3399389e-14 1.2803968e-14 1.0691601e-04\n",
      "  7.9324543e-03 1.7863280e-11 9.6159685e-09 9.9999714e-01 9.9994725e-01\n",
      "  9.5291287e-01 1.0000000e+00 3.8304686e-11 9.9999928e-01 4.6247044e-03]], shape=(1, 50), dtype=float32)\n",
      "activated nodes in hidden layer: tf.Tensor(\n",
      "[[0. 1. 0. 0. 0. 1. 1. 0. 1. 0. 0. 1. 1. 0. 0. 0. 0. 0. 1. 0. 0. 1. 0. 0.\n",
      "  0. 1. 0. 0. 0. 0. 1. 0. 1. 0. 0. 0. 1. 0. 0. 0. 0. 0. 0. 1. 1. 1. 1. 0.\n",
      "  1. 0.]], shape=(1, 50), dtype=float32)\n",
      "tf.Tensor(\n",
      "[[5.10871410e-04 4.44084406e-04 5.21123409e-04 6.23881817e-04\n",
      "  3.52919102e-04 5.21183014e-04 5.93423843e-04 3.03745270e-04\n",
      "  3.00765038e-04 3.93986702e-04 5.47826290e-04 3.82333994e-04\n",
      "  3.60548496e-04 3.62783670e-04 1.85757875e-04 4.45306301e-04\n",
      "  3.78489494e-04 2.83151865e-04 3.29047441e-04 2.94804573e-04\n",
      "  4.22477722e-04 3.25798988e-04 4.26739454e-04 5.00708818e-04\n",
      "  3.56435776e-04 3.32385302e-04 2.34246254e-04 2.94804573e-04\n",
      "  5.21123409e-04 2.22831964e-04 5.87552786e-04 4.95761633e-04\n",
      "  4.77522612e-04 3.70353460e-04 2.86847353e-04 2.75284052e-04\n",
      "  3.78608704e-04 3.81112099e-04 5.33401966e-04 5.77718019e-04\n",
      "  3.26037407e-04 3.19719315e-04 2.72810459e-04 4.25726175e-04\n",
      "  5.00530005e-04 5.76764345e-04 6.98864460e-04 4.41461802e-04\n",
      "  4.33802605e-04 5.31971455e-04 2.54631042e-04 4.39584255e-04\n",
      "  4.62234020e-04 4.14103270e-04 5.10811806e-04 3.25858593e-04\n",
      "  4.62204218e-04 3.78489494e-04 4.27782536e-04 6.96241856e-04\n",
      "  5.65677881e-04 3.39597464e-04 2.96503305e-04 4.02748585e-04\n",
      "  4.06920910e-04 2.44587660e-04 1.60068274e-04 8.14998493e-05\n",
      "  3.59021105e-05 5.85739690e-05 1.09256747e-04 1.31070614e-04\n",
      "  6.09310518e-05 9.20968960e-05 8.49725475e-05 6.06020039e-05\n",
      "  7.04009290e-05 3.43382359e-04 7.18921423e-04 4.65184450e-04\n",
      "  4.50372696e-04 5.87195158e-04 5.64485788e-04 3.12983990e-04\n",
      "  3.25858593e-04 5.58942556e-04 4.59820032e-04 4.08411026e-04\n",
      "  3.02702188e-04 3.60935926e-04 5.89281321e-04 2.61813402e-04\n",
      "  3.44365835e-04 4.62114811e-04 2.39998102e-04 1.84357166e-04\n",
      "  1.36435032e-04 2.15888023e-04 2.60353088e-04 3.50207090e-04\n",
      "  2.62677670e-04 2.67386436e-04 4.07338142e-04 4.40835953e-04\n",
      "  1.79678202e-04 5.93096018e-04 6.22630119e-04 6.62505627e-04\n",
      "  5.79982996e-04 5.21451235e-04 2.44528055e-04 3.25798988e-04\n",
      "  2.94864178e-04 3.34948301e-04 4.05400991e-04 4.42683697e-04\n",
      "  4.75287437e-04 1.26340985e-03 9.12815332e-04 3.97226214e-03\n",
      "  2.34669447e-03 2.61148810e-03 5.16307354e-03 2.61870027e-03\n",
      "  1.54423714e-03 3.93196940e-03 5.48037887e-03 1.91760957e-02\n",
      "  1.80463791e-02 2.54822373e-02 2.48305202e-02 1.27802193e-02\n",
      "  1.07133090e-02 7.15473294e-03 6.77889585e-03 9.92819667e-03\n",
      "  3.30364704e-03 1.90910697e-03 5.26815653e-04 3.97294760e-04\n",
      "  6.30080700e-04 3.56435776e-04 4.63843346e-04 4.58508730e-04\n",
      "  1.70773268e-03 2.07075477e-03 4.67389822e-03 1.46881342e-02\n",
      "  2.12492049e-02 1.55228376e-02 3.47370207e-02 2.87061334e-02\n",
      "  5.06938100e-02 1.15146369e-01 3.04576606e-01 3.53437185e-01\n",
      "  3.64873409e-01 3.30888450e-01 3.42902660e-01 2.06834406e-01\n",
      "  1.63814217e-01 1.14837319e-01 9.39943790e-02 2.47555971e-02\n",
      "  9.58511233e-03 3.48550081e-03 1.13496184e-03 5.64008951e-04\n",
      "  3.71009111e-04 3.69399786e-04 5.25325537e-04 8.67664814e-04\n",
      "  3.42044234e-03 1.00352466e-02 2.61287689e-02 5.81691265e-02\n",
      "  6.55955970e-02 7.71948695e-02 8.11597705e-02 2.97534406e-01\n",
      "  4.96496350e-01 6.92622423e-01 8.42512906e-01 8.14424813e-01\n",
      "  7.59053826e-01 6.68706656e-01 7.61697233e-01 7.72394180e-01\n",
      "  6.75348282e-01 5.08777857e-01 2.07015663e-01 8.15715194e-02\n",
      "  1.23652518e-02 3.42530012e-03 1.95145607e-03 4.37766314e-04\n",
      "  3.40670347e-04 5.85347414e-04 1.12044811e-03 1.88684464e-03\n",
      "  1.52435005e-02 4.62668240e-02 9.25099552e-02 2.14092940e-01\n",
      "  1.27847701e-01 2.50053674e-01 2.76234508e-01 6.51209712e-01\n",
      "  9.04526055e-01 9.38301861e-01 9.53088760e-01 9.08615828e-01\n",
      "  8.74287724e-01 7.94444442e-01 7.63520002e-01 9.27068591e-01\n",
      "  9.32643890e-01 7.91306257e-01 2.72811174e-01 5.73564768e-02\n",
      "  4.39941883e-03 9.09715891e-04 1.46016479e-03 3.92466784e-04\n",
      "  3.84032726e-04 3.48210335e-04 1.65376067e-03 3.41215730e-03\n",
      "  1.21105909e-02 3.29401791e-02 1.56250477e-01 2.30055124e-01\n",
      "  1.81738853e-01 4.31257129e-01 4.32858437e-01 7.82207906e-01\n",
      "  8.62330735e-01 8.92162502e-01 8.20711374e-01 5.99208713e-01\n",
      "  5.45587718e-01 5.10355890e-01 5.66910863e-01 8.99980783e-01\n",
      "  9.55405712e-01 7.54332304e-01 1.69985980e-01 1.58236623e-02\n",
      "  1.74841285e-03 1.13308430e-03 1.23229623e-03 4.17232513e-04\n",
      "  3.91185284e-04 5.59180975e-04 1.06617808e-03 4.16788459e-03\n",
      "  1.95924044e-02 5.03515005e-02 7.54405260e-02 1.26884162e-01\n",
      "  6.06989861e-02 3.16897333e-02 1.54529005e-01 2.54447073e-01\n",
      "  2.27503210e-01 1.22613311e-01 6.64865673e-02 1.00129426e-01\n",
      "  6.42276406e-02 2.34640777e-01 4.56260771e-01 8.62258255e-01\n",
      "  9.63037014e-01 7.05663204e-01 1.39816552e-01 5.34084439e-03\n",
      "  6.02453947e-04 1.24359131e-03 1.16899610e-03 3.36945057e-04\n",
      "  4.12017107e-04 6.23047352e-04 9.90808010e-04 3.09240818e-03\n",
      "  2.36477554e-02 5.55117428e-02 4.28537428e-02 3.04079950e-02\n",
      "  1.29243433e-02 7.69776106e-03 1.19327903e-02 1.51517689e-02\n",
      "  1.54529810e-02 8.14685225e-03 7.14194775e-03 2.93788910e-02\n",
      "  8.23353529e-02 3.94312114e-01 7.79636562e-01 8.90610099e-01\n",
      "  8.81937206e-01 4.28919554e-01 2.73434520e-02 2.44385004e-03\n",
      "  3.86476517e-04 1.37293339e-03 8.09639692e-04 6.88701868e-04\n",
      "  4.70250845e-04 7.77095556e-04 1.52030587e-03 2.45335698e-03\n",
      "  1.54579878e-02 4.04789746e-02 1.80387497e-02 3.51905823e-03\n",
      "  1.13922358e-03 9.33617353e-04 1.57672167e-03 6.31999969e-03\n",
      "  1.27379298e-02 1.56880915e-02 3.09032202e-02 1.06963098e-01\n",
      "  3.50472093e-01 7.18929350e-01 8.73796940e-01 8.03457141e-01\n",
      "  4.79009837e-01 5.15378416e-02 4.78574634e-03 1.51866674e-03\n",
      "  6.77555799e-04 8.33332539e-04 6.24388456e-04 4.43160534e-04\n",
      "  3.03179026e-04 5.10692596e-04 1.40729547e-03 2.21604109e-03\n",
      "  4.74643707e-03 2.11906731e-02 9.11200047e-03 2.88727880e-03\n",
      "  1.07958913e-03 1.10527873e-03 2.86471844e-03 2.04540491e-02\n",
      "  1.32318020e-01 2.67939985e-01 4.64126050e-01 7.57311583e-01\n",
      "  8.56011450e-01 9.03475225e-01 7.69516766e-01 4.79072392e-01\n",
      "  1.22492403e-01 8.41671228e-03 1.86148286e-03 4.54008579e-04\n",
      "  2.00361013e-04 7.57575035e-04 5.92678785e-04 4.70101833e-04\n",
      "  3.16947699e-04 4.69118357e-04 7.38173723e-04 1.39045715e-03\n",
      "  3.83025408e-03 4.90230322e-03 2.58851051e-03 9.04023647e-04\n",
      "  7.36713409e-04 3.24794650e-03 2.56993771e-02 2.82537341e-01\n",
      "  8.25070143e-01 8.55110466e-01 8.89264345e-01 9.32286263e-01\n",
      "  9.53937531e-01 8.70163977e-01 4.86939311e-01 2.15275615e-01\n",
      "  2.29762197e-02 1.30823255e-03 4.62353230e-04 1.49160624e-04\n",
      "  1.79380178e-04 3.03626060e-04 6.15328550e-04 4.25457954e-04\n",
      "  4.28110361e-04 7.91132450e-04 7.35104084e-04 2.77024508e-03\n",
      "  3.95396352e-03 2.76690722e-03 1.08727813e-03 2.14636326e-04\n",
      "  6.56872988e-04 5.35023212e-03 5.36155403e-02 5.04439771e-01\n",
      "  8.73329222e-01 8.88565898e-01 9.01045203e-01 9.26812410e-01\n",
      "  9.30480599e-01 8.62836063e-01 4.76669729e-01 1.08865440e-01\n",
      "  7.64521956e-03 8.35657120e-04 4.22418118e-04 1.20148507e-04\n",
      "  2.06023455e-04 1.56193972e-04 4.21494246e-04 4.12076712e-04\n",
      "  3.94016504e-04 5.75572252e-04 4.92095947e-04 1.17447972e-03\n",
      "  4.79477644e-03 4.70155478e-03 1.02844834e-03 4.62114811e-04\n",
      "  3.84002924e-04 4.81915474e-03 5.07926941e-02 4.58054125e-01\n",
      "  5.32045364e-01 6.61466479e-01 5.19680738e-01 5.36407351e-01\n",
      "  8.48903179e-01 8.83440614e-01 6.69360161e-01 1.32504404e-01\n",
      "  7.19323754e-03 9.29206610e-04 3.03447247e-04 1.94936991e-04\n",
      "  2.70724297e-04 1.67429447e-04 4.99099493e-04 3.45110893e-04\n",
      "  3.14861536e-04 2.34544277e-04 9.31799412e-04 2.56222486e-03\n",
      "  5.75783849e-03 2.04503536e-03 1.27109885e-03 6.54786825e-04\n",
      "  1.75485015e-03 9.01824236e-03 5.67023456e-02 1.80678993e-01\n",
      "  1.17005408e-01 7.84878433e-02 8.37291181e-02 3.32790017e-01\n",
      "  7.87925661e-01 8.73363972e-01 7.91389108e-01 2.02283680e-01\n",
      "  4.74300981e-03 1.04442239e-03 6.08354807e-04 3.43739986e-04\n",
      "  2.04205513e-04 3.99768353e-04 5.17934561e-04 4.63873148e-04\n",
      "  2.91883945e-04 4.69148159e-04 9.03576612e-04 5.62193990e-03\n",
      "  1.87894702e-02 7.83100724e-03 1.22525394e-02 2.71296501e-03\n",
      "  3.79660726e-03 1.54801607e-02 3.64191532e-02 5.06221056e-02\n",
      "  3.85959744e-02 1.42669380e-02 6.70616627e-02 2.61920869e-01\n",
      "  6.56937599e-01 7.75650322e-01 7.63456702e-01 1.37447178e-01\n",
      "  6.31293654e-03 1.14822388e-03 9.92953777e-04 1.09204650e-03\n",
      "  9.70661640e-04 3.93360853e-04 5.93870878e-04 6.55740499e-04\n",
      "  2.56508589e-04 4.32193279e-04 2.09397078e-03 1.26850903e-02\n",
      "  8.00896883e-02 2.62951255e-02 2.25495100e-02 7.37357140e-03\n",
      "  8.59051943e-03 1.64862573e-02 3.04302275e-02 4.58871424e-02\n",
      "  1.73933208e-02 1.13236904e-02 7.15635419e-02 2.93903559e-01\n",
      "  5.95448375e-01 6.41691864e-01 5.20708680e-01 9.73627567e-02\n",
      "  7.81819224e-03 1.32286549e-03 1.50084496e-03 1.39024854e-03\n",
      "  1.08230114e-03 3.83466482e-04 5.51104546e-04 4.00543213e-04\n",
      "  3.92496586e-04 5.04583120e-04 9.20718908e-03 1.15022063e-01\n",
      "  2.00379997e-01 8.80581141e-02 8.27320814e-02 1.60454810e-02\n",
      "  1.94220245e-02 3.43694091e-02 9.49466527e-02 3.31083238e-02\n",
      "  1.15874708e-02 2.01228261e-02 8.37988555e-02 2.97064364e-01\n",
      "  5.17597377e-01 5.41569114e-01 2.56772518e-01 2.99843848e-02\n",
      "  3.98686528e-03 2.48253345e-03 8.40932131e-04 2.55703926e-03\n",
      "  7.99477100e-04 8.68618488e-04 8.92132521e-04 2.79009342e-04\n",
      "  4.48614359e-04 5.33789396e-04 6.97267056e-03 2.33917177e-01\n",
      "  5.52181065e-01 2.94021279e-01 2.63348758e-01 9.97225344e-02\n",
      "  5.18248081e-02 8.84914100e-02 1.14952594e-01 5.01121581e-02\n",
      "  3.01463008e-02 5.86751699e-02 2.58858562e-01 5.57458937e-01\n",
      "  4.90999758e-01 2.98447013e-01 1.05959803e-01 1.57610774e-02\n",
      "  6.83826208e-03 3.74811888e-03 1.68728828e-03 2.35575438e-03\n",
      "  1.07786059e-03 9.57906246e-04 1.03580952e-03 2.10642815e-04\n",
      "  3.40431929e-04 6.23345375e-04 6.94483519e-03 3.60293627e-01\n",
      "  6.87080264e-01 5.89829445e-01 6.12876415e-01 3.65173548e-01\n",
      "  2.42788136e-01 2.21292585e-01 3.04417670e-01 1.50385469e-01\n",
      "  3.22639942e-01 3.11251462e-01 6.27982736e-01 6.69293284e-01\n",
      "  4.46918309e-01 2.52635747e-01 4.21449542e-02 1.75589323e-02\n",
      "  6.51347637e-03 3.14036012e-03 2.17503309e-03 3.25849652e-03\n",
      "  1.53803825e-03 1.68693066e-03 5.81175089e-04 2.37166882e-04\n",
      "  2.59846449e-04 4.65720892e-04 3.40631604e-03 1.68462425e-01\n",
      "  7.72662640e-01 8.07274520e-01 7.48260856e-01 8.01797211e-01\n",
      "  6.16559744e-01 4.15249377e-01 6.77838326e-01 7.42775917e-01\n",
      "  7.90822387e-01 8.13498855e-01 6.00121796e-01 5.87097585e-01\n",
      "  1.28312737e-01 5.59286773e-02 3.51879299e-02 2.18192339e-02\n",
      "  5.33458591e-03 2.15843320e-03 2.92766094e-03 2.19115615e-03\n",
      "  2.03904510e-03 7.15494156e-04 4.54694033e-04 3.87132168e-04\n",
      "  4.76300716e-04 3.39031219e-04 1.41483545e-03 2.56303549e-02\n",
      "  2.92647660e-01 6.87248170e-01 8.00241351e-01 8.46489668e-01\n",
      "  8.71491492e-01 8.99513006e-01 9.33401108e-01 8.79957199e-01\n",
      "  7.84184456e-01 6.31296039e-01 2.91639268e-01 6.20256662e-02\n",
      "  1.47208869e-02 1.21948719e-02 1.04306638e-02 1.24634206e-02\n",
      "  6.58410788e-03 3.56823206e-03 1.91819668e-03 1.83153152e-03\n",
      "  1.11719966e-03 7.77870417e-04 5.42134047e-04 4.90814447e-04\n",
      "  3.19391489e-04 4.53114510e-04 5.83201647e-04 2.04399228e-03\n",
      "  5.02480567e-02 2.14685291e-01 6.83798790e-01 7.54823923e-01\n",
      "  7.35079348e-01 8.35316896e-01 6.79970503e-01 5.86914837e-01\n",
      "  3.97197336e-01 1.55157655e-01 2.79418826e-02 8.50176811e-03\n",
      "  3.12620401e-03 3.60766053e-03 6.11367822e-03 3.11395526e-03\n",
      "  3.75911593e-03 1.79553032e-03 1.25151873e-03 6.06089830e-04\n",
      "  5.82814217e-04 4.59134579e-04 3.05920839e-04 4.14103270e-04\n",
      "  3.63707542e-04 4.95702028e-04 4.10407782e-04 5.57929277e-04\n",
      "  1.76897645e-03 3.80814075e-03 1.91903710e-02 8.62986445e-02\n",
      "  5.91372252e-02 1.28163487e-01 1.34062856e-01 2.23459810e-01\n",
      "  1.62155658e-01 3.11391950e-02 5.21996617e-03 2.11396813e-03\n",
      "  1.56080723e-03 1.53517723e-03 2.04175711e-03 2.33611465e-03\n",
      "  1.63048506e-03 9.97334719e-04 9.25213099e-04 6.80297613e-04\n",
      "  4.62651253e-04 3.73661518e-04 6.38097525e-04 3.29047441e-04\n",
      "  2.89022923e-04 3.22550535e-04 4.95731831e-04 6.40511513e-04\n",
      "  4.28229570e-04 1.89960003e-03 3.39576602e-03 2.85220146e-03\n",
      "  4.02408838e-03 7.91946054e-03 1.02163553e-02 4.55406308e-03\n",
      "  4.80157137e-03 1.87611580e-03 1.15618110e-03 1.16091967e-03\n",
      "  6.70224428e-04 7.49260187e-04 8.29935074e-04 1.19814277e-03\n",
      "  9.80705023e-04 8.43673944e-04 3.78251076e-04 5.58078289e-04\n",
      "  6.14821911e-04 4.67270613e-04 3.78459692e-04 5.16027212e-04\n",
      "  4.57674265e-04 3.90022993e-04 2.66700983e-04 4.90784645e-04\n",
      "  4.16427851e-04 4.20451164e-04 4.68403101e-04 7.26997852e-04\n",
      "  1.35636330e-03 2.01976299e-03 2.54327059e-03 2.83226371e-03\n",
      "  1.51160359e-03 8.85874033e-04 1.04835629e-03 4.91440296e-04\n",
      "  8.61138105e-04 7.11232424e-04 7.95245171e-04 5.27679920e-04\n",
      "  6.27696514e-04 6.87152147e-04 3.87251377e-04 2.44140625e-04\n",
      "  3.35723162e-04 2.97755003e-04 5.47796488e-04 3.09884548e-04]], shape=(1, 784), dtype=float32)\n"
     ]
    }
   ],
   "source": [
    "hh0_p = tf.nn.sigmoid(tf.matmul(sample_case, W) + hb)\n",
    "hh0_s = tf.round(hh0_p)\n",
    "\n",
    "print(\"Probability nodes in hidden layer:\" ,hh0_p)\n",
    "print(\"activated nodes in hidden layer:\" ,hh0_s)\n",
    "\n",
    "# reconstruct\n",
    "vv1_p = tf.nn.sigmoid(tf.matmul(hh0_s, tf.transpose(W)) + vb)\n",
    "\n",
    "print(vv1_p)\n",
    "#rec_prob = sess.run(vv1_p, feed_dict={ hh0_s: hh0_s_val, W: prv_w, vb: prv_vb})"
   ]
  },
  {
   "cell_type": "markdown",
   "metadata": {
    "id": "ajnqpM9JMpJu"
   },
   "source": [
    "Here we plot the reconstructed image:\n"
   ]
  },
  {
   "cell_type": "code",
   "execution_count": 27,
   "metadata": {
    "colab": {
     "base_uri": "https://localhost:8080/",
     "height": 265
    },
    "id": "U95CZ2e5MpJu",
    "outputId": "d544f3aa-8637-4b58-a752-3c138d7cfe17"
   },
   "outputs": [
    {
     "data": {
      "image/png": "[encoded data removed]",
      "text/plain": [
       "<Figure size 288x288 with 1 Axes>"
      ]
     },
     "metadata": {
      "needs_background": "light"
     },
     "output_type": "display_data"
    }
   ],
   "source": [
    "img = Image.fromarray(tile_raster_images(X=vv1_p.numpy(), img_shape=(28, 28),tile_shape=(1, 1), tile_spacing=(1, 1)))\n",
    "plt.rcParams['figure.figsize'] = (4.0, 4.0)\n",
    "imgplot = plt.imshow(img)\n",
    "imgplot.set_cmap('gray') "
   ]
  }
 ],
 "metadata": {
  "colab": {
   "name": "Implementing RBM with MNIST.ipynb",
   "provenance": []
  },
  "kernelspec": {
   "display_name": "Python 3 (ipykernel)",
   "language": "python",
   "name": "python3"
  },
  "language_info": {
   "codemirror_mode": {
    "name": "ipython",
    "version": 3
   },
   "file_extension": ".py",
   "mimetype": "text/x-python",
   "name": "python",
   "nbconvert_exporter": "python",
   "pygments_lexer": "ipython3",
   "version": "3.9.7"
  }
 },
 "nbformat": 4,
 "nbformat_minor": 1
}
