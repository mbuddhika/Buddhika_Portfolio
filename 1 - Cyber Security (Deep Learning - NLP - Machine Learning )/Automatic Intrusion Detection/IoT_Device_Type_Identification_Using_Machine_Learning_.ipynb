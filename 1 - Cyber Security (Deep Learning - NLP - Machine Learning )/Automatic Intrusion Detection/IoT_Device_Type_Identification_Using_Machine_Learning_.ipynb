{
 "cells": [
  {
   "cell_type": "markdown",
   "metadata": {
    "id": "2ZGVh6EaSzUT"
   },
   "source": [
    "With the advent of IoT, the attack surfaces on any given target have increased exponentially.\n",
    "\n",
    "In this project I will build a machine learning model to classify netwrok IoT devices by type.\n",
    "\n",
    "A dataset has 2 types which are iot_train.csv and iot_test.csv"
   ]
  },
  {
   "cell_type": "code",
   "execution_count": 1,
   "metadata": {
    "colab": {
     "base_uri": "https://localhost:8080/"
    },
    "id": "8jerB331R5mP",
    "outputId": "6e3272c6-89ca-4bd5-864a-4758885188ae"
   },
   "outputs": [
    {
     "name": "stdout",
     "output_type": "stream",
     "text": [
      "Mounted at /content/drive\n"
     ]
    }
   ],
   "source": [
    "from google.colab import drive\n",
    "drive.mount('/content/drive')"
   ]
  },
  {
   "cell_type": "code",
   "execution_count": 2,
   "metadata": {
    "colab": {
     "base_uri": "https://localhost:8080/"
    },
    "id": "sz-2d2CPSZfX",
    "outputId": "96cf235d-0402-4685-89c6-6a7bc328bda9"
   },
   "outputs": [
    {
     "name": "stdout",
     "output_type": "stream",
     "text": [
      "/content/drive/My Drive/Colab Notebooks\n"
     ]
    }
   ],
   "source": [
    "%cd /content/drive/My Drive/Colab Notebooks"
   ]
  },
  {
   "cell_type": "code",
   "execution_count": 4,
   "metadata": {
    "id": "4QIQrM4vTYzp"
   },
   "outputs": [],
   "source": [
    "# import pandas and os and read in the training and testing data\n",
    "import pandas as pd\n",
    "import os\n",
    "training_data = pd.read_csv(\"iot_devices_train.csv\")\n",
    "testing_data = pd.read_csv(\"iot_devices_test.csv\")"
   ]
  },
  {
   "cell_type": "code",
   "execution_count": 5,
   "metadata": {
    "colab": {
     "base_uri": "https://localhost:8080/"
    },
    "id": "qH38O5-vTrGl",
    "outputId": "9d8ae868-af3e-4915-ed24-0514025a5fdc"
   },
   "outputs": [
    {
     "name": "stdout",
     "output_type": "stream",
     "text": [
      "     ack  ack_A  ack_B  ...  suffix_is_org  suffix_is_unresolved  device_category\n",
      "0      9      5      5  ...              0                     0  security_camera\n",
      "1      9      5      5  ...              0                     0  security_camera\n",
      "2      9      5      5  ...              0                     0  security_camera\n",
      "3      9      5      5  ...              0                     0  security_camera\n",
      "4      9      5      5  ...              0                     0  security_camera\n",
      "..   ...    ...    ...  ...            ...                   ...              ...\n",
      "995    0      0      0  ...              0                     0           socket\n",
      "996    0      0      0  ...              0                     0           socket\n",
      "997    0      0      0  ...              0                     0           socket\n",
      "998    0      0      0  ...              0                     0           socket\n",
      "999    0      0      0  ...              0                     0           socket\n",
      "\n",
      "[1000 rows x 298 columns]\n"
     ]
    }
   ],
   "source": [
    "print(training_data)"
   ]
  },
  {
   "cell_type": "code",
   "execution_count": 6,
   "metadata": {
    "colab": {
     "base_uri": "https://localhost:8080/"
    },
    "id": "uR0GpSapTyMD",
    "outputId": "0bdaf0d5-c74b-4f95-d3c2-6940cb774e4d"
   },
   "outputs": [
    {
     "name": "stdout",
     "output_type": "stream",
     "text": [
      "     ack  ack_A  ack_B  ...  suffix_is_org  suffix_is_unresolved  device_category\n",
      "0     38     20     18  ...              0                     0     baby_monitor\n",
      "1     38     20     18  ...              0                     0     baby_monitor\n",
      "2     38     20     18  ...              0                     0     baby_monitor\n",
      "3     38     20     18  ...              0                     0     baby_monitor\n",
      "4     41     20     21  ...              0                     0     baby_monitor\n",
      "..   ...    ...    ...  ...            ...                   ...              ...\n",
      "895  264    116    148  ...              0                     0            watch\n",
      "896   24     13     11  ...              0                     0            watch\n",
      "897   20      9     11  ...              0                     0            watch\n",
      "898   30     14     16  ...              0                     0            watch\n",
      "899  294    147    147  ...              0                     0            watch\n",
      "\n",
      "[900 rows x 298 columns]\n"
     ]
    }
   ],
   "source": [
    "print(testing_data)"
   ]
  },
  {
   "cell_type": "markdown",
   "metadata": {
    "id": "JckiJuk8T3Pm"
   },
   "source": [
    "That means the data contains 298 features"
   ]
  },
  {
   "cell_type": "code",
   "execution_count": 7,
   "metadata": {
    "id": "IViMbZHGT5vZ"
   },
   "outputs": [],
   "source": [
    "# Create a training and testing dataset where the target is the device category:\n",
    "x_train,y_train = (\n",
    "    training_data.loc[:, training_data.columns != \"device_category\"].values,\n",
    "    training_data[\"device_category\"],\n",
    ")\n",
    "\n",
    "x_test,y_test = (\n",
    "    testing_data.loc[:, testing_data.columns != \"device_category\"].values,\n",
    "    testing_data[\"device_category\"],\n",
    ")"
   ]
  },
  {
   "cell_type": "markdown",
   "metadata": {
    "id": "ev7TThHoUjMK"
   },
   "source": [
    "The device categories are security camera, TV, smoke detector, thermostat, water sensor, watch, baby monitor, motion sensor, lights and socket"
   ]
  },
  {
   "cell_type": "code",
   "execution_count": 8,
   "metadata": {
    "id": "y5RRhkOMUfCM"
   },
   "outputs": [],
   "source": [
    "# Encode the class categories into numerical form:\n",
    "from sklearn import preprocessing\n",
    "le= preprocessing.LabelEncoder()\n",
    "le.fit(training_data[\"device_category\"].unique())\n",
    "y_train_encoded = le.transform(y_train)\n",
    "y_test_encoded = le.transform(y_test)"
   ]
  },
  {
   "cell_type": "code",
   "execution_count": 9,
   "metadata": {
    "id": "1g4EXetwVHhD"
   },
   "outputs": [],
   "source": [
    "# Instantiate XGBoost classifier\n",
    "from xgboost import XGBClassifier\n",
    "model = XGBClassifier()"
   ]
  },
  {
   "cell_type": "code",
   "execution_count": 10,
   "metadata": {
    "colab": {
     "base_uri": "https://localhost:8080/"
    },
    "id": "JTHtlZMBVUw6",
    "outputId": "d32a2966-4af9-4010-9905-d0eda6f37595"
   },
   "outputs": [
    {
     "data": {
      "text/plain": [
       "0.6622222222222223"
      ]
     },
     "execution_count": 10,
     "metadata": {
      "tags": []
     },
     "output_type": "execute_result"
    }
   ],
   "source": [
    "# Train and test the xgboost classifier\n",
    "model.fit(x_train, y_train_encoded)\n",
    "model.score(x_test, y_test_encoded)"
   ]
  },
  {
   "cell_type": "markdown",
   "metadata": {
    "id": "yiEH-vd_Vjli"
   },
   "source": [
    "An important motivation for this project is that we cant reply on the IP address as an identifier of the device, since this value can be spoofed. Consequently we would like to analyze the traffic's high-level data, that is the metadata and traffic statistics, rather than content to determine wheterh the device belongs to the network. \n",
    "\n",
    "1.   Step 1: I begin by reading in the training and testing dataset on to featurize these and perform a quick data exploration step by observing the classification labels\n",
    "\n",
    "2.   Step 2: Feed these into our classifier.\n",
    "\n",
    "1.   Step 3: Convert these categorical labels into numerical ones to be used to train our machine learning classifier.\n",
    "\n",
    "1.   Step 4: Featurized the data\n",
    "\n",
    "1.   Step 5: Instantiate train and test an xgboost classifier, obtaining a score of 0.66 on the testing set.\n",
    "\n",
    "\n",
    "The baseline of randomly guessing between 10 would yeild an accuracy of 0.1. The XGBoost classifier trained here attains an accuracy of 0.66 suggesting that it is indeed a promising approach to classify IoT devices successfully based on high-level traffic data.\n",
    "\n",
    "\n",
    "\n"
   ]
  },
  {
   "cell_type": "code",
   "execution_count": null,
   "metadata": {},
   "outputs": [],
   "source": []
  }
 ],
 "metadata": {
  "accelerator": "GPU",
  "colab": {
   "name": "Udemy IoT Device Type Identification Using Machine Learning .ipynb",
   "provenance": []
  },
  "kernelspec": {
   "display_name": "Python 3 (ipykernel)",
   "language": "python",
   "name": "python3"
  },
  "language_info": {
   "codemirror_mode": {
    "name": "ipython",
    "version": 3
   },
   "file_extension": ".py",
   "mimetype": "text/x-python",
   "name": "python",
   "nbconvert_exporter": "python",
   "pygments_lexer": "ipython3",
   "version": "3.9.7"
  }
 },
 "nbformat": 4,
 "nbformat_minor": 1
}
