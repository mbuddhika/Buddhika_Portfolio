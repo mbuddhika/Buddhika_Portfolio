{
 "cells": [
  {
   "cell_type": "markdown",
   "metadata": {
    "id": "xouvpoMfoDk0"
   },
   "source": [
    "With the advent of deepfake and similar image forgery technology. It is becoming more and more difficult to differentiate between forgery and real media. Fortunately, just as neural networks can compose fake meida, they can also detect it. \n",
    "\n",
    "In this project, I will utilize a deep neural network to detect fake images."
   ]
  },
  {
   "cell_type": "code",
   "execution_count": 1,
   "metadata": {
    "colab": {
     "base_uri": "https://localhost:8080/"
    },
    "id": "_XPF6CMnmkjl",
    "outputId": "2aebb337-e274-42d3-908f-e0a0c99665a3"
   },
   "outputs": [
    {
     "name": "stdout",
     "output_type": "stream",
     "text": [
      "Mounted at /content/drive\n"
     ]
    }
   ],
   "source": [
    "from google.colab import drive\n",
    "drive.mount('/content/drive')"
   ]
  },
  {
   "cell_type": "code",
   "execution_count": 2,
   "metadata": {
    "colab": {
     "base_uri": "https://localhost:8080/"
    },
    "id": "jSRHdKCemrfQ",
    "outputId": "14d02220-ed87-4747-e710-9c3987c32ab6"
   },
   "outputs": [
    {
     "name": "stdout",
     "output_type": "stream",
     "text": [
      "/content/drive/My Drive/Colab Notebooks\n"
     ]
    }
   ],
   "source": [
    "%cd /content/drive/My Drive/Colab Notebooks"
   ]
  },
  {
   "cell_type": "code",
   "execution_count": 3,
   "metadata": {
    "id": "rB3kJ0WKonwT"
   },
   "outputs": [],
   "source": [
    "# mesonet_classifiers.py\n",
    "from mesonet_classifiers import *\n",
    "from keras_preprocessing.image import ImageDataGenerator"
   ]
  },
  {
   "cell_type": "code",
   "execution_count": 4,
   "metadata": {
    "id": "4j4nXU-NpMjY"
   },
   "outputs": [],
   "source": [
    "# Instantiate mesoNet and load its weights\n",
    "MesoNet_classifier = Meso4()\n",
    "MesoNet_classifier.load(\"mesonet_weights/Meso4_DF\")"
   ]
  },
  {
   "cell_type": "code",
   "execution_count": 5,
   "metadata": {
    "colab": {
     "base_uri": "https://localhost:8080/"
    },
    "id": "NJVNvshqpebD",
    "outputId": "d3dd59f9-2095-48f8-85a9-16a3e779474d"
   },
   "outputs": [
    {
     "name": "stdout",
     "output_type": "stream",
     "text": [
      "Found 3 images belonging to 1 classes.\n"
     ]
    }
   ],
   "source": [
    "# Create an image data generator to read in images from a directory and specify the path where the unknown images are stored\n",
    "image_data_generator =  ImageDataGenerator(rescale=1.0/255)\n",
    "data_generator = image_data_generator.flow_from_directory(\"\", classes=[\"mesonet_test_images\"])"
   ]
  },
  {
   "cell_type": "code",
   "execution_count": 6,
   "metadata": {
    "id": "gFuC1YviqB4E"
   },
   "outputs": [],
   "source": [
    "# Use a dictionary to translate numerical labels to the text labels, \"real\" and \"fake\"\n",
    "num_to_label = {1:\"real\", 0: \"fake\"}"
   ]
  },
  {
   "cell_type": "code",
   "execution_count": 7,
   "metadata": {
    "colab": {
     "base_uri": "https://localhost:8080/"
    },
    "id": "ftzVRoulqPKO",
    "outputId": "e6c85f27-82eb-42c9-ab9b-45095994dd74"
   },
   "outputs": [
    {
     "name": "stdout",
     "output_type": "stream",
     "text": [
      "['fake', 'fake', 'real']\n"
     ]
    }
   ],
   "source": [
    "# Run Mesonet\n",
    "X,y = data_generator.next()\n",
    "probabilistic_predictions = MesoNet_classifier.predict(X)\n",
    "predictions = [num_to_label[round(x[0])] for x in probabilistic_predictions]\n",
    "print(predictions)"
   ]
  },
  {
   "cell_type": "markdown",
   "metadata": {
    "id": "nah69xsMq0I4"
   },
   "source": [
    "\n",
    "\n",
    "1.   Step 1: Import the necessary libraries.\n",
    "\n",
    "1.   Step 2: Load up the MesoNet model\n",
    "\n",
    "1.   Step 3: Define and use an ImageDataGenerator, a convinient keras object that allows us to perform image processing in 1 place. In the case at hand, to rescale and normalize the numerical values of pixels.\n",
    "\n",
    "2.   Step 4: Translate 0s and 1s into real and fake.\n",
    "\n",
    "2.   Step 5: We can see that the MesoNet model was able to correctly predict the labels of the test images.\n",
    "\n",
    "\n"
   ]
  },
  {
   "cell_type": "code",
   "execution_count": null,
   "metadata": {},
   "outputs": [],
   "source": []
  }
 ],
 "metadata": {
  "accelerator": "GPU",
  "colab": {
   "name": "Udemy deepfake recognition.ipynb",
   "provenance": []
  },
  "kernelspec": {
   "display_name": "Python 3 (ipykernel)",
   "language": "python",
   "name": "python3"
  },
  "language_info": {
   "codemirror_mode": {
    "name": "ipython",
    "version": 3
   },
   "file_extension": ".py",
   "mimetype": "text/x-python",
   "name": "python",
   "nbconvert_exporter": "python",
   "pygments_lexer": "ipython3",
   "version": "3.9.7"
  }
 },
 "nbformat": 4,
 "nbformat_minor": 1
}
