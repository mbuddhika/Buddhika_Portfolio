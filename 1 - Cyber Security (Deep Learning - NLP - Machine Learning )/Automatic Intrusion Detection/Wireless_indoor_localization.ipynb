{
 "cells": [
  {
   "cell_type": "markdown",
   "metadata": {
    "id": "2xDfiUlqN88j"
   },
   "source": [
    "There are situations where hackers breach the network with in the close range to the network. So that it is is best to only permit usres inside the home or in the case of an enterprise environment, in a designated area, to have specified network priviledges.\n",
    "\n",
    "In this notebook I will utilize machine learning to localize an entity based on the Wi-Fi signal.\n",
    "\n",
    "The dataset I will be working with was collected in an indoor space by observing signal strengths of 7 Wi-Fi signals visible on a smartphone. One of the four rooms is the decision factor"
   ]
  },
  {
   "cell_type": "code",
   "execution_count": 1,
   "metadata": {
    "colab": {
     "base_uri": "https://localhost:8080/"
    },
    "id": "IbH-JjWpNNFA",
    "outputId": "ad22c943-d280-409e-d805-5b2c7037927c"
   },
   "outputs": [
    {
     "name": "stdout",
     "output_type": "stream",
     "text": [
      "Mounted at /content/drive\n"
     ]
    }
   ],
   "source": [
    "from google.colab import drive\n",
    "drive.mount('/content/drive')"
   ]
  },
  {
   "cell_type": "code",
   "execution_count": 2,
   "metadata": {
    "colab": {
     "base_uri": "https://localhost:8080/"
    },
    "id": "vmhO4Q7PNP3k",
    "outputId": "44ad7683-ddec-41ca-e486-1bc6c83a9e67"
   },
   "outputs": [
    {
     "name": "stdout",
     "output_type": "stream",
     "text": [
      "/content/drive/My Drive/Colab Notebooks\n"
     ]
    }
   ],
   "source": [
    "%cd /content/drive/My Drive/Colab Notebooks"
   ]
  },
  {
   "cell_type": "code",
   "execution_count": 3,
   "metadata": {
    "id": "BtPrX0zDO886"
   },
   "outputs": [],
   "source": [
    "# Collect a dataset of Wi-Fi signal strengths from different locations in the area of interest\n",
    "import pandas as pd\n",
    "df = pd.read_csv(\"wifi_localization.txt\", sep=\"\\t\", header = None)\n",
    "df = df.rename(columns = {7:\"room\"})"
   ]
  },
  {
   "cell_type": "code",
   "execution_count": 4,
   "metadata": {
    "id": "PvLtTnPFPSAf"
   },
   "outputs": [],
   "source": [
    "# Perform train-test split data frame\n",
    "from sklearn.model_selection import train_test_split\n",
    "df_train, df_test = train_test_split(df)"
   ]
  },
  {
   "cell_type": "code",
   "execution_count": 5,
   "metadata": {
    "id": "7cjNjwbrPhFb"
   },
   "outputs": [],
   "source": [
    "# Distribute the features and labels into an array\n",
    "y_train = df_train.pop(\"room\").values\n",
    "y_test = df_test.pop(\"room\").values\n",
    "X_train = df_train.values\n",
    "X_test = df_test.values"
   ]
  },
  {
   "cell_type": "code",
   "execution_count": 6,
   "metadata": {
    "id": "zsgMNtsJP6ba"
   },
   "outputs": [],
   "source": [
    "# Instantiate a random forest classifier\n",
    "from sklearn.ensemble import RandomForestClassifier\n",
    "clf = RandomForestClassifier()"
   ]
  },
  {
   "cell_type": "code",
   "execution_count": 7,
   "metadata": {
    "colab": {
     "base_uri": "https://localhost:8080/"
    },
    "id": "E15yjAMLQFrg",
    "outputId": "c0b57819-3a22-4e19-9983-953711270e1f"
   },
   "outputs": [
    {
     "data": {
      "text/plain": [
       "RandomForestClassifier(bootstrap=True, ccp_alpha=0.0, class_weight=None,\n",
       "                       criterion='gini', max_depth=None, max_features='auto',\n",
       "                       max_leaf_nodes=None, max_samples=None,\n",
       "                       min_impurity_decrease=0.0, min_impurity_split=None,\n",
       "                       min_samples_leaf=1, min_samples_split=2,\n",
       "                       min_weight_fraction_leaf=0.0, n_estimators=100,\n",
       "                       n_jobs=None, oob_score=False, random_state=None,\n",
       "                       verbose=0, warm_start=False)"
      ]
     },
     "execution_count": 7,
     "metadata": {
      "tags": []
     },
     "output_type": "execute_result"
    }
   ],
   "source": [
    "# Fit the classifier to the training data\n",
    "clf.fit(X_train, y_train)"
   ]
  },
  {
   "cell_type": "code",
   "execution_count": 8,
   "metadata": {
    "colab": {
     "base_uri": "https://localhost:8080/"
    },
    "id": "ROTR_yZhQNhK",
    "outputId": "e656b2da-9655-4d01-fbef-eb7e16a8e48a"
   },
   "outputs": [
    {
     "name": "stdout",
     "output_type": "stream",
     "text": [
      "[[123   0   0   0]\n",
      " [  0 127   3   0]\n",
      " [  2   2 117   1]\n",
      " [  0   0   0 125]]\n"
     ]
    }
   ],
   "source": [
    "# Predict on the testing dataset and print out the confusion matrix\n",
    "y_pred = clf.predict(X_test)\n",
    "from sklearn.metrics import confusion_matrix\n",
    "print(confusion_matrix(y_test, y_pred))"
   ]
  },
  {
   "cell_type": "markdown",
   "metadata": {
    "id": "lg_kuyNQQjIt"
   },
   "source": [
    "\n",
    "\n",
    "*   Step 1: Assembling a dataset of WiFi signal stengths from different  locations in the area of interest. This is sonething that can be done relatively easily, simply by walking through a room  with a GPS-enableed phone and runing a script to record the strength of the Wi-Fi.\n",
    "\n",
    "*   Step 2: Read the data into a data frame and then rename the target column to room so I know what it refers to.\n",
    "\n",
    "*   Step 3: Perform train-test split our data in preparation for learning.\n",
    "\n",
    "*   Step 4: Divide up the features and labels into arrays.\n",
    "\n",
    "*   Step 5 and 6: Train and test a basic classifier\n",
    "\n",
    "\n",
    "The performance is very high . That means it is not a difficult task to localize a device based on the strength of the Wi-Fi signals that it is able to pick up and provided the region has been learned previously.\n",
    "\n"
   ]
  }
 ],
 "metadata": {
  "colab": {
   "name": "Udemy Wireless indoor localization.ipynb",
   "provenance": []
  },
  "kernelspec": {
   "display_name": "Python 3 (ipykernel)",
   "language": "python",
   "name": "python3"
  },
  "language_info": {
   "codemirror_mode": {
    "name": "ipython",
    "version": 3
   },
   "file_extension": ".py",
   "mimetype": "text/x-python",
   "name": "python",
   "nbconvert_exporter": "python",
   "pygments_lexer": "ipython3",
   "version": "3.9.7"
  }
 },
 "nbformat": 4,
 "nbformat_minor": 1
}
