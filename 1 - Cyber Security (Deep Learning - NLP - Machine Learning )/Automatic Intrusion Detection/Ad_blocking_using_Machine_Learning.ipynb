{
 "cells": [
  {
   "cell_type": "markdown",
   "metadata": {
    "id": "6LKVurjqu-p-"
   },
   "source": [
    "\n",
    "Ad blockin g is the operatiuon of removing or altering online advertisement in a web browser or an application. We can utilize machine learning to detect ads so that they can be blocked and we can browse hassle-free\n",
    "\n"
   ]
  },
  {
   "cell_type": "code",
   "execution_count": 1,
   "metadata": {
    "colab": {
     "base_uri": "https://localhost:8080/"
    },
    "id": "5fcNjA3Kt3sb",
    "outputId": "c59856ba-882b-4722-b6df-b994c5868162"
   },
   "outputs": [
    {
     "name": "stdout",
     "output_type": "stream",
     "text": [
      "Mounted at /content/drive\n"
     ]
    }
   ],
   "source": [
    "from google.colab import drive\n",
    "drive.mount('/content/drive')"
   ]
  },
  {
   "cell_type": "code",
   "execution_count": 2,
   "metadata": {
    "colab": {
     "base_uri": "https://localhost:8080/"
    },
    "id": "0KzQRtOXt5c-",
    "outputId": "a469ec8c-1ff2-4cbd-8f17-c508230d8f45"
   },
   "outputs": [
    {
     "name": "stdout",
     "output_type": "stream",
     "text": [
      "/content/drive/My Drive/Colab Notebooks\n"
     ]
    }
   ],
   "source": [
    "%cd /content/drive/My Drive/Colab Notebooks"
   ]
  },
  {
   "cell_type": "code",
   "execution_count": 3,
   "metadata": {
    "colab": {
     "base_uri": "https://localhost:8080/"
    },
    "id": "480y5GAovYuA",
    "outputId": "0777bfe6-847b-4047-d8bc-a4ea2db6d61e"
   },
   "outputs": [
    {
     "name": "stderr",
     "output_type": "stream",
     "text": [
      "/usr/local/lib/python3.7/dist-packages/IPython/core/interactiveshell.py:2718: DtypeWarning: Columns (3) have mixed types.Specify dtype option on import or set low_memory=False.\n",
      "  interactivity=interactivity, compiler=compiler, result=result)\n"
     ]
    }
   ],
   "source": [
    "# Collect a dataset of internet advertisements and import the data into a data frame using pandas\n",
    "import pandas as pd\n",
    "df = pd.read_csv(\"ad.data\", header=None)\n",
    "df.rename(columns={1558:\"label\"}, inplace=True)"
   ]
  },
  {
   "cell_type": "code",
   "execution_count": 4,
   "metadata": {
    "id": "u5CWugvGv2lk"
   },
   "outputs": [],
   "source": [
    "# The data is dirty in the sense of having missing values. Let's find all the rows that have a missing values\n",
    "improper_rows = []\n",
    "for index, row in df.iterrows():\n",
    "  for col in df.columns:\n",
    "    val = str(row[col]).strip()\n",
    "    if val == \"?\":\n",
    "      improper_rows.append(index)"
   ]
  },
  {
   "cell_type": "code",
   "execution_count": 5,
   "metadata": {
    "id": "Xm3Ycp0lwVlQ"
   },
   "outputs": [],
   "source": [
    "# In the case at hand, it makes sense to drop the rows with missing values \n",
    "df = df.drop(df.index[list(set(improper_rows))])"
   ]
  },
  {
   "cell_type": "code",
   "execution_count": 6,
   "metadata": {
    "id": "54nD-VS4whvW"
   },
   "outputs": [],
   "source": [
    "# Convert the label into numerical form\n",
    "def label_to_numeric(row):\n",
    "  \"\"\"\n",
    "  Binarize the label\n",
    "  \"\"\"\n",
    "  if row[\"label\"] == \"ad.\":\n",
    "    return 1\n",
    "  else:\n",
    "    return 0"
   ]
  },
  {
   "cell_type": "code",
   "execution_count": 7,
   "metadata": {
    "id": "Z9qbSofrw5Ez"
   },
   "outputs": [],
   "source": [
    "df[\"label\"] = df.apply(label_to_numeric, axis=1)"
   ]
  },
  {
   "cell_type": "code",
   "execution_count": 8,
   "metadata": {
    "id": "SSGpCfHHw-07"
   },
   "outputs": [],
   "source": [
    "# Split the data into training and testing data\n",
    "from sklearn.model_selection import train_test_split\n",
    "df_train, df_test = train_test_split(df)\n"
   ]
  },
  {
   "cell_type": "code",
   "execution_count": 9,
   "metadata": {
    "id": "qRW8SHX3xNfZ"
   },
   "outputs": [],
   "source": [
    "# Distribute the data into feautre arrays and label arrays\n",
    "y_train = df_train.pop(\"label\").values\n",
    "y_test = df_test.pop(\"label\").values\n",
    "x_train = df_train.values\n",
    "x_test = df_test.values"
   ]
  },
  {
   "cell_type": "code",
   "execution_count": 10,
   "metadata": {
    "colab": {
     "base_uri": "https://localhost:8080/"
    },
    "id": "dSC3s6ZvxftN",
    "outputId": "8157a35e-9286-46e9-cfc0-3c231dfe300a"
   },
   "outputs": [
    {
     "data": {
      "text/plain": [
       "0.9728813559322034"
      ]
     },
     "execution_count": 10,
     "metadata": {
      "tags": []
     },
     "output_type": "execute_result"
    }
   ],
   "source": [
    "# Instantiate a random forest classifier and train it\n",
    "from sklearn.ensemble import RandomForestClassifier\n",
    "clf = RandomForestClassifier()\n",
    "clf.fit(x_train, y_train)\n",
    "clf.score(x_test,y_test)"
   ]
  },
  {
   "cell_type": "markdown",
   "metadata": {
    "id": "FNsKFp-Kx53Z"
   },
   "source": [
    "\n",
    "\n",
    "\n",
    "1.   Step 1: Import the dataset that has been feature-engineered for us\n",
    "\n",
    "2.   Step 2: Import the data into  a dataframe and look at the data, we see that it consists of 1558 numerical features and an add or non-ad label. The feautres encode the geometry of the image, sentences in the URL and the URL of the image, alt text, anchor text and words near the anchor text\n",
    "\n",
    "1.   Step 3 and 4: Predict whether an image has an ad or not and we proceed to clean our data by dropping rows with missing values\n",
    "\n",
    "1.   Step 5: Convert our target into numerical form\n",
    "\n",
    "1.   Step 6 and 7: Train-test split our data in preparation for learning.\n",
    "\n",
    "2.   Step 8 and 9: Fit and test a basic classifier on the data"
   ]
  },
  {
   "cell_type": "code",
   "execution_count": null,
   "metadata": {},
   "outputs": [],
   "source": []
  }
 ],
 "metadata": {
  "colab": {
   "name": "Udemy ad blocking using Machine Learning.ipynb",
   "provenance": []
  },
  "kernelspec": {
   "display_name": "Python 3 (ipykernel)",
   "language": "python",
   "name": "python3"
  },
  "language_info": {
   "codemirror_mode": {
    "name": "ipython",
    "version": 3
   },
   "file_extension": ".py",
   "mimetype": "text/x-python",
   "name": "python",
   "nbconvert_exporter": "python",
   "pygments_lexer": "ipython3",
   "version": "3.9.7"
  }
 },
 "nbformat": 4,
 "nbformat_minor": 1
}
