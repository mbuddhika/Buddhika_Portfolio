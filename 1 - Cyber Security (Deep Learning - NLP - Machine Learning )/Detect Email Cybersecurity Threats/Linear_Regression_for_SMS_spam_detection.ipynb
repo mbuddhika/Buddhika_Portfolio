{
 "cells": [
  {
   "cell_type": "code",
   "execution_count": 1,
   "metadata": {
    "colab": {
     "base_uri": "https://localhost:8080/"
    },
    "id": "k9kXYQfO6jWR",
    "outputId": "985ba404-e86f-4fbc-8b72-9860e17e3292"
   },
   "outputs": [
    {
     "name": "stdout",
     "output_type": "stream",
     "text": [
      "Mounted at /content/drive\n"
     ]
    }
   ],
   "source": [
    "from google.colab import drive\n",
    "drive.mount('/content/drive')"
   ]
  },
  {
   "cell_type": "code",
   "execution_count": 2,
   "metadata": {
    "colab": {
     "base_uri": "https://localhost:8080/"
    },
    "id": "HIZOcn2b6r1C",
    "outputId": "dbcd285f-936a-4ef1-e020-70b54477645b"
   },
   "outputs": [
    {
     "name": "stdout",
     "output_type": "stream",
     "text": [
      "/content/drive/My Drive/Colab Notebooks\n"
     ]
    }
   ],
   "source": [
    "%cd /content/drive/My Drive/Colab Notebooks"
   ]
  },
  {
   "cell_type": "code",
   "execution_count": 3,
   "metadata": {
    "id": "kFEl9T0h7KS1"
   },
   "outputs": [],
   "source": [
    "import pandas as pd\n",
    "import numpy as np\n"
   ]
  },
  {
   "cell_type": "code",
   "execution_count": 4,
   "metadata": {
    "id": "3viYCvJl7U3I"
   },
   "outputs": [],
   "source": [
    "df = pd.read_csv('datasets/sms_spam_perceptron.csv')\n",
    "x = df.iloc[:,[1,2]].values\n",
    "y=df.iloc[:, 0].values\n",
    "y= np.where(y=='spam',-1,1)"
   ]
  },
  {
   "cell_type": "code",
   "execution_count": 5,
   "metadata": {
    "colab": {
     "base_uri": "https://localhost:8080/"
    },
    "id": "RKMJB7gJ7rpj",
    "outputId": "3d701a48-151c-40d3-82cd-d8e216c40808"
   },
   "outputs": [
    {
     "name": "stdout",
     "output_type": "stream",
     "text": [
      "0.5609580848733504\n"
     ]
    }
   ],
   "source": [
    "from sklearn.linear_model import LinearRegression\n",
    "linear_regression = LinearRegression()\n",
    "linear_regression.fit(x,y)\n",
    "print(linear_regression.score(x,y))"
   ]
  }
 ],
 "metadata": {
  "colab": {
   "name": "Linear Regression for spam detection.ipynb",
   "provenance": []
  },
  "kernelspec": {
   "display_name": "Python 3 (ipykernel)",
   "language": "python",
   "name": "python3"
  },
  "language_info": {
   "codemirror_mode": {
    "name": "ipython",
    "version": 3
   },
   "file_extension": ".py",
   "mimetype": "text/x-python",
   "name": "python",
   "nbconvert_exporter": "python",
   "pygments_lexer": "ipython3",
   "version": "3.9.7"
  }
 },
 "nbformat": 4,
 "nbformat_minor": 1
}
