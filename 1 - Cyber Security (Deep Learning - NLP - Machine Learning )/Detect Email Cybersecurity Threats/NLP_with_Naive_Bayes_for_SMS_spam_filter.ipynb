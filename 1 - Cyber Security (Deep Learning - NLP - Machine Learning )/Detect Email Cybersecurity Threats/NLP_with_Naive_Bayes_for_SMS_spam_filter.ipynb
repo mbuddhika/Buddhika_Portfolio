{
 "cells": [
  {
   "cell_type": "code",
   "execution_count": 1,
   "metadata": {
    "colab": {
     "base_uri": "https://localhost:8080/"
    },
    "id": "AWbCxREZ5_OG",
    "outputId": "eca69387-eb30-42d4-a5ac-03803f992829"
   },
   "outputs": [
    {
     "name": "stdout",
     "output_type": "stream",
     "text": [
      "Mounted at /content/drive\n"
     ]
    }
   ],
   "source": [
    "from google.colab import drive\n",
    "drive.mount('/content/drive')"
   ]
  },
  {
   "cell_type": "code",
   "execution_count": 2,
   "metadata": {
    "colab": {
     "base_uri": "https://localhost:8080/"
    },
    "id": "F0SyVEMm6eIU",
    "outputId": "8cb7a28c-66ec-4b34-8604-5491e8ace761"
   },
   "outputs": [
    {
     "name": "stdout",
     "output_type": "stream",
     "text": [
      "/content/drive/My Drive/Colab Notebooks\n"
     ]
    }
   ],
   "source": [
    "%cd /content/drive/My Drive/Colab Notebooks"
   ]
  },
  {
   "cell_type": "code",
   "execution_count": 4,
   "metadata": {
    "id": "FUPQlwN68LVW"
   },
   "outputs": [],
   "source": [
    "import matplotlib.pyplot as plt\n",
    "import csv\n",
    "from textblob import TextBlob\n",
    "import pandas as pd\n",
    "import sklearn\n",
    "import numpy as np\n",
    "import nltk"
   ]
  },
  {
   "cell_type": "code",
   "execution_count": 5,
   "metadata": {
    "id": "ThKeSp2J8cEn"
   },
   "outputs": [],
   "source": [
    "from sklearn.feature_extraction.text import CountVectorizer, TfidfTransformer\n",
    "from sklearn.naive_bayes import MultinomialNB\n",
    "from sklearn.metrics import classification_report, accuracy_score\n",
    "from sklearn.model_selection import train_test_split"
   ]
  },
  {
   "cell_type": "code",
   "execution_count": 8,
   "metadata": {
    "colab": {
     "base_uri": "https://localhost:8080/"
    },
    "id": "Lsq9PBEI8vv3",
    "outputId": "6f43f2f9-1429-4095-db57-905383dc80e5"
   },
   "outputs": [
    {
     "name": "stdout",
     "output_type": "stream",
     "text": [
      "[nltk_data] Downloading package punkt to /root/nltk_data...\n",
      "[nltk_data]   Package punkt is already up-to-date!\n",
      "[nltk_data] Downloading package wordnet to /root/nltk_data...\n",
      "[nltk_data]   Unzipping corpora/wordnet.zip.\n"
     ]
    }
   ],
   "source": [
    "from defs import get_tokens\n",
    "from defs import get_lemmas\n",
    "nltk.download('punkt')\n",
    "nltk.download('wordnet')\n",
    "sms = pd.read_csv('datasets/sms_spam_no_header.csv', sep=',', names = [\"type\", \"text\"])\n",
    "text_train, text_test, type_train, type_test = train_test_split(sms['text'], sms['type'], test_size = 0.3)\n",
    "#bow stands for \"Bag of Words\"\n",
    "\n",
    "bow = CountVectorizer(analyzer=get_lemmas).fit(text_train)\n",
    "sms_bow = bow.transform(text_train)\n",
    "tfidf = TfidfTransformer().fit(sms_bow)\n",
    "sms_tfidf = tfidf.transform(sms_bow)\n",
    "spam_detector = MultinomialNB().fit(sms_tfidf, type_train)"
   ]
  },
  {
   "cell_type": "code",
   "execution_count": 10,
   "metadata": {
    "colab": {
     "base_uri": "https://localhost:8080/"
    },
    "id": "34uz2G4j-UYq",
    "outputId": "e1aa3d47-cf05-46bb-f8b0-dd1f483b0feb"
   },
   "outputs": [
    {
     "name": "stdout",
     "output_type": "stream",
     "text": [
      "predicted:  ham\n",
      "expected:  ham\n"
     ]
    }
   ],
   "source": [
    "msg = sms['text'][25]\n",
    "msg_bow = bow.transform([msg])\n",
    "msg_tfidf = tfidf.transform(msg_bow)\n",
    "\n",
    "print('predicted: ', spam_detector.predict(msg_tfidf)[0])\n",
    "print('expected: ', sms.type[25])"
   ]
  },
  {
   "cell_type": "code",
   "execution_count": 11,
   "metadata": {
    "colab": {
     "base_uri": "https://localhost:8080/"
    },
    "id": "H7UczIUj-2f7",
    "outputId": "5b1902b4-c5aa-474e-9749-364865f29d9c"
   },
   "outputs": [
    {
     "name": "stdout",
     "output_type": "stream",
     "text": [
      "predicted:  spam\n",
      "expected:  spam\n"
     ]
    }
   ],
   "source": [
    "msg = sms['text'][11]\n",
    "msg_bow = bow.transform([msg])\n",
    "msg_tfidf = tfidf.transform(msg_bow)\n",
    "\n",
    "print('predicted: ', spam_detector.predict(msg_tfidf)[0])\n",
    "print('expected: ', sms.type[11])"
   ]
  },
  {
   "cell_type": "code",
   "execution_count": 12,
   "metadata": {
    "colab": {
     "base_uri": "https://localhost:8080/"
    },
    "id": "NqiyRfvi--QE",
    "outputId": "965c1cfe-dc3c-4f56-f52f-968a5b2d3320"
   },
   "outputs": [
    {
     "name": "stdout",
     "output_type": "stream",
     "text": [
      "accuracy 0.7918482440399898\n"
     ]
    }
   ],
   "source": [
    "predictions = spam_detector.predict(sms_tfidf)\n",
    "print('accuracy', accuracy_score(sms['type'][:len(predictions)], predictions))"
   ]
  },
  {
   "cell_type": "code",
   "execution_count": 13,
   "metadata": {
    "colab": {
     "base_uri": "https://localhost:8080/"
    },
    "id": "NfwY0Z-y_WOv",
    "outputId": "1d632c10-32d7-4481-c475-9ddcdb9da2f7"
   },
   "outputs": [
    {
     "name": "stdout",
     "output_type": "stream",
     "text": [
      "              precision    recall  f1-score   support\n",
      "\n",
      "         ham       0.87      0.90      0.88      3382\n",
      "        spam       0.13      0.10      0.11       519\n",
      "\n",
      "    accuracy                           0.79      3901\n",
      "   macro avg       0.50      0.50      0.50      3901\n",
      "weighted avg       0.77      0.79      0.78      3901\n",
      "\n"
     ]
    }
   ],
   "source": [
    "print(classification_report(sms['type'][:len(predictions)], predictions))"
   ]
  }
 ],
 "metadata": {
  "colab": {
   "name": "NLP with Naive Bayes.ipynb",
   "provenance": []
  },
  "kernelspec": {
   "display_name": "Python 3 (ipykernel)",
   "language": "python",
   "name": "python3"
  },
  "language_info": {
   "codemirror_mode": {
    "name": "ipython",
    "version": 3
   },
   "file_extension": ".py",
   "mimetype": "text/x-python",
   "name": "python",
   "nbconvert_exporter": "python",
   "pygments_lexer": "ipython3",
   "version": "3.9.7"
  }
 },
 "nbformat": 4,
 "nbformat_minor": 1
}
