{
 "cells": [
  {
   "cell_type": "markdown",
   "metadata": {
    "id": "TMFSwg_uBI8p"
   },
   "source": [
    "One of the main techniques in steganography is hiding message in images by altering the **least significant bits (LSB)** of the pixels with those of the message bits. The result is an image with a message hidden in it that the human eye can not distinguish from the origninal iamge. This is because, on changing the LSB in the pixels of an image, the pixel values are only altered by a small amount , resulting in a visually similar image.\n",
    "\n",
    "There are two prominent methods for LSB\n",
    "\n",
    "\n",
    "1.   The naive method is called LSB replacement. In this method, the LSB bit remains unchanged if the message bit is the same as the LSB; otherwise, the bit is altered. Hence the odd pixels are reduced by 1 in intensity, whereas the even pixel values are incremented by 1. However, this causes an imbalance in the image histogram which can be easily detected by statistical emthods for steganalysis.\n",
    "2.   The second method of LSB steganography, LSB mathcing, solves this issue by randomly incrementing or decrementing the pixel values by 1 in the case of an LSB bit mismathc. This will avoud the issue of historgram imbalance and makes it difficult to perform steganalysis by using simple statiscial methods alone.\n"
   ]
  },
  {
   "cell_type": "code",
   "execution_count": null,
   "metadata": {
    "colab": {
     "base_uri": "https://localhost:8080/"
    },
    "id": "tFdA4JFd_0zE",
    "outputId": "6ef0294c-cb99-4735-9c84-51ffe561fe12"
   },
   "outputs": [
    {
     "name": "stdout",
     "output_type": "stream",
     "text": [
      "Mounted at /content/drive\n"
     ]
    }
   ],
   "source": [
    "from google.colab import drive\n",
    "drive.mount('/content/drive')"
   ]
  },
  {
   "cell_type": "code",
   "execution_count": null,
   "metadata": {
    "colab": {
     "base_uri": "https://localhost:8080/"
    },
    "id": "wHEQkbyFAKuy",
    "outputId": "0490e11f-2291-4a26-d60a-9c73813f6482"
   },
   "outputs": [
    {
     "name": "stdout",
     "output_type": "stream",
     "text": [
      "/content/drive/My Drive/Colab Notebooks\n"
     ]
    }
   ],
   "source": [
    "%cd /content/drive/My Drive/Colab Notebooks"
   ]
  },
  {
   "cell_type": "code",
   "execution_count": null,
   "metadata": {
    "id": "TtTa97OKDa-M"
   },
   "outputs": [],
   "source": [
    "# Create some variables that point to the path of the extracted features\n",
    "boss_features_path = \"bossbase.fea\"\n",
    "bossbase_lsb_features_path= \"bossbase_lsb.fea\""
   ]
  },
  {
   "cell_type": "code",
   "execution_count": null,
   "metadata": {
    "id": "SuGKxg6_DwP1"
   },
   "outputs": [],
   "source": [
    "features_with_labels = [(boss_features_path,0),(bossbase_lsb_features_path, 0)]"
   ]
  },
  {
   "cell_type": "code",
   "execution_count": null,
   "metadata": {
    "id": "BswcTB8RD7yP"
   },
   "outputs": [],
   "source": [
    "# Collect the featuers and labels and put them in arrays\n",
    "X = []\n",
    "y = []\n",
    "for feature_path, label in features_with_labels:\n",
    "  with open(feature_path,\"r\") as f:\n",
    "    for line in f:\n",
    "      fv = line.split()\n",
    "      X.append(fv)\n",
    "      y.append(label)"
   ]
  },
  {
   "cell_type": "code",
   "execution_count": null,
   "metadata": {
    "id": "UrxcRrUaEYfG"
   },
   "outputs": [],
   "source": [
    "# Perform a train-test split\n",
    "from sklearn.model_selection import train_test_split\n",
    "X_train, X_test, y_train, y_test = train_test_split(X,y, test_size = 0.2, random_state = 11)"
   ]
  },
  {
   "cell_type": "code",
   "execution_count": null,
   "metadata": {
    "id": "MgOEyWmEEtxb"
   },
   "outputs": [],
   "source": [
    "# Instantiate a RandomeForestClassifier and train it.\n",
    "from sklearn.ensemble import RandomForestClassifier\n",
    "clf = RandomForestClassifier()\n",
    "clf = clf.fit(X_train, y_train)"
   ]
  },
  {
   "cell_type": "code",
   "execution_count": null,
   "metadata": {
    "colab": {
     "base_uri": "https://localhost:8080/"
    },
    "id": "YRUngXkBE79N",
    "outputId": "05fa1b4b-ee8a-4c6b-eac8-b3cec51dd67f"
   },
   "outputs": [
    {
     "name": "stdout",
     "output_type": "stream",
     "text": [
      "1.0\n"
     ]
    }
   ],
   "source": [
    "# Score the classifier on the test set\n",
    "print(clf.score(X_test, y_test))"
   ]
  },
  {
   "cell_type": "markdown",
   "metadata": {
    "id": "_7BrY_ARFFHL"
   },
   "source": [
    "\n",
    "\n",
    "*   Step 1: Create a large dataset of LSB steganography container images using the software known as Aletheia. It offers a wide array of functionality \n",
    "\n",
    "*   Step 2 and 3: Extract fearues of the plan iamges and container images\n",
    "\n",
    "*   Step 4 : Create variables poiting to paths of our dataset.\n",
    "\n",
    "*   Step 5: Collect our features and our labels into arrays\n",
    "\n",
    "*   Step 6-8: Create a train-test split, train a classifier and then test it. \n",
    "\n",
    "\n",
    "The performance of the model is 100% on the balanced dataset, we cna see that the features do help us to distinguish between plain and container images. In orther words, we can conclude that our Machine learning model detect steganography very well.\n",
    "\n"
   ]
  }
 ],
 "metadata": {
  "accelerator": "GPU",
  "colab": {
   "name": "Machine Learning-based Steganalysis Udemy.ipynb",
   "provenance": []
  },
  "kernelspec": {
   "display_name": "Python 3 (ipykernel)",
   "language": "python",
   "name": "python3"
  },
  "language_info": {
   "codemirror_mode": {
    "name": "ipython",
    "version": 3
   },
   "file_extension": ".py",
   "mimetype": "text/x-python",
   "name": "python",
   "nbconvert_exporter": "python",
   "pygments_lexer": "ipython3",
   "version": "3.9.7"
  }
 },
 "nbformat": 4,
 "nbformat_minor": 1
}
