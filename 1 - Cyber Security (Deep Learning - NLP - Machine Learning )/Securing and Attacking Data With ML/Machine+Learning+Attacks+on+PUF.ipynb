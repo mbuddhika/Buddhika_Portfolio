{
 "cells": [
  {
   "cell_type": "markdown",
   "metadata": {
    "id": "mETEclxEIZnd"
   },
   "source": [
    "Classical cryptography offers several measures for securing electronic devices. These mainly rely on a secret key and expensive resoruces due to the device permanently storing a piece of digital information that is unknown to our adversaries. In practice, it is difficult to keep this information confidential. This problem motivated the invention of PUF- physical devices that produce an output that is quick t evaluate yet hard to predict.\n",
    "\n",
    "To authenticate using a PUF, we need to construct a database of Challenge-Response Pairs( CRPs). A challenge is that a binary string (for example , 1100101...01) of length n, and a response is ome other binary string of length m. To find out whether an unknown device is the aforementioned PUF, we need to issue it a number of challenges, verifying that it produces the correct responses until we reach teh deriserd probability that it is indeed the same PUF. Note that PUFs themselves are not 100% reliable and the same challenge may yield different responses due to varying environmental conditions and noise.\n",
    "\n",
    "In this project we will be attacking a specific PUF using ML. Note that the field is evolving and other more secure, PUFs have been proposed as well as methods to increase the reliability and security of PUFs using ML."
   ]
  },
  {
   "cell_type": "code",
   "execution_count": null,
   "metadata": {
    "colab": {
     "base_uri": "https://localhost:8080/"
    },
    "executionInfo": {
     "elapsed": 49159,
     "status": "ok",
     "timestamp": 1619942998564,
     "user": {
      "displayName": "Jack La",
      "photoUrl": "",
      "userId": "10615252460498927001"
     },
     "user_tz": -570
    },
    "id": "RDF-w18ZHkx8",
    "outputId": "48d0cd0f-dc0a-41a5-9443-98b52c49d6a5"
   },
   "outputs": [
    {
     "name": "stdout",
     "output_type": "stream",
     "text": [
      "Mounted at /content/drive\n"
     ]
    }
   ],
   "source": [
    "from google.colab import drive\n",
    "drive.mount('/content/drive')"
   ]
  },
  {
   "cell_type": "code",
   "execution_count": null,
   "metadata": {
    "colab": {
     "base_uri": "https://localhost:8080/"
    },
    "executionInfo": {
     "elapsed": 49156,
     "status": "ok",
     "timestamp": 1619942998565,
     "user": {
      "displayName": "Jack La",
      "photoUrl": "",
      "userId": "10615252460498927001"
     },
     "user_tz": -570
    },
    "id": "kXEmgGFKHy8q",
    "outputId": "c48db89f-60d7-4b7a-9f87-3a2414977861"
   },
   "outputs": [
    {
     "name": "stdout",
     "output_type": "stream",
     "text": [
      "/content/drive/My Drive/Colab Notebooks\n"
     ]
    }
   ],
   "source": [
    "%cd /content/drive/My Drive/Colab Notebooks"
   ]
  },
  {
   "cell_type": "code",
   "execution_count": null,
   "metadata": {
    "id": "m93TFT3tKPT4"
   },
   "outputs": [],
   "source": [
    "import pandas as pd\n",
    "df  = pd.read_csv(\"CRPdataset.csv\")"
   ]
  },
  {
   "cell_type": "markdown",
   "metadata": {
    "id": "kFBg3yWXKaqu"
   },
   "source": [
    "The data is made up of paris (x,y) where x is a binrary string that is 64 in length and y is a binary digit. Here x is a challenge and y is a response"
   ]
  },
  {
   "cell_type": "code",
   "execution_count": null,
   "metadata": {
    "id": "Z7ARuqF1Kmts"
   },
   "outputs": [],
   "source": [
    "# Convert the pandas dataframe into a Numpy array of features and labels\n",
    "y = df.pop(\"Label\").values\n",
    "X = df.values"
   ]
  },
  {
   "cell_type": "code",
   "execution_count": null,
   "metadata": {
    "id": "LSmHNWWWK0GL"
   },
   "outputs": [],
   "source": [
    "# Perform a train-test split\n",
    "from sklearn.model_selection import train_test_split\n",
    "X_train, X_Test, y_train, y_test = train_test_split(X, y, test_size = 0.25, random_state = 11)"
   ]
  },
  {
   "cell_type": "code",
   "execution_count": null,
   "metadata": {
    "colab": {
     "base_uri": "https://localhost:8080/"
    },
    "executionInfo": {
     "elapsed": 2714,
     "status": "ok",
     "timestamp": 1619943853558,
     "user": {
      "displayName": "Jack La",
      "photoUrl": "",
      "userId": "10615252460498927001"
     },
     "user_tz": -570
    },
    "id": "XZX15sdOLJrA",
    "outputId": "f221d8ba-25eb-408a-e3fd-7bae78aa874a"
   },
   "outputs": [
    {
     "name": "stdout",
     "output_type": "stream",
     "text": [
      "0.6493333333333333\n"
     ]
    }
   ],
   "source": [
    "# Instantiate and train an XGBoost classifier\n",
    "from xgboost import XGBClassifier\n",
    "clf = XGBClassifier()\n",
    "clf.fit(X_train, y_train)\n",
    "print(clf.score(X_train, y_train))"
   ]
  },
  {
   "cell_type": "code",
   "execution_count": null,
   "metadata": {
    "colab": {
     "base_uri": "https://localhost:8080/"
    },
    "executionInfo": {
     "elapsed": 1054,
     "status": "ok",
     "timestamp": 1619943884107,
     "user": {
      "displayName": "Jack La",
      "photoUrl": "",
      "userId": "10615252460498927001"
     },
     "user_tz": -570
    },
    "id": "HUYhHb07Laa9",
    "outputId": "0a3a6e3d-a11b-4ef3-cafc-f30e2e52929e"
   },
   "outputs": [
    {
     "data": {
      "text/plain": [
       "0.6126666666666667"
      ]
     },
     "execution_count": 7,
     "metadata": {
      "tags": []
     },
     "output_type": "execute_result"
    }
   ],
   "source": [
    "# Test the classifier\n",
    "clf.score(X_Test, y_test)"
   ]
  },
  {
   "cell_type": "markdown",
   "metadata": {
    "id": "801UZmk2-qSP"
   },
   "source": [
    "\n",
    "\n",
    "1.   Step 1: Start by reading a CRP dataset into a dataframe\n",
    "\n",
    "1.   Step 2: Create x and y Numpy arrays to hold the feautres and labels\n",
    "\n",
    "1.   Step 3: Start to perform train-test split\n",
    "\n",
    "1.   Step 4 and 5: Train the model and test a classifier for CRPs\n",
    "\n",
    "Based on the performance we can see that ML can accurately predict responses to PUF chanllegens. The implications are that, while using our trained model we can build a software clone of the PUF and use it to (falsely) authenticate.\n"
   ]
  }
 ],
 "metadata": {
  "accelerator": "GPU",
  "colab": {
   "authorship_tag": "ABX9TyPnbwl5lsSaREDiWWbQ4ojr",
   "name": "Machine Learning Attacks on PUF Udemy.ipynb",
   "provenance": []
  },
  "kernelspec": {
   "display_name": "Python 3 (ipykernel)",
   "language": "python",
   "name": "python3"
  },
  "language_info": {
   "codemirror_mode": {
    "name": "ipython",
    "version": 3
   },
   "file_extension": ".py",
   "mimetype": "text/x-python",
   "name": "python",
   "nbconvert_exporter": "python",
   "pygments_lexer": "ipython3",
   "version": "3.9.7"
  }
 },
 "nbformat": 4,
 "nbformat_minor": 1
}
