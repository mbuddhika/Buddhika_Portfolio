{
 "cells": [
  {
   "cell_type": "code",
   "execution_count": 1,
   "metadata": {
    "colab": {
     "base_uri": "https://localhost:8080/"
    },
    "id": "oheXobLv3IXW",
    "outputId": "557493f1-f2ea-4cc3-906f-7c3e6a35fec5"
   },
   "outputs": [
    {
     "name": "stdout",
     "output_type": "stream",
     "text": [
      "Mounted at /content/drive\n"
     ]
    }
   ],
   "source": [
    "from google.colab import drive\n",
    "drive.mount('/content/drive')"
   ]
  },
  {
   "cell_type": "code",
   "execution_count": 2,
   "metadata": {
    "colab": {
     "base_uri": "https://localhost:8080/"
    },
    "id": "uoeJk4mm3seN",
    "outputId": "46d9b7c2-8b5a-4f57-f4d8-7b3eb29cc0db"
   },
   "outputs": [
    {
     "name": "stdout",
     "output_type": "stream",
     "text": [
      "/content/drive/My Drive/Colab Notebooks\n"
     ]
    }
   ],
   "source": [
    "%cd /content/drive/My Drive/Colab Notebooks"
   ]
  },
  {
   "cell_type": "code",
   "execution_count": 3,
   "metadata": {
    "id": "epi_kAOf4BKs"
   },
   "outputs": [],
   "source": [
    "import pandas as pd\n",
    "import numpy as np\n",
    "from sklearn import *\n",
    "from sklearn.metrics import accuracy_score"
   ]
  },
  {
   "cell_type": "code",
   "execution_count": 4,
   "metadata": {
    "id": "CmlwL67D4OFb"
   },
   "outputs": [],
   "source": [
    "malware_dataset = pd.read_csv(\"datasets1/MalwareArtifacts.csv\", delimiter=',')"
   ]
  },
  {
   "cell_type": "code",
   "execution_count": 6,
   "metadata": {
    "id": "E9J1BzoQ4dIq"
   },
   "outputs": [],
   "source": [
    "#Extract artifacts samples fileds \"AddressOfEntryPoint\" and \"DLLCharacteristics\"\n",
    "samples = malware_dataset.iloc[:, [0, 4]].values\n",
    "targets = malware_dataset.iloc[:, 8].values"
   ]
  },
  {
   "cell_type": "code",
   "execution_count": 7,
   "metadata": {
    "id": "gdXEI9GJ5HXD"
   },
   "outputs": [],
   "source": [
    "from sklearn.model_selection import train_test_split\n",
    "training_samples, testing_samples, training_targets, testing_targets = train_test_split(samples, targets, test_size = 0.2, random_state = 0)\n"
   ]
  },
  {
   "cell_type": "code",
   "execution_count": 8,
   "metadata": {
    "colab": {
     "base_uri": "https://localhost:8080/"
    },
    "id": "4h33N4dB5bg-",
    "outputId": "0f8f3fe6-20a3-416e-acc9-581c5722b70f"
   },
   "outputs": [
    {
     "name": "stdout",
     "output_type": "stream",
     "text": [
      "Decision Tree accuracy: 96.27487358579796\n"
     ]
    }
   ],
   "source": [
    "from sklearn import tree\n",
    "tree_classifer = tree.DecisionTreeClassifier()\n",
    "tree_classifer.fit(training_samples, training_targets)\n",
    "predictions = tree_classifer.predict(testing_samples)\n",
    "accuracy = 100* accuracy_score(testing_targets, predictions)\n",
    "print(\"Decision Tree accuracy: \" + str(accuracy))"
   ]
  }
 ],
 "metadata": {
  "colab": {
   "name": "Udemy Malware detection with decision trees.ipynb",
   "provenance": []
  },
  "kernelspec": {
   "display_name": "Python 3 (ipykernel)",
   "language": "python",
   "name": "python3"
  },
  "language_info": {
   "codemirror_mode": {
    "name": "ipython",
    "version": 3
   },
   "file_extension": ".py",
   "mimetype": "text/x-python",
   "name": "python",
   "nbconvert_exporter": "python",
   "pygments_lexer": "ipython3",
   "version": "3.9.7"
  }
 },
 "nbformat": 4,
 "nbformat_minor": 1
}
