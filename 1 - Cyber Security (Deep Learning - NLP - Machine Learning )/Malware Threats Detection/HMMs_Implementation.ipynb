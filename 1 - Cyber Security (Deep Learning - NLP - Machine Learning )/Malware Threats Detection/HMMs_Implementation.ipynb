{
 "cells": [
  {
   "cell_type": "code",
   "execution_count": 1,
   "metadata": {
    "id": "qkY7YQDJBlH9"
   },
   "outputs": [],
   "source": [
    "ob_types = ('W','N')\n",
    "# W for working and N for not working\n",
    "states = ('L','M')\n",
    "#M is the malicious and L is Legitimate"
   ]
  },
  {
   "cell_type": "code",
   "execution_count": 3,
   "metadata": {
    "id": "9uDupL1ZCYWK"
   },
   "outputs": [],
   "source": [
    "import numpy as np\n",
    "observation = ('W','W','W','N')\n",
    "start = np.matrix('0.1 0.9')\n",
    "transition = np.matrix('0.7 0.3 ; 0.1 0.9')\n",
    "emission = np.matrix('0.2 0.8 ; 0.4 0.6')"
   ]
  },
  {
   "cell_type": "code",
   "execution_count": 4,
   "metadata": {
    "colab": {
     "base_uri": "https://localhost:8080/"
    },
    "id": "xHChdT6iDSUy",
    "outputId": "354555cd-60ab-4f46-89d0-8e5d9f1eaffd"
   },
   "outputs": [
    {
     "name": "stdout",
     "output_type": "stream",
     "text": [
      "Mounted at /content/drive\n"
     ]
    }
   ],
   "source": [
    "from google.colab import drive\n",
    "drive.mount('/content/drive')"
   ]
  },
  {
   "cell_type": "code",
   "execution_count": 5,
   "metadata": {
    "colab": {
     "base_uri": "https://localhost:8080/"
    },
    "id": "NiOosKV-Dsp2",
    "outputId": "4a300057-6b49-442c-b1ba-2ab9cc8376c4"
   },
   "outputs": [
    {
     "name": "stdout",
     "output_type": "stream",
     "text": [
      "/content/drive/My Drive/Colab Notebooks\n"
     ]
    }
   ],
   "source": [
    "%cd /content/drive/My Drive/Colab Notebooks"
   ]
  },
  {
   "cell_type": "code",
   "execution_count": 6,
   "metadata": {
    "colab": {
     "base_uri": "https://localhost:8080/"
    },
    "id": "b2nYpyLCDwRE",
    "outputId": "3eb61a16-39a3-4cdf-82b4-975249b7ac75"
   },
   "outputs": [
    {
     "name": "stdout",
     "output_type": "stream",
     "text": [
      "Forward algorithm\n",
      "0.033196\n",
      "Viterbi algorithm: \n",
      "['M', 'M', 'M', 'M']\n"
     ]
    }
   ],
   "source": [
    "from hidden_markov import hmm\n",
    "ob_types = ('W','N')\n",
    "# W for working and N for not working\n",
    "states = ('L','M')\n",
    "#M is the malicious and L is Legitimate\n",
    "observation = ('W','W','W','N')\n",
    "start = np.matrix('0.1 0.9')\n",
    "transition = np.matrix('0.7 0.3 ; 0.1 0.9')\n",
    "emission = np.matrix('0.2 0.8 ; 0.4 0.6')\n",
    "_hmm = hmm(states, ob_types, start, transition,emission)\n",
    "print(\"Forward algorithm\")\n",
    "print(_hmm.forward_algo(observation))\n",
    "print(\"Viterbi algorithm: \")\n",
    "print(_hmm.viterbi(observation))"
   ]
  },
  {
   "cell_type": "markdown",
   "metadata": {
    "id": "tU3B6LwuEjdg"
   },
   "source": [
    "Forward algorithm gives us the probability of an observerd sequence in the HMM\n",
    "\n",
    "Viterbi algorithm is used to find out the most likely sequence of hidden states that can generate the given set of observations"
   ]
  }
 ],
 "metadata": {
  "colab": {
   "collapsed_sections": [],
   "name": "HMMs Implementation udemy.ipynb",
   "provenance": []
  },
  "kernelspec": {
   "display_name": "Python 3 (ipykernel)",
   "language": "python",
   "name": "python3"
  },
  "language_info": {
   "codemirror_mode": {
    "name": "ipython",
    "version": 3
   },
   "file_extension": ".py",
   "mimetype": "text/x-python",
   "name": "python",
   "nbconvert_exporter": "python",
   "pygments_lexer": "ipython3",
   "version": "3.9.7"
  }
 },
 "nbformat": 4,
 "nbformat_minor": 1
}
