{
 "cells": [
  {
   "cell_type": "code",
   "execution_count": 1,
   "metadata": {
    "id": "MW2Tqj4Ngo-j"
   },
   "outputs": [],
   "source": [
    "# Import pandas and read the data pertaining to transactions into a dataframe\n",
    "import pandas as pd"
   ]
  },
  {
   "cell_type": "code",
   "execution_count": 2,
   "metadata": {
    "colab": {
     "base_uri": "https://localhost:8080/"
    },
    "id": "l11HL1T2itzH",
    "outputId": "a23958ee-53fa-40fc-c6bb-ab3a93445f80"
   },
   "outputs": [
    {
     "name": "stdout",
     "output_type": "stream",
     "text": [
      "Mounted at /content/drive\n"
     ]
    }
   ],
   "source": [
    "from google.colab import drive\n",
    "drive.mount('/content/drive')"
   ]
  },
  {
   "cell_type": "code",
   "execution_count": 3,
   "metadata": {
    "colab": {
     "base_uri": "https://localhost:8080/"
    },
    "id": "eawS1gQrivKr",
    "outputId": "74228cd6-d9ea-40dc-e4cb-77987da11517"
   },
   "outputs": [
    {
     "name": "stdout",
     "output_type": "stream",
     "text": [
      "/content/drive/My Drive/Colab Notebooks\n"
     ]
    }
   ],
   "source": [
    "%cd /content/drive/My Drive/Colab Notebooks"
   ]
  },
  {
   "cell_type": "code",
   "execution_count": 4,
   "metadata": {
    "id": "0aFKMDuPi457"
   },
   "outputs": [],
   "source": [
    "fraud_df = pd.read_csv(\"FinancialFraudDB.csv\", index_col=None)"
   ]
  },
  {
   "cell_type": "code",
   "execution_count": 5,
   "metadata": {
    "id": "jqMacoZ4jDxy"
   },
   "outputs": [],
   "source": [
    "card_replacement_cost = 5\n",
    "customer_freeze_cost = 3"
   ]
  },
  {
   "cell_type": "code",
   "execution_count": 6,
   "metadata": {
    "id": "vxOcHLrBjKX2"
   },
   "outputs": [],
   "source": [
    "# Define a cost matrix corresponding to the figure\n",
    "import numpy as np\n",
    "cost_matrix = np.zeros((len(fraud_df.index),4))\n",
    "cost_matrix[:, 0] = customer_freeze_cost *np.ones(len(fraud_df.index))\n",
    "cost_matrix[:, 1] = fraud_df[\"Amount\"].values\n",
    "cost_matrix[:, 2] = card_replacement_cost *np.ones(len(fraud_df.index))"
   ]
  },
  {
   "cell_type": "code",
   "execution_count": 7,
   "metadata": {
    "id": "sAsH5Z4jjt5g"
   },
   "outputs": [],
   "source": [
    "#Create labels and feature matrices\n",
    "y = fraud_df.pop(\"Class\").values\n",
    "x = fraud_df.values"
   ]
  },
  {
   "cell_type": "code",
   "execution_count": 8,
   "metadata": {
    "id": "40Lu4YjSj6bc"
   },
   "outputs": [],
   "source": [
    "# Create a train-test split\n",
    "from sklearn.model_selection import train_test_split\n",
    "sets = train_test_split(x, y, cost_matrix, test_size=0.25, random_state = 11)\n",
    "x_train, x_test,y_train,y_test, cost_matrix_train, cost_matrix_test = sets"
   ]
  },
  {
   "cell_type": "code",
   "execution_count": 9,
   "metadata": {
    "id": "-dV7fz5hkUxF"
   },
   "outputs": [],
   "source": [
    "# Import the decision tree, fit it to the training data and then predict on the testing set\n",
    "from sklearn import tree\n",
    "y_pred_test_dt = tree.DecisionTreeClassifier().fit(x_train,y_train).predict(x_test)"
   ]
  },
  {
   "cell_type": "code",
   "execution_count": 10,
   "metadata": {
    "colab": {
     "base_uri": "https://localhost:8080/"
    },
    "id": "3z84-A1ik1Ii",
    "outputId": "b88fc24d-0b0f-4a25-f5cc-2d75e3c6d7cc"
   },
   "outputs": [
    {
     "name": "stdout",
     "output_type": "stream",
     "text": [
      "Collecting costcla\n",
      "\u001b[?25l  Downloading https://files.pythonhosted.org/packages/88/c4/1e2e6495e81d37c974d7f8ce6720afbe695bb1a918358aba72c5e1df7efe/costcla-0.6-py3-none-any.whl (4.0MB)\n",
      "\u001b[K     |████████████████████████████████| 4.0MB 6.4MB/s \n",
      "\u001b[?25hRequirement already satisfied: scikit-learn>=0.15.0b2 in /usr/local/lib/python3.7/dist-packages (from costcla) (0.22.2.post1)\n",
      "Requirement already satisfied: numpy>=1.8.0 in /usr/local/lib/python3.7/dist-packages (from costcla) (1.19.5)\n",
      "Requirement already satisfied: pandas>=0.14.0 in /usr/local/lib/python3.7/dist-packages (from costcla) (1.1.5)\n",
      "Collecting pyea>=0.2\n",
      "  Downloading https://files.pythonhosted.org/packages/e0/d1/628c0a358b105f4d3a33f46ac31b18f3ff468cd3402c73f3c0e9d02da025/pyea-0.2.tar.gz\n",
      "Requirement already satisfied: scipy>=0.17.0 in /usr/local/lib/python3.7/dist-packages (from scikit-learn>=0.15.0b2->costcla) (1.4.1)\n",
      "Requirement already satisfied: joblib>=0.11 in /usr/local/lib/python3.7/dist-packages (from scikit-learn>=0.15.0b2->costcla) (1.0.1)\n",
      "Requirement already satisfied: python-dateutil>=2.7.3 in /usr/local/lib/python3.7/dist-packages (from pandas>=0.14.0->costcla) (2.8.1)\n",
      "Requirement already satisfied: pytz>=2017.2 in /usr/local/lib/python3.7/dist-packages (from pandas>=0.14.0->costcla) (2018.9)\n",
      "Requirement already satisfied: six>=1.5 in /usr/local/lib/python3.7/dist-packages (from python-dateutil>=2.7.3->pandas>=0.14.0->costcla) (1.15.0)\n",
      "Building wheels for collected packages: pyea\n",
      "  Building wheel for pyea (setup.py) ... \u001b[?25l\u001b[?25hdone\n",
      "  Created wheel for pyea: filename=pyea-0.2-cp37-none-any.whl size=6017 sha256=ea1864bad8a19c517844a4db32465b4dda1ae1771d5712a653efc4be3cfa3463\n",
      "  Stored in directory: /root/.cache/pip/wheels/3c/bf/6e/06f8b0ed23cbc1fe956f8b6756535cb36f0b68c2f0f2342178\n",
      "Successfully built pyea\n",
      "Installing collected packages: pyea, costcla\n",
      "Successfully installed costcla-0.6 pyea-0.2\n"
     ]
    }
   ],
   "source": [
    "!pip install costcla"
   ]
  },
  {
   "cell_type": "code",
   "execution_count": 11,
   "metadata": {
    "id": "RXnWrg2BkpZ4"
   },
   "outputs": [],
   "source": [
    "# Import the cost-sensitive decision tree, fit it to the training data and then predict on the testing set\n",
    "from costcla.models import CostSensitiveDecisionTreeClassifier\n",
    "y_pred_test_csdt = CostSensitiveDecisionTreeClassifier().fit(x_train, y_train, cost_matrix_train).predict(x_test)"
   ]
  },
  {
   "cell_type": "code",
   "execution_count": 12,
   "metadata": {
    "colab": {
     "base_uri": "https://localhost:8080/"
    },
    "id": "c561FUL6lLMJ",
    "outputId": "18ca8d87-5fa0-45a8-db48-2103178778b8"
   },
   "outputs": [
    {
     "name": "stdout",
     "output_type": "stream",
     "text": [
      "0.589451281204447\n",
      "0.6251576934715533\n"
     ]
    }
   ],
   "source": [
    "# Calculate the savings score of the 2 models\n",
    "from costcla.metrics import savings_score\n",
    "\n",
    "print(savings_score(y_test, y_pred_test_dt, cost_matrix_test))\n",
    "print(savings_score(y_test, y_pred_test_csdt, cost_matrix_test))"
   ]
  },
  {
   "cell_type": "markdown",
   "metadata": {
    "id": "GjTj4g6LmWYX"
   },
   "source": [
    "\n",
    "\n",
    "1.   Step 1: Load the data\n",
    "\n",
    "1.   Step 2: Set an administrative cost based on the expected cost of replacing a credit card. I did estimate the business cost of freezing a customer's banking operations until all transactions are verified\n",
    "\n",
    "1.   Step 3. I define the cost matrix based on the parameters which I have defined and it takes into account the administrative cost of replacing a credit card, business interruption from freezing a customer and so on.\n",
    "\n",
    "1.   Step 4 and 5. Split our data into train-test set\n",
    "\n",
    "2.   Step 6: Instantiate a simple classifier, train it and then use it to predict on the testing set\n",
    "\n",
    "2.   Step 7: Utilize the cost-sensitive random forest model from the costcla library to do the same\n",
    "\n",
    "2.   Step 8: Utilize the savings_score function from costcla to calculate the savings cost of using y_pred on y_true with a cost matrix. The higher the number the larger the cost savings\n",
    "\n",
    "\n",
    "\n"
   ]
  }
 ],
 "metadata": {
  "colab": {
   "collapsed_sections": [],
   "name": "Udemy Credit Card Fraud detection.ipynb",
   "provenance": []
  },
  "kernelspec": {
   "display_name": "Python 3 (ipykernel)",
   "language": "python",
   "name": "python3"
  },
  "language_info": {
   "codemirror_mode": {
    "name": "ipython",
    "version": 3
   },
   "file_extension": ".py",
   "mimetype": "text/x-python",
   "name": "python",
   "nbconvert_exporter": "python",
   "pygments_lexer": "ipython3",
   "version": "3.9.7"
  }
 },
 "nbformat": 4,
 "nbformat_minor": 1
}
